{
 "cells": [
  {
   "cell_type": "markdown",
   "metadata": {},
   "source": [
    "# Sentiment analysis on Covid-19 tweets with deep learning\n",
    "\n",
    "Classify 45k tweets on Covid-19 as positive or negative based on the following deep learning models: \n",
    "\n",
    "* Simple RNN\n",
    "* LSTM\n",
    "* GRU \n",
    "* Bidirectional LSTM\n",
    "\n",
    "The tweets are preprocessed using the following NLP methods before being fed as inputs to the neural network models: \n",
    "\n",
    "* Keras embedding layers \n",
    "* Pre-trained Spacy word embeddings"
   ]
  },
  {
   "cell_type": "code",
   "execution_count": 97,
   "metadata": {},
   "outputs": [],
   "source": [
    "import pandas as pd\n",
    "import numpy as np\n",
    "import re\n",
    "from matplotlib import pyplot as plt\n",
    "import string\n",
    "import joblib\n",
    "\n",
    "from warnings import filterwarnings\n",
    "filterwarnings(\"ignore\")\n",
    "\n",
    "import tensorflow as tf\n",
    "from tensorflow.keras import layers\n",
    "from tensorflow.keras.preprocessing.text import Tokenizer\n",
    "from tensorflow.keras.preprocessing.sequence import pad_sequences\n",
    "from tensorflow.keras.optimizers import Adam\n",
    "\n",
    "from __future__ import absolute_import, division, print_function, unicode_literals\n",
    "\n",
    "import spacy\n",
    "from spacy.lang.en.stop_words import STOP_WORDS\n",
    "import collections\n",
    "from collections import Counter\n",
    "import sklearn\n",
    "from sklearn.metrics import roc_auc_score\n",
    "from sklearn.preprocessing import LabelEncoder\n",
    "\n",
    "from numpy import asarray\n",
    "from numpy import savetxt\n",
    "from numpy import loadtxt\n",
    "\n",
    "import transformers\n",
    "from transformers import BertTokenizer, TFBertModel"
   ]
  },
  {
   "cell_type": "code",
   "execution_count": 98,
   "metadata": {},
   "outputs": [
    {
     "name": "stdout",
     "output_type": "stream",
     "text": [
      "import fine\n"
     ]
    }
   ],
   "source": [
    "try:\n",
    "    import h5py\n",
    "    print ('import fine')\n",
    "except ImportError:\n",
    "    h5py = None"
   ]
  },
  {
   "cell_type": "code",
   "execution_count": 99,
   "metadata": {},
   "outputs": [],
   "source": [
    "def preprocessor(text):\n",
    "    # convert to lowercase, susbstitute non alphanumerical characters with whitespaces\n",
    "    text = re.sub('<[^>]*>', '', text)\n",
    "    emoticons = re.findall('(?::|;|=)(?:-)?(?:\\)|\\(|D|P)', text)\n",
    "    text = (re.sub('[\\W]+', ' ', text.lower()) +\n",
    "            ' '.join(emoticons).replace('-', ''))\n",
    "    return text"
   ]
  },
  {
   "cell_type": "code",
   "execution_count": 100,
   "metadata": {},
   "outputs": [],
   "source": [
    "def test_performance(model, X_test): \n",
    "    ''' Given a fitted model and a test set, returns optimal hyperparameters, AUC and accuracy '''\n",
    "    clf_b = model.best_estimator_\n",
    "    y_pred_proba = clf_b.predict_proba(X_test)\n",
    "    y_pred = clf_b.predict(X_test)\n",
    "\n",
    "    # performance metrics\n",
    "    auc_res=roc_auc_score(y_test, y_pred_proba[:, 1])\n",
    "    acc = accuracy_score(y_test, y_pred)\n",
    "    \n",
    "    return (model.best_params_, auc_res, acc)\n"
   ]
  },
  {
   "cell_type": "markdown",
   "metadata": {},
   "source": [
    "# NLP Preprocessing\n",
    "\n",
    "## Embedding\n",
    "\n",
    "* Randomly reshuffle data\n",
    "* Estimate embedding matrix with Keras \n",
    "* Initialize Keras embedding layer with pre-trained Spacy word embedding\n",
    "\n"
   ]
  },
  {
   "cell_type": "code",
   "execution_count": 101,
   "metadata": {},
   "outputs": [
    {
     "data": {
      "text/plain": [
       "(35555, 3)"
      ]
     },
     "execution_count": 101,
     "metadata": {},
     "output_type": "execute_result"
    }
   ],
   "source": [
    "df = pd.read_csv(\"./binary_data.csv\")\n",
    "df.shape"
   ]
  },
  {
   "cell_type": "code",
   "execution_count": 102,
   "metadata": {},
   "outputs": [],
   "source": [
    "# reshuffle data\n",
    "np.random.seed(0)\n",
    "df = df.reindex(np.random.permutation(df.index))\n",
    "df = df.reset_index(drop=True) # reset the index after the permutation"
   ]
  },
  {
   "cell_type": "code",
   "execution_count": 103,
   "metadata": {},
   "outputs": [],
   "source": [
    "# remove punctuation, non alphanumerical characters and lowercase\n",
    "df[\"tweet_clean\"] = df['OriginalTweet'].apply(preprocessor)"
   ]
  },
  {
   "cell_type": "code",
   "execution_count": 104,
   "metadata": {},
   "outputs": [],
   "source": [
    "# load pre-trained word embedding model from spacy\n",
    "nlp = spacy.load('en_core_web_md') \n",
    "\n",
    "# stack embeddings of tweets\n",
    "emb = np.vstack(df.tweet_clean.apply(lambda x: nlp(x).vector))\n",
    "\n",
    "savetxt('./embedded_data.csv', emb, delimiter=',')"
   ]
  },
  {
   "cell_type": "markdown",
   "metadata": {},
   "source": [
    "## Basic preprocessing: \n",
    "\n",
    "* Convert to lowercase and split tokens on whitespaces and puncutuation\n",
    "* Map every word to an integer value\n",
    "* Set each tweet to an equal length  𝑇  by padding with 0 or slicing \n",
    "\n",
    "## Hyperparameters for Keras preprocessor\n",
    "\n",
    "* num_words: size of the vocabulary based on most frequent words in tweets\n",
    "* maxlen: sequence length $T$ to ensure that all tweets have the same length "
   ]
  },
  {
   "cell_type": "code",
   "execution_count": 105,
   "metadata": {},
   "outputs": [],
   "source": [
    "# find size of vocabulary = number of words that appear more than 1 time \n",
    "counts = Counter()\n",
    "for i, news in enumerate(df['OriginalTweet']):\n",
    "    text = news.lower() # convert to lowercase\n",
    "    df.loc[i, \"OriginalTweet\"] = text\n",
    "    counts.update(text.split()) # splitting on whitespace"
   ]
  },
  {
   "cell_type": "code",
   "execution_count": 106,
   "metadata": {},
   "outputs": [
    {
     "name": "stdout",
     "output_type": "stream",
     "text": [
      "Number of unique words: 107861\n",
      "Number of words that appear more than 1 time: 30837\n",
      "Number of words that appear more than 10 times: 7059\n"
     ]
    }
   ],
   "source": [
    "print('Number of unique words:', len(counts))\n",
    "print('Number of words that appear more than 1 time:', len( [k for k, v in counts.items() if v > 1] ))\n",
    "print('Number of words that appear more than 10 times:', len( [k for k, v in counts.items() if v > 10] ))"
   ]
  },
  {
   "cell_type": "code",
   "execution_count": 107,
   "metadata": {},
   "outputs": [],
   "source": [
    "# our vocabulary consists of words that appear more than 10 times \n",
    "vocab_size = len( [k for k, v in counts.items() if v > 10] )"
   ]
  },
  {
   "cell_type": "code",
   "execution_count": 108,
   "metadata": {},
   "outputs": [
    {
     "name": "stdout",
     "output_type": "stream",
     "text": [
      "['to', 'and', 'of', 'a', 'in', 'for', '#coronavirus', 'is', 'are', 'on', 'i', 'you', 'this', 'at', 'with', 'food', 'prices', 'that', 'we', 'have']\n"
     ]
    }
   ],
   "source": [
    "# most frequent words that appear more than 5 times\n",
    "word_counts = sorted(counts, key=counts.get, reverse=True)\n",
    "word_counts = word_counts[1:vocab_size]\n",
    "print( word_counts[:20] ) # show first 20 words"
   ]
  },
  {
   "cell_type": "code",
   "execution_count": 109,
   "metadata": {},
   "outputs": [],
   "source": [
    "# assign an index to all words in word_counts\n",
    "word_to_int = {}\n",
    "for i, word in enumerate(word_counts): \n",
    "    word_to_int[word] = i"
   ]
  },
  {
   "cell_type": "code",
   "execution_count": 110,
   "metadata": {},
   "outputs": [
    {
     "name": "stdout",
     "output_type": "stream",
     "text": [
      "[[18, 40, 29, 69, 34, 690, 4, 325, 0, 27, 15, 1, 866, 477, 43, 1480, 133, 9, 478, 37, 1926, 58, 8, 954, 44, 16, 2, 817, 1724, 11, 337, 43, 5894, 173, 923, 0, 69, 1, 32, 122, 23, 3327, 28, 12, 496], [104, 2737, 2, 1829, 28, 232, 115, 182, 259, 255, 590, 53, 36, 32, 78, 192, 54, 6, 628, 50, 1087, 1, 260, 16], [295, 44, 13, 33, 22, 24, 209, 29, 170, 214, 245, 10, 67, 61, 169, 33, 503, 2738, 1, 80, 67, 51, 833, 37, 97, 977, 789, 3533, 133, 5054, 1507, 15, 84, 173, 62, 12, 6244, 789, 84, 3, 851, 591, 1577, 6], [14, 1043, 370, 2, 27, 4, 1034, 97, 773, 71, 89, 1, 70, 15, 7, 3004, 188, 121, 4, 22, 130, 274], [5, 117, 58, 1806, 453, 272, 924, 78, 61, 94, 518, 237, 1301, 10, 2450, 806, 2799, 55, 3421, 2, 37, 127, 248, 26, 44, 1624, 1, 978, 331, 2620, 409, 2800, 30, 220, 62, 96, 249, 13, 22, 24, 42], [52, 1399, 0, 119, 29, 96, 2621, 6624, 3422, 774, 145, 394, 691, 1541, 66, 278, 189, 7, 81, 0, 21, 6245, 110, 30, 3423, 1400, 308, 238, 32, 5564, 394, 197, 625, 30, 74, 17, 32, 76, 0, 1079, 0, 15, 347, 1, 309, 23, 223, 1239], [519, 4, 12, 659, 67, 6246, 28, 25, 5, 2234, 0, 494, 220, 272], [443, 352, 63, 48, 98, 3, 22, 240, 97, 134, 1, 134, 2502, 8, 113, 45, 80, 7, 118, 3005, 192, 13, 1325, 596, 205, 1983, 2142, 42], [18, 8, 304, 4, 5302, 1, 8, 2451, 4299, 12, 39, 443, 0, 69, 14, 6, 3230, 289, 0, 69, 14, 106, 16, 1, 376], [95, 42, 5565, 4, 1409, 790, 98, 3006, 5303, 2212, 2046]]\n"
     ]
    }
   ],
   "source": [
    "# create a list with all tweets, where each tweet contains only the indexes of most frequent words\n",
    "mapped_tweet = []\n",
    "for tweet in df['OriginalTweet']:\n",
    "    mapped_tweet.append([word_to_int[word] \n",
    "                           for word in tweet.split() \n",
    "                           if word in word_to_int.keys()])\n",
    "    \n",
    "print( mapped_tweet[:10] )"
   ]
  },
  {
   "cell_type": "code",
   "execution_count": 111,
   "metadata": {},
   "outputs": [
    {
     "data": {
      "text/plain": [
       "27.0"
      ]
     },
     "execution_count": 111,
     "metadata": {},
     "output_type": "execute_result"
    }
   ],
   "source": [
    "# set length of each tweet equal to median length of mapped_tweet\n",
    "sequence_length = np.median([len(tweet) for tweet in mapped_tweet])\n",
    "sequence_length"
   ]
  },
  {
   "cell_type": "code",
   "execution_count": 112,
   "metadata": {},
   "outputs": [
    {
     "data": {
      "image/png": "[encoded data removed]",
      "text/plain": [
       "<Figure size 432x288 with 1 Axes>"
      ]
     },
     "metadata": {
      "needs_background": "light"
     },
     "output_type": "display_data"
    }
   ],
   "source": [
    "rev_lengths = np.array([len(tweet) for tweet in mapped_tweet])\n",
    "plt.hist(rev_lengths)\n",
    "plt.show()"
   ]
  },
  {
   "cell_type": "code",
   "execution_count": 113,
   "metadata": {},
   "outputs": [
    {
     "name": "stdout",
     "output_type": "stream",
     "text": [
      "[[28, 49, 37, 75, 43, 709, 10, 335, 2, 13, 12, 21, 4, 815, 409, 53, 1498, 146, 18, 283, 47, 919, 66, 16, 1037, 44, 23, 6, 794, 186, 17, 336, 53, 650, 201, 911, 2, 75, 4, 40, 130, 34, 3308, 36, 20, 96], [113, 2617, 6, 1481, 36, 241, 109, 1, 202, 282, 213, 613, 60, 45, 40, 79, 176, 63, 11, 2002, 640, 59, 897, 6781, 4, 270, 23, 8, 5, 7], [1, 274, 44, 22, 41, 32, 25, 236, 37, 1, 175, 222, 152, 19, 80, 70, 187, 41, 429, 316, 4, 87, 80, 55, 592, 47, 103, 111, 839, 3394, 146, 575, 1, 1461, 21, 94, 5688, 201, 69, 20, 37, 109, 1158, 839, 94, 9, 854, 568, 106, 11], [24, 1074, 368, 6, 13, 12, 10, 976, 103, 111, 81, 77, 4, 62, 21, 15, 2831, 181, 1, 115, 10, 32, 127, 307, 1, 8, 5, 7], [3776, 14, 125, 66, 1859, 492, 230, 986, 79, 70, 101, 503, 249, 58, 19, 2470, 785, 2471, 64, 1, 2891, 6, 4946, 47, 141, 265, 33, 44, 57, 4, 995, 366, 6345, 1860, 330, 2832, 38, 224, 69, 104, 260, 6003, 22, 1, 32, 25, 337, 13, 12], [58, 1111, 2, 129, 37, 104, 485, 1901, 3151, 729, 131, 436, 707, 1132, 1, 291, 194, 15, 89, 2, 31, 1929, 120, 38, 3232, 44, 309, 199, 40, 291, 436, 204, 636, 38, 76, 26, 40, 84, 2, 996, 2, 2081, 21, 345, 4, 298, 34, 242, 240], [504, 10, 20, 682, 80, 5689, 36, 27, 14, 2305, 2, 532, 224, 230], [418, 317, 61, 54, 110, 9, 32, 25, 103, 111, 4, 111, 1814, 16, 122, 6346, 52, 87, 15, 126, 1038, 2566, 176, 22, 1119, 645, 229, 1902, 182, 13, 12, 2567, 8, 5, 7], [28, 16, 322, 10, 742, 3, 3, 1482, 4, 3593, 16, 2341, 615, 3, 3, 20, 51, 418, 2, 75, 24, 11, 3, 3, 288, 2, 75, 24, 97, 23, 4, 312, 3777, 8, 5, 7], [11, 13, 12, 4947, 10, 1263, 779, 110, 2892, 407, 1950, 2059, 8, 5, 7]]\n"
     ]
    }
   ],
   "source": [
    "# map words to integers with preprocessing using keras tokenizer\n",
    "tokenizer = Tokenizer(num_words=vocab_size, \n",
    "                      filters='!\"#$%&()*+,-./:;<=>?@[\\\\]^_`{|}~\\t\\n', # filters out all punctuation\n",
    "                      lower=True, # convert to lowercase\n",
    "                      split=' ') # split on whitespaces\n",
    "\n",
    "tokenizer.fit_on_texts(df['OriginalTweet'])\n",
    "list_tokenized = tokenizer.texts_to_sequences(df['OriginalTweet'])\n",
    "\n",
    "print( list_tokenized[:10] )"
   ]
  },
  {
   "cell_type": "code",
   "execution_count": 114,
   "metadata": {},
   "outputs": [],
   "source": [
    "# dictionary of words with indices\n",
    "word_index = tokenizer.word_index"
   ]
  },
  {
   "cell_type": "code",
   "execution_count": 115,
   "metadata": {},
   "outputs": [
    {
     "name": "stdout",
     "output_type": "stream",
     "text": [
      "[[ 21   4 815 ...  36  20  96]\n",
      " [  0   0   0 ...   8   5   7]\n",
      " [ 70 187  41 ... 568 106  11]\n",
      " ...\n",
      " [  0   0   0 ...  10 147 849]\n",
      " [  0   0   9 ...   9 692  12]\n",
      " [  0   0   0 ...  34  65 685]]\n"
     ]
    }
   ],
   "source": [
    "# convert all tweets to same length by padding with 0 or slicing\n",
    "sequence_length = 35 # select 35 as max length based on distribution of mapped tweets\n",
    "sequences = pad_sequences(list_tokenized, maxlen= sequence_length)\n",
    "print(sequences)"
   ]
  },
  {
   "cell_type": "code",
   "execution_count": 116,
   "metadata": {},
   "outputs": [],
   "source": [
    "# convert sentiment to real valued\n",
    "le = LabelEncoder()\n",
    "le.fit(df['Sentiment'])\n",
    "df['target_encoded'] = le.transform(df['Sentiment'])"
   ]
  },
  {
   "cell_type": "code",
   "execution_count": 117,
   "metadata": {},
   "outputs": [
    {
     "data": {
      "text/html": [
       "<div>\n",
       "<style scoped>\n",
       "    .dataframe tbody tr th:only-of-type {\n",
       "        vertical-align: middle;\n",
       "    }\n",
       "\n",
       "    .dataframe tbody tr th {\n",
       "        vertical-align: top;\n",
       "    }\n",
       "\n",
       "    .dataframe thead th {\n",
       "        text-align: right;\n",
       "    }\n",
       "</style>\n",
       "<table border=\"1\" class=\"dataframe\">\n",
       "  <thead>\n",
       "    <tr style=\"text-align: right;\">\n",
       "      <th></th>\n",
       "      <th>Sentiment</th>\n",
       "      <th>target_encoded</th>\n",
       "      <th>tweet_clean</th>\n",
       "      <th>0</th>\n",
       "      <th>1</th>\n",
       "      <th>2</th>\n",
       "      <th>3</th>\n",
       "      <th>4</th>\n",
       "      <th>5</th>\n",
       "      <th>6</th>\n",
       "      <th>...</th>\n",
       "      <th>25</th>\n",
       "      <th>26</th>\n",
       "      <th>27</th>\n",
       "      <th>28</th>\n",
       "      <th>29</th>\n",
       "      <th>30</th>\n",
       "      <th>31</th>\n",
       "      <th>32</th>\n",
       "      <th>33</th>\n",
       "      <th>34</th>\n",
       "    </tr>\n",
       "  </thead>\n",
       "  <tbody>\n",
       "    <tr>\n",
       "      <th>0</th>\n",
       "      <td>Negative</td>\n",
       "      <td>0</td>\n",
       "      <td>we can all do our bit in response to covid 19 ...</td>\n",
       "      <td>21</td>\n",
       "      <td>4</td>\n",
       "      <td>815</td>\n",
       "      <td>409</td>\n",
       "      <td>53</td>\n",
       "      <td>1498</td>\n",
       "      <td>146</td>\n",
       "      <td>...</td>\n",
       "      <td>2</td>\n",
       "      <td>75</td>\n",
       "      <td>4</td>\n",
       "      <td>40</td>\n",
       "      <td>130</td>\n",
       "      <td>34</td>\n",
       "      <td>3308</td>\n",
       "      <td>36</td>\n",
       "      <td>20</td>\n",
       "      <td>96</td>\n",
       "    </tr>\n",
       "    <tr>\n",
       "      <th>1</th>\n",
       "      <td>Positive</td>\n",
       "      <td>1</td>\n",
       "      <td>after loads of emails from companies over the ...</td>\n",
       "      <td>0</td>\n",
       "      <td>0</td>\n",
       "      <td>0</td>\n",
       "      <td>0</td>\n",
       "      <td>0</td>\n",
       "      <td>113</td>\n",
       "      <td>2617</td>\n",
       "      <td>...</td>\n",
       "      <td>640</td>\n",
       "      <td>59</td>\n",
       "      <td>897</td>\n",
       "      <td>6781</td>\n",
       "      <td>4</td>\n",
       "      <td>270</td>\n",
       "      <td>23</td>\n",
       "      <td>8</td>\n",
       "      <td>5</td>\n",
       "      <td>7</td>\n",
       "    </tr>\n",
       "    <tr>\n",
       "      <th>2</th>\n",
       "      <td>Positive</td>\n",
       "      <td>1</td>\n",
       "      <td>the line up at my grocery store went all the w...</td>\n",
       "      <td>70</td>\n",
       "      <td>187</td>\n",
       "      <td>41</td>\n",
       "      <td>429</td>\n",
       "      <td>316</td>\n",
       "      <td>4</td>\n",
       "      <td>87</td>\n",
       "      <td>...</td>\n",
       "      <td>37</td>\n",
       "      <td>109</td>\n",
       "      <td>1158</td>\n",
       "      <td>839</td>\n",
       "      <td>94</td>\n",
       "      <td>9</td>\n",
       "      <td>854</td>\n",
       "      <td>568</td>\n",
       "      <td>106</td>\n",
       "      <td>11</td>\n",
       "    </tr>\n",
       "    <tr>\n",
       "      <th>3</th>\n",
       "      <td>Positive</td>\n",
       "      <td>1</td>\n",
       "      <td>with four cases of covid 19 in greene county t...</td>\n",
       "      <td>0</td>\n",
       "      <td>0</td>\n",
       "      <td>0</td>\n",
       "      <td>0</td>\n",
       "      <td>0</td>\n",
       "      <td>0</td>\n",
       "      <td>0</td>\n",
       "      <td>...</td>\n",
       "      <td>1</td>\n",
       "      <td>115</td>\n",
       "      <td>10</td>\n",
       "      <td>32</td>\n",
       "      <td>127</td>\n",
       "      <td>307</td>\n",
       "      <td>1</td>\n",
       "      <td>8</td>\n",
       "      <td>5</td>\n",
       "      <td>7</td>\n",
       "    </tr>\n",
       "    <tr>\n",
       "      <th>4</th>\n",
       "      <td>Positive</td>\n",
       "      <td>1</td>\n",
       "      <td>btw for those who claim wearing mask doesn t h...</td>\n",
       "      <td>19</td>\n",
       "      <td>2470</td>\n",
       "      <td>785</td>\n",
       "      <td>2471</td>\n",
       "      <td>64</td>\n",
       "      <td>1</td>\n",
       "      <td>2891</td>\n",
       "      <td>...</td>\n",
       "      <td>104</td>\n",
       "      <td>260</td>\n",
       "      <td>6003</td>\n",
       "      <td>22</td>\n",
       "      <td>1</td>\n",
       "      <td>32</td>\n",
       "      <td>25</td>\n",
       "      <td>337</td>\n",
       "      <td>13</td>\n",
       "      <td>12</td>\n",
       "    </tr>\n",
       "  </tbody>\n",
       "</table>\n",
       "<p>5 rows × 38 columns</p>\n",
       "</div>"
      ],
      "text/plain": [
       "  Sentiment  target_encoded  \\\n",
       "0  Negative               0   \n",
       "1  Positive               1   \n",
       "2  Positive               1   \n",
       "3  Positive               1   \n",
       "4  Positive               1   \n",
       "\n",
       "                                         tweet_clean   0     1    2     3  \\\n",
       "0  we can all do our bit in response to covid 19 ...  21     4  815   409   \n",
       "1  after loads of emails from companies over the ...   0     0    0     0   \n",
       "2  the line up at my grocery store went all the w...  70   187   41   429   \n",
       "3  with four cases of covid 19 in greene county t...   0     0    0     0   \n",
       "4  btw for those who claim wearing mask doesn t h...  19  2470  785  2471   \n",
       "\n",
       "     4     5     6  ...   25   26    27    28   29   30    31   32   33  34  \n",
       "0   53  1498   146  ...    2   75     4    40  130   34  3308   36   20  96  \n",
       "1    0   113  2617  ...  640   59   897  6781    4  270    23    8    5   7  \n",
       "2  316     4    87  ...   37  109  1158   839   94    9   854  568  106  11  \n",
       "3    0     0     0  ...    1  115    10    32  127  307     1    8    5   7  \n",
       "4   64     1  2891  ...  104  260  6003    22    1   32    25  337   13  12  \n",
       "\n",
       "[5 rows x 38 columns]"
      ]
     },
     "execution_count": 117,
     "metadata": {},
     "output_type": "execute_result"
    }
   ],
   "source": [
    "df_processed = pd.concat([df[['Sentiment', \"target_encoded\", \"tweet_clean\"]], pd.DataFrame(sequences)], axis=1)\n",
    "df_processed.head()"
   ]
  },
  {
   "cell_type": "code",
   "execution_count": 118,
   "metadata": {},
   "outputs": [],
   "source": [
    "# save data\n",
    "df_processed.to_csv(\"./data_deeplearning.csv\", index = False, encoding = \"utf-8\")"
   ]
  },
  {
   "cell_type": "markdown",
   "metadata": {},
   "source": [
    "# Recurrent neural networks (RNN)\n",
    "\n",
    "* The machine learning approach to text analysis relies heavily on text preprocessing\n",
    "* RNNs are used to implement most of the NLP preprocessing as well as classification tasks\n",
    "\n",
    "A RNN is a neural network architecture suited to deal with sequential data. In contrast to feedforward neural networks, they allow for cycles in their architecture in order to take into account the activations of the previous step. Hence, they have some form of \"memory\" of the structure of the training data. \n",
    "\n",
    "For input data $x = (x_1, ..., x_T)$, the RNN architecture computes a sequence of outputs $(z_1^1, ..., z_T^1)$, where each output isa function of the feature information at the same timestep and the output information from the previous timestep, i.e. $z_{j+1}^1 = z^1(x_{j+1}, z_j^1), \\forall j = 1, ..., T-1$\n",
    "\n",
    "The most commonly used gradient-based learning algorithm to\n",
    "update RNN parameters is Backpropagation Through Time (BPTT), which is applied to\n",
    "the unfolded network in order to compute the gradients at each timestep. However, the recurisve computation of these gradients often lead to exploding or vanishing gradients. Gated RNN architectures, such as Long Short-Term Memory (LSTM) or Gated Recurrent Units (GRU) solve this problem.\n",
    "\n",
    "--------------------------------------------------------------------------------------------------\n",
    "\n",
    "The models are trained on the following NLP preprocessed data: \n",
    "\n",
    "* **Word embeddings**: word embeddings are trained using Keras embedding layer, which converts each word into fixed length, dense, real-valued vector of defined size.\n",
    "    Parameters:\n",
    "\n",
    "    * input_dim : Size of the vocabulary (equal to the size of the embedding matrix)\n",
    "    * output_dim : Length of the vector for each word\n",
    "    * input_length : Maximum length of a sequence\n",
    "\n",
    "* **Pre-trained Spacy word embeddings**: used as weights in Keras embedding layer (transfer learning). Additional parameters:\n",
    "\n",
    "    * weights: Embedding matrix computed from pretrained Spacy embeddings\n",
    "    * trainable = False: do not retrain word embeddings"
   ]
  },
  {
   "cell_type": "code",
   "execution_count": 273,
   "metadata": {
    "scrolled": true
   },
   "outputs": [],
   "source": [
    "df = pd.read_csv(\"./data_deeplearning.csv\")"
   ]
  },
  {
   "cell_type": "code",
   "execution_count": 274,
   "metadata": {
    "scrolled": true
   },
   "outputs": [
    {
     "name": "stdout",
     "output_type": "stream",
     "text": [
      "28444 7111\n"
     ]
    }
   ],
   "source": [
    "# define train and test size\n",
    "train_size = int( len(df)*0.8 )\n",
    "test_size = int( len(df) - train_size )\n",
    "print(train_size, test_size)"
   ]
  },
  {
   "cell_type": "code",
   "execution_count": 275,
   "metadata": {},
   "outputs": [
    {
     "name": "stdout",
     "output_type": "stream",
     "text": [
      "Training data X, y: (28444, 35) (28444,)\n",
      "Testing data X, y: (7111, 35) (7111,)\n"
     ]
    }
   ],
   "source": [
    "remove = ['Sentiment', \"target_encoded\", \"tweet_clean\"]\n",
    "\n",
    "# split dataset\n",
    "X_train = np.array(df.head(train_size).drop(remove, axis=1)) # replace with n_train\n",
    "y_train = df.head(train_size).target_encoded.values\n",
    "\n",
    "X_test = np.array(df.tail(test_size).drop(remove, axis=1)) # replace with n_test\n",
    "y_test = df.tail(test_size).target_encoded.values\n",
    "\n",
    "print('Training data X, y:', X_train.shape, y_train.shape)\n",
    "print('Testing data X, y:', X_test.shape, y_test.shape)"
   ]
  },
  {
   "cell_type": "code",
   "execution_count": 122,
   "metadata": {},
   "outputs": [
    {
     "data": {
      "text/plain": [
       "array([[-0.18039519,  0.15100001, -0.08651307, ..., -0.11266083,\n",
       "         0.09260193,  0.13436501],\n",
       "       [-0.11535835,  0.17786935, -0.15773802, ...,  0.01470347,\n",
       "         0.03781296,  0.07737374],\n",
       "       [-0.04265941,  0.07776086, -0.13678007, ..., -0.11700895,\n",
       "         0.05279943,  0.07373761],\n",
       "       ...,\n",
       "       [-0.11585855,  0.16935857,  0.05481516, ...,  0.04117206,\n",
       "         0.01730863,  0.08014087],\n",
       "       [-0.13310415,  0.19906546, -0.00468867, ..., -0.10085647,\n",
       "        -0.00446249,  0.05838124],\n",
       "       [-0.20245384,  0.13679789, -0.13991286, ..., -0.10382908,\n",
       "         0.0231565 ,  0.12365782]])"
      ]
     },
     "execution_count": 122,
     "metadata": {},
     "output_type": "execute_result"
    }
   ],
   "source": [
    "# load embedding matrix\n",
    "emb = loadtxt('.\\embedded_data.csv', delimiter=',')\n",
    "emb"
   ]
  },
  {
   "cell_type": "markdown",
   "metadata": {},
   "source": [
    "Simple RNN\n",
    "---------------------------------------------------------------------------------------------\n",
    "\n"
   ]
  },
  {
   "cell_type": "code",
   "execution_count": 123,
   "metadata": {},
   "outputs": [],
   "source": [
    "# paramerers, based on results from preprocessing\n",
    "emb_length = 300\n",
    "max_length = 58 # length of longest sequence\n",
    "sequence_length = 35 "
   ]
  },
  {
   "cell_type": "markdown",
   "metadata": {},
   "source": [
    "### Keras embedding layer"
   ]
  },
  {
   "cell_type": "code",
   "execution_count": 124,
   "metadata": {},
   "outputs": [],
   "source": [
    "# define model\n",
    "model = tf.keras.Sequential()\n",
    "model.add(layers.Embedding(input_dim = len(emb),\n",
    "                 output_dim = emb_length,\n",
    "                 input_length = sequence_length))\n",
    "\n",
    "model.add(layers.SimpleRNN(sequence_length, activation='sigmoid'))\n",
    "model.add(layers.Dropout(0.5))\n",
    "model.add(layers.Dense(1, activation='sigmoid'))\n",
    "\n",
    "model.compile(loss='binary_crossentropy', optimizer='adam', metrics=['accuracy'])"
   ]
  },
  {
   "cell_type": "code",
   "execution_count": 125,
   "metadata": {},
   "outputs": [],
   "source": [
    "# define callbacks for early stopping during training\n",
    "# stop training when the validation loss `val_accuracy` is no longer improving\n",
    "callbacks = [tf.keras.callbacks.EarlyStopping(\n",
    "    monitor='val_accuracy',\n",
    "    min_delta=1e-2,\n",
    "    patience=3,\n",
    "    verbose=1,\n",
    "    restore_best_weights=True)]"
   ]
  },
  {
   "cell_type": "code",
   "execution_count": 126,
   "metadata": {},
   "outputs": [
    {
     "name": "stdout",
     "output_type": "stream",
     "text": [
      "Epoch 1/7\n",
      "889/889 [==============================] - 98s 109ms/step - loss: 0.7058 - accuracy: 0.5295 - val_loss: 0.6827 - val_accuracy: 0.5611\n",
      "Epoch 2/7\n",
      "889/889 [==============================] - 98s 110ms/step - loss: 0.6631 - accuracy: 0.5982 - val_loss: 0.6768 - val_accuracy: 0.5761\n",
      "Epoch 3/7\n",
      "889/889 [==============================] - 94s 105ms/step - loss: 0.5541 - accuracy: 0.7273 - val_loss: 0.5370 - val_accuracy: 0.7554\n",
      "Epoch 4/7\n",
      "889/889 [==============================] - 96s 108ms/step - loss: 0.4398 - accuracy: 0.8212 - val_loss: 0.4896 - val_accuracy: 0.7819\n",
      "Epoch 5/7\n",
      "889/889 [==============================] - 99s 111ms/step - loss: 0.3747 - accuracy: 0.8565 - val_loss: 0.4890 - val_accuracy: 0.7902\n",
      "Epoch 6/7\n",
      "889/889 [==============================] - 95s 107ms/step - loss: 0.3158 - accuracy: 0.8845 - val_loss: 0.4625 - val_accuracy: 0.8075\n",
      "Epoch 7/7\n",
      "889/889 [==============================] - 95s 107ms/step - loss: 0.2765 - accuracy: 0.9032 - val_loss: 0.4824 - val_accuracy: 0.8045\n",
      "INFO:tensorflow:Assets written to: SimpleRNN_1\\assets\n"
     ]
    },
    {
     "name": "stderr",
     "output_type": "stream",
     "text": [
      "INFO:tensorflow:Assets written to: SimpleRNN_1\\assets\n"
     ]
    }
   ],
   "source": [
    "# train the model\n",
    "history = model.fit(X_train, \n",
    "         y_train, \n",
    "         validation_data = (X_test, y_test),\n",
    "         epochs=7, \n",
    "         batch_size=32,\n",
    "         callbacks=callbacks,\n",
    "         verbose=1)\n",
    "\n",
    "model.save(\"SimpleRNN_1\")"
   ]
  },
  {
   "cell_type": "code",
   "execution_count": 127,
   "metadata": {},
   "outputs": [
    {
     "data": {
      "text/plain": [
       "<matplotlib.legend.Legend at 0x188af104dc0>"
      ]
     },
     "execution_count": 127,
     "metadata": {},
     "output_type": "execute_result"
    },
    {
     "data": {
      "image/png": "[encoded data removed]",
      "text/plain": [
       "<Figure size 432x288 with 1 Axes>"
      ]
     },
     "metadata": {
      "needs_background": "light"
     },
     "output_type": "display_data"
    }
   ],
   "source": [
    "# plot the development of the accuracy over epochs to see the training progress\n",
    "plt.plot(history.history['accuracy'], label='Training accuracy')\n",
    "plt.plot(history.history['val_accuracy'], label='Validation accuracy')\n",
    "plt.title('Training and validation accuracy')\n",
    "plt.xlabel('Epochs')\n",
    "plt.ylabel('Accuracy')\n",
    "plt.legend()"
   ]
  },
  {
   "cell_type": "code",
   "execution_count": 128,
   "metadata": {},
   "outputs": [
    {
     "data": {
      "text/plain": [
       "<matplotlib.legend.Legend at 0x188afcf5790>"
      ]
     },
     "execution_count": 128,
     "metadata": {},
     "output_type": "execute_result"
    },
    {
     "data": {
      "image/png": "[encoded data removed]",
      "text/plain": [
       "<Figure size 432x288 with 1 Axes>"
      ]
     },
     "metadata": {
      "needs_background": "light"
     },
     "output_type": "display_data"
    }
   ],
   "source": [
    "# plot the development of the loss over epochs to see the training progress\n",
    "plt.plot(history.history['loss'], label='Training loss')\n",
    "plt.plot(history.history['val_loss'], label='Validation loss')\n",
    "plt.title('Training and validation loss')\n",
    "plt.xlabel('Epochs')\n",
    "plt.ylabel('Loss')\n",
    "plt.legend()"
   ]
  },
  {
   "cell_type": "markdown",
   "metadata": {},
   "source": [
    "### Pre-trained Spacy embedding"
   ]
  },
  {
   "cell_type": "code",
   "execution_count": 174,
   "metadata": {},
   "outputs": [],
   "source": [
    "# define model\n",
    "model = tf.keras.Sequential()\n",
    "model.add(layers.Embedding(input_dim = len(emb),\n",
    "                 output_dim = emb_length,\n",
    "                 weights=[emb],\n",
    "                 input_length = sequence_length, \n",
    "                 trainable = False))\n",
    "\n",
    "model.add(layers.SimpleRNN(sequence_length, activation='sigmoid'))\n",
    "model.add(layers.Dropout(0.5))\n",
    "model.add(layers.Dense(1, activation='sigmoid'))\n",
    "\n",
    "model.compile(loss='binary_crossentropy', optimizer='adam',metrics=['accuracy'])"
   ]
  },
  {
   "cell_type": "code",
   "execution_count": 175,
   "metadata": {},
   "outputs": [],
   "source": [
    "# define callbacks for early stopping during training\n",
    "# stop training when the validation loss `val_accuracy` is no longer improving\n",
    "callbacks = [tf.keras.callbacks.EarlyStopping(\n",
    "    monitor='val_accuracy',\n",
    "    min_delta=1e-3,\n",
    "    patience=5,\n",
    "    verbose=1,\n",
    "    restore_best_weights=True)]"
   ]
  },
  {
   "cell_type": "code",
   "execution_count": 176,
   "metadata": {},
   "outputs": [
    {
     "name": "stdout",
     "output_type": "stream",
     "text": [
      "Epoch 1/20\n",
      "889/889 [==============================] - 8s 8ms/step - loss: 0.7026 - accuracy: 0.5181 - val_loss: 0.6899 - val_accuracy: 0.5349\n",
      "Epoch 2/20\n",
      "889/889 [==============================] - 7s 8ms/step - loss: 0.6919 - accuracy: 0.5323 - val_loss: 0.6897 - val_accuracy: 0.5366\n",
      "Epoch 3/20\n",
      "889/889 [==============================] - 7s 8ms/step - loss: 0.6909 - accuracy: 0.5303 - val_loss: 0.6899 - val_accuracy: 0.5337\n",
      "Epoch 4/20\n",
      "889/889 [==============================] - 7s 8ms/step - loss: 0.6898 - accuracy: 0.5337 - val_loss: 0.6897 - val_accuracy: 0.5354\n",
      "Epoch 5/20\n",
      "889/889 [==============================] - 7s 8ms/step - loss: 0.6892 - accuracy: 0.5374 - val_loss: 0.6897 - val_accuracy: 0.5358\n",
      "Epoch 6/20\n",
      "889/889 [==============================] - 7s 8ms/step - loss: 0.6891 - accuracy: 0.5419 - val_loss: 0.6894 - val_accuracy: 0.5365\n",
      "Epoch 7/20\n",
      "889/889 [==============================] - 7s 8ms/step - loss: 0.6887 - accuracy: 0.5439 - val_loss: 0.6894 - val_accuracy: 0.5369\n",
      "Restoring model weights from the end of the best epoch.\n",
      "Epoch 00007: early stopping\n",
      "INFO:tensorflow:Assets written to: SimpleRNN_2\\assets\n"
     ]
    },
    {
     "name": "stderr",
     "output_type": "stream",
     "text": [
      "INFO:tensorflow:Assets written to: SimpleRNN_2\\assets\n"
     ]
    }
   ],
   "source": [
    "# train the model\n",
    "history = model.fit(X_train, \n",
    "         y_train, \n",
    "         validation_data = (X_test, y_test),\n",
    "         epochs=20, \n",
    "         batch_size=32,\n",
    "         callbacks=callbacks,\n",
    "         verbose=1)\n",
    "\n",
    "model.save(\"SimpleRNN_2\")"
   ]
  },
  {
   "cell_type": "code",
   "execution_count": 138,
   "metadata": {},
   "outputs": [
    {
     "data": {
      "text/plain": [
       "<matplotlib.legend.Legend at 0x188afcf53a0>"
      ]
     },
     "execution_count": 138,
     "metadata": {},
     "output_type": "execute_result"
    },
    {
     "data": {
      "image/png": "[encoded data removed]",
      "text/plain": [
       "<Figure size 432x288 with 1 Axes>"
      ]
     },
     "metadata": {
      "needs_background": "light"
     },
     "output_type": "display_data"
    }
   ],
   "source": [
    "# plot the development of the accuracy over epochs to see the training progress\n",
    "plt.plot(history.history['accuracy'], label='Training accuracy')\n",
    "plt.plot(history.history['val_accuracy'], label='Validation accuracy')\n",
    "plt.title('Training and validation accuracy')\n",
    "plt.xlabel('Epochs')\n",
    "plt.ylabel('Accuracy')\n",
    "plt.legend()"
   ]
  },
  {
   "cell_type": "code",
   "execution_count": 139,
   "metadata": {},
   "outputs": [
    {
     "data": {
      "text/plain": [
       "<matplotlib.legend.Legend at 0x18898dea5e0>"
      ]
     },
     "execution_count": 139,
     "metadata": {},
     "output_type": "execute_result"
    },
    {
     "data": {
      "image/png": "[encoded data removed]",
      "text/plain": [
       "<Figure size 432x288 with 1 Axes>"
      ]
     },
     "metadata": {
      "needs_background": "light"
     },
     "output_type": "display_data"
    }
   ],
   "source": [
    "# plot the development of the loss over epochs to see the training progress\n",
    "plt.plot(history.history['loss'], label='Training loss')\n",
    "plt.plot(history.history['val_loss'], label='Validation loss')\n",
    "plt.title('Training and validation loss')\n",
    "plt.xlabel('Epochs')\n",
    "plt.ylabel('Loss')\n",
    "plt.legend()"
   ]
  },
  {
   "cell_type": "markdown",
   "metadata": {},
   "source": [
    "## LSTM\n",
    "\n",
    "LSTM units replace hidden neurons in RNN architectures by more complex\n",
    "    memory cells. A memory cell takes three inputs: the input features $x_t$, the neural activations $z_{t-1}^1$ and the cell state $c_{t-1}^1$ from the previous step, and outputs a new cell state $c_t^1$ and neural activations $z_t^1$. Each memory cell consists of three gates that control the flow of information through the cell: \n",
    "    \n",
    "* **Forget Gate**: this gate decides what information should be thrown away or kept. Information from the previous hidden state and information from the current input is passed through the sigmoid function. Values come out between 0 and 1. The closer to 0 means to forget, and the closer to 1 means to keep.\n",
    "* **Input Gate**: to update the cell state, we have the input gate. First, we pass the previous hidden state and current input into a sigmoid function. That decides which values will be updated by transforming the values to be between 0 and 1. 0 means not important, and 1 means important. \n",
    "* **Output gate**: the output gate decides what the next hidden state, which contains information on previous inputs, should be. The hidden state is also used for predictions. First, we pass the previous hidden state and the current input into a sigmoid function. Then we pass the newly modified cell state to the tanh function. We multiply the tanh output with the sigmoid output to decide what information the hidden state should carry. The output is the hidden state. The new cell state and the new hidden is then carried over to the next time step.\n"
   ]
  },
  {
   "cell_type": "markdown",
   "metadata": {},
   "source": [
    "### Keras embedding layer"
   ]
  },
  {
   "cell_type": "code",
   "execution_count": 142,
   "metadata": {},
   "outputs": [],
   "source": [
    "# define model\n",
    "model = tf.keras.Sequential()\n",
    "model.add(layers.Embedding(input_dim = len(emb),\n",
    "                 output_dim = emb_length,\n",
    "                 input_length = sequence_length))\n",
    "\n",
    "model.add(layers.LSTM(sequence_length, dropout=0.3, recurrent_dropout=0.3))\n",
    "model.add(layers.Dropout(0.5))\n",
    "model.add(layers.Dense(1, activation='sigmoid'))\n",
    "\n",
    "model.compile(loss='binary_crossentropy', optimizer='adam',metrics=['accuracy'])"
   ]
  },
  {
   "cell_type": "code",
   "execution_count": 143,
   "metadata": {},
   "outputs": [],
   "source": [
    "# define callbacks for early stopping during training\n",
    "# stop training when the validation loss `val_accuracy` is no longer improving\n",
    "callbacks = [tf.keras.callbacks.EarlyStopping(\n",
    "    monitor='val_accuracy',\n",
    "    min_delta=1e-2,\n",
    "    patience=3,\n",
    "    verbose=1,\n",
    "    restore_best_weights=True)]"
   ]
  },
  {
   "cell_type": "code",
   "execution_count": 144,
   "metadata": {},
   "outputs": [
    {
     "name": "stdout",
     "output_type": "stream",
     "text": [
      "Epoch 1/7\n",
      "889/889 [==============================] - 110s 120ms/step - loss: 0.4625 - accuracy: 0.7797 - val_loss: 0.3542 - val_accuracy: 0.8460\n",
      "Epoch 2/7\n",
      "889/889 [==============================] - 108s 122ms/step - loss: 0.2790 - accuracy: 0.8876 - val_loss: 0.3086 - val_accuracy: 0.8658\n",
      "Epoch 3/7\n",
      "889/889 [==============================] - 109s 122ms/step - loss: 0.2051 - accuracy: 0.9192 - val_loss: 0.3320 - val_accuracy: 0.8639\n",
      "Epoch 4/7\n",
      "889/889 [==============================] - 106s 119ms/step - loss: 0.1601 - accuracy: 0.9378 - val_loss: 0.4025 - val_accuracy: 0.8670\n",
      "Epoch 5/7\n",
      "889/889 [==============================] - 107s 120ms/step - loss: 0.1258 - accuracy: 0.9540 - val_loss: 0.4236 - val_accuracy: 0.8644\n",
      "Restoring model weights from the end of the best epoch.\n",
      "Epoch 00005: early stopping\n",
      "INFO:tensorflow:Assets written to: LSTM_1\\assets\n"
     ]
    },
    {
     "name": "stderr",
     "output_type": "stream",
     "text": [
      "INFO:tensorflow:Assets written to: LSTM_1\\assets\n"
     ]
    }
   ],
   "source": [
    "# train the model\n",
    "history = model.fit(X_train, \n",
    "                    y_train, \n",
    "                    validation_data = (X_test, y_test),\n",
    "                    epochs=7, \n",
    "                    batch_size=32,\n",
    "                    callbacks=callbacks,\n",
    "                    verbose=1)\n",
    "\n",
    "model.save(\"LSTM_1\")"
   ]
  },
  {
   "cell_type": "code",
   "execution_count": 145,
   "metadata": {},
   "outputs": [
    {
     "data": {
      "text/plain": [
       "<matplotlib.legend.Legend at 0x1889a17a7c0>"
      ]
     },
     "execution_count": 145,
     "metadata": {},
     "output_type": "execute_result"
    },
    {
     "data": {
      "image/png": "[encoded data removed]",
      "text/plain": [
       "<Figure size 432x288 with 1 Axes>"
      ]
     },
     "metadata": {
      "needs_background": "light"
     },
     "output_type": "display_data"
    }
   ],
   "source": [
    "# plot the development of the accuracy over epochs to see the training progress\n",
    "plt.plot(history.history['accuracy'], label='Training accuracy')\n",
    "plt.plot(history.history['val_accuracy'], label='Validation accuracy')\n",
    "plt.title('Training and validation accuracy')\n",
    "plt.xlabel('Epochs')\n",
    "plt.ylabel('Accuracy')\n",
    "plt.legend()"
   ]
  },
  {
   "cell_type": "code",
   "execution_count": 146,
   "metadata": {},
   "outputs": [
    {
     "data": {
      "text/plain": [
       "<matplotlib.legend.Legend at 0x188afae32b0>"
      ]
     },
     "execution_count": 146,
     "metadata": {},
     "output_type": "execute_result"
    },
    {
     "data": {
      "image/png": "[encoded data removed]",
      "text/plain": [
       "<Figure size 432x288 with 1 Axes>"
      ]
     },
     "metadata": {
      "needs_background": "light"
     },
     "output_type": "display_data"
    }
   ],
   "source": [
    "# plot the development of the loss over epochs to see the training progress\n",
    "plt.plot(history.history['loss'], label='Training loss')\n",
    "plt.plot(history.history['val_loss'], label='Validation loss')\n",
    "plt.title('Training and validation loss')\n",
    "plt.xlabel('Epochs')\n",
    "plt.ylabel('Loss')\n",
    "plt.legend()"
   ]
  },
  {
   "cell_type": "markdown",
   "metadata": {},
   "source": [
    "### Pre-trained word embeddings"
   ]
  },
  {
   "cell_type": "code",
   "execution_count": 192,
   "metadata": {},
   "outputs": [],
   "source": [
    "# define model\n",
    "model = tf.keras.Sequential()\n",
    "model.add(layers.Embedding(input_dim = len(emb),\n",
    "                 output_dim = emb_length,\n",
    "                 weights=[emb],\n",
    "                 input_length = sequence_length, \n",
    "                 trainable = False))\n",
    "\n",
    "model.add(layers.LSTM(sequence_length, dropout=0.3, recurrent_dropout=0.3))\n",
    "model.add(layers.Dropout(0.5))\n",
    "model.add(layers.Dense(1, activation='sigmoid'))\n",
    "\n",
    "model.compile(loss='binary_crossentropy', optimizer='adam',metrics=['accuracy'])"
   ]
  },
  {
   "cell_type": "code",
   "execution_count": 193,
   "metadata": {},
   "outputs": [],
   "source": [
    "# define callbacks for early stopping during training\n",
    "# stop training when the validation loss `val_accuracy` is no longer improving\n",
    "callbacks = [tf.keras.callbacks.EarlyStopping(\n",
    "    monitor='val_accuracy',\n",
    "    min_delta=1e-3,\n",
    "    patience=5,\n",
    "    verbose=1,\n",
    "    restore_best_weights=True)]"
   ]
  },
  {
   "cell_type": "code",
   "execution_count": 194,
   "metadata": {},
   "outputs": [
    {
     "name": "stdout",
     "output_type": "stream",
     "text": [
      "Epoch 1/30\n",
      "889/889 [==============================] - 33s 34ms/step - loss: 0.6919 - accuracy: 0.5313 - val_loss: 0.6882 - val_accuracy: 0.5458\n",
      "Epoch 2/30\n",
      "889/889 [==============================] - 29s 33ms/step - loss: 0.6886 - accuracy: 0.5394 - val_loss: 0.6861 - val_accuracy: 0.5427\n",
      "Epoch 3/30\n",
      "889/889 [==============================] - 28s 31ms/step - loss: 0.6786 - accuracy: 0.5686 - val_loss: 0.6708 - val_accuracy: 0.5867\n",
      "Epoch 4/30\n",
      "889/889 [==============================] - 28s 31ms/step - loss: 0.6650 - accuracy: 0.6000 - val_loss: 0.6545 - val_accuracy: 0.6140\n",
      "Epoch 5/30\n",
      "889/889 [==============================] - 28s 31ms/step - loss: 0.6508 - accuracy: 0.6215 - val_loss: 0.6361 - val_accuracy: 0.6334\n",
      "Epoch 6/30\n",
      "889/889 [==============================] - 28s 32ms/step - loss: 0.6360 - accuracy: 0.6344 - val_loss: 0.6098 - val_accuracy: 0.6607\n",
      "Epoch 7/30\n",
      "889/889 [==============================] - 28s 31ms/step - loss: 0.6229 - accuracy: 0.6476 - val_loss: 0.6030 - val_accuracy: 0.6631\n",
      "Epoch 8/30\n",
      "889/889 [==============================] - 28s 31ms/step - loss: 0.6132 - accuracy: 0.6567 - val_loss: 0.5914 - val_accuracy: 0.6761\n",
      "Epoch 9/30\n",
      "889/889 [==============================] - 28s 31ms/step - loss: 0.6035 - accuracy: 0.6676 - val_loss: 0.5876 - val_accuracy: 0.6781\n",
      "Epoch 10/30\n",
      "889/889 [==============================] - 28s 31ms/step - loss: 0.5973 - accuracy: 0.6750 - val_loss: 0.5759 - val_accuracy: 0.6884\n",
      "Epoch 11/30\n",
      "889/889 [==============================] - 28s 31ms/step - loss: 0.5900 - accuracy: 0.6806 - val_loss: 0.5749 - val_accuracy: 0.6895\n",
      "Epoch 12/30\n",
      "889/889 [==============================] - 28s 31ms/step - loss: 0.5854 - accuracy: 0.6841 - val_loss: 0.5669 - val_accuracy: 0.6953\n",
      "Epoch 13/30\n",
      "889/889 [==============================] - 28s 31ms/step - loss: 0.5794 - accuracy: 0.6894 - val_loss: 0.5641 - val_accuracy: 0.6982\n",
      "Epoch 14/30\n",
      "889/889 [==============================] - 28s 32ms/step - loss: 0.5758 - accuracy: 0.6916 - val_loss: 0.5570 - val_accuracy: 0.7068\n",
      "Epoch 15/30\n",
      "889/889 [==============================] - 30s 34ms/step - loss: 0.5709 - accuracy: 0.6966 - val_loss: 0.5535 - val_accuracy: 0.7024\n",
      "Epoch 16/30\n",
      "889/889 [==============================] - 30s 34ms/step - loss: 0.5683 - accuracy: 0.6993 - val_loss: 0.5496 - val_accuracy: 0.7068\n",
      "Epoch 17/30\n",
      "889/889 [==============================] - 28s 31ms/step - loss: 0.5660 - accuracy: 0.7005 - val_loss: 0.5500 - val_accuracy: 0.7100\n",
      "Epoch 18/30\n",
      "889/889 [==============================] - 28s 31ms/step - loss: 0.5629 - accuracy: 0.7033 - val_loss: 0.5456 - val_accuracy: 0.7124\n",
      "Epoch 19/30\n",
      "889/889 [==============================] - 28s 31ms/step - loss: 0.5564 - accuracy: 0.7110 - val_loss: 0.5583 - val_accuracy: 0.6909\n",
      "Epoch 20/30\n",
      "889/889 [==============================] - 28s 31ms/step - loss: 0.5570 - accuracy: 0.7100 - val_loss: 0.5444 - val_accuracy: 0.7152\n",
      "Epoch 21/30\n",
      "889/889 [==============================] - 28s 31ms/step - loss: 0.5500 - accuracy: 0.7139 - val_loss: 0.5498 - val_accuracy: 0.7071\n",
      "Epoch 22/30\n",
      "889/889 [==============================] - 28s 31ms/step - loss: 0.5497 - accuracy: 0.7156 - val_loss: 0.5400 - val_accuracy: 0.7237\n",
      "Epoch 23/30\n",
      "889/889 [==============================] - 29s 32ms/step - loss: 0.5465 - accuracy: 0.7161 - val_loss: 0.5463 - val_accuracy: 0.7093\n",
      "Epoch 24/30\n",
      "889/889 [==============================] - 28s 31ms/step - loss: 0.5441 - accuracy: 0.7168 - val_loss: 0.5357 - val_accuracy: 0.7178\n",
      "Epoch 25/30\n",
      "889/889 [==============================] - 28s 31ms/step - loss: 0.5421 - accuracy: 0.7205 - val_loss: 0.5391 - val_accuracy: 0.7151\n",
      "Epoch 26/30\n",
      "889/889 [==============================] - 28s 31ms/step - loss: 0.5390 - accuracy: 0.7243 - val_loss: 0.5325 - val_accuracy: 0.7175\n",
      "Epoch 27/30\n",
      "889/889 [==============================] - 28s 31ms/step - loss: 0.5344 - accuracy: 0.7261 - val_loss: 0.5291 - val_accuracy: 0.7238\n",
      "Restoring model weights from the end of the best epoch.\n",
      "Epoch 00027: early stopping\n",
      "INFO:tensorflow:Assets written to: LSTM_2\\assets\n"
     ]
    },
    {
     "name": "stderr",
     "output_type": "stream",
     "text": [
      "INFO:tensorflow:Assets written to: LSTM_2\\assets\n"
     ]
    }
   ],
   "source": [
    "# train the model\n",
    "history = model.fit(X_train, \n",
    "                    y_train, \n",
    "                    validation_data = (X_test, y_test),\n",
    "                    epochs=30, \n",
    "                    batch_size=32,\n",
    "                    callbacks=callbacks,\n",
    "                    verbose=1)\n",
    "\n",
    "model.save(\"LSTM_2\")"
   ]
  },
  {
   "cell_type": "code",
   "execution_count": 195,
   "metadata": {},
   "outputs": [
    {
     "data": {
      "text/plain": [
       "<matplotlib.legend.Legend at 0x1889b170ac0>"
      ]
     },
     "execution_count": 195,
     "metadata": {},
     "output_type": "execute_result"
    },
    {
     "data": {
      "image/png": "[encoded data removed]",
      "text/plain": [
       "<Figure size 432x288 with 1 Axes>"
      ]
     },
     "metadata": {
      "needs_background": "light"
     },
     "output_type": "display_data"
    }
   ],
   "source": [
    "# plot the development of the accuracy over epochs to see the training progress\n",
    "plt.plot(history.history['accuracy'], label='Training accuracy')\n",
    "plt.plot(history.history['val_accuracy'], label='Validation accuracy')\n",
    "plt.title('Training and validation accuracy')\n",
    "plt.xlabel('Epochs')\n",
    "plt.ylabel('Accuracy')\n",
    "plt.legend()"
   ]
  },
  {
   "cell_type": "code",
   "execution_count": 196,
   "metadata": {},
   "outputs": [
    {
     "data": {
      "text/plain": [
       "<matplotlib.legend.Legend at 0x1889ac3d4c0>"
      ]
     },
     "execution_count": 196,
     "metadata": {},
     "output_type": "execute_result"
    },
    {
     "data": {
      "image/png": "[encoded data removed]",
      "text/plain": [
       "<Figure size 432x288 with 1 Axes>"
      ]
     },
     "metadata": {
      "needs_background": "light"
     },
     "output_type": "display_data"
    }
   ],
   "source": [
    "# plot the development of the loss over epochs to see the training progress\n",
    "plt.plot(history.history['loss'], label='Training loss')\n",
    "plt.plot(history.history['val_loss'], label='Validation loss')\n",
    "plt.title('Training and validation loss')\n",
    "plt.xlabel('Epochs')\n",
    "plt.ylabel('Loss')\n",
    "plt.legend()"
   ]
  },
  {
   "cell_type": "markdown",
   "metadata": {},
   "source": [
    "GRU\n",
    "-------------------------------------------------------------------------------\n",
    "\n",
    "Uses a similar but less complex memory cell architecture as LSTM, composed by:\n",
    "\n",
    "* **Update gate**: It determines how much of the past knowledge needs to be passed along into the future. It is analogous to the output gate in an LSTM recurrent unit.\n",
    "\n",
    "* **Reset gate**:  It determines how much of the past knowledge to forget. It is analogous to the combination of the input Gate and the forget Gate in an LSTM recurrent unit.\n",
    "\n",
    "* **Current Memory Gate**: It is incorporated into the Reset Gate and is used to introduce some non-linearity into the input and to also make the input zero-mean. It also reduces the effect that previous information has on the current information that is being passed into the future."
   ]
  },
  {
   "cell_type": "markdown",
   "metadata": {},
   "source": [
    "### Keras embedding layer"
   ]
  },
  {
   "cell_type": "code",
   "execution_count": 233,
   "metadata": {},
   "outputs": [],
   "source": [
    "# define model\n",
    "model = tf.keras.Sequential()\n",
    "model.add(layers.Embedding(input_dim = len(emb),\n",
    "                 output_dim = emb_length,\n",
    "                 input_length = sequence_length))\n",
    "\n",
    "\n",
    "model.add(layers.SpatialDropout1D(0.3))\n",
    "model.add(layers.GRU(sequence_length))\n",
    "model.add(layers.Dropout(0.5))\n",
    "model.add(layers.Dense(1, activation='sigmoid'))\n",
    "\n",
    "model.compile(loss='binary_crossentropy', optimizer='adam',metrics=['accuracy'])"
   ]
  },
  {
   "cell_type": "code",
   "execution_count": 234,
   "metadata": {},
   "outputs": [],
   "source": [
    "# define callbacks for early stopping during training\n",
    "# stop training when the validation loss `val_accuracy` is no longer improving\n",
    "callbacks = [tf.keras.callbacks.EarlyStopping(\n",
    "    monitor='val_accuracy',\n",
    "    min_delta=1e-3,\n",
    "    patience=5,\n",
    "    verbose=1,\n",
    "    restore_best_weights=True)]"
   ]
  },
  {
   "cell_type": "code",
   "execution_count": 235,
   "metadata": {},
   "outputs": [
    {
     "name": "stdout",
     "output_type": "stream",
     "text": [
      "Epoch 1/10\n",
      "889/889 [==============================] - 103s 114ms/step - loss: 0.4668 - accuracy: 0.7714 - val_loss: 0.3340 - val_accuracy: 0.8598\n",
      "Epoch 2/10\n",
      "889/889 [==============================] - 104s 117ms/step - loss: 0.2685 - accuracy: 0.8944 - val_loss: 0.2996 - val_accuracy: 0.8730\n",
      "Epoch 3/10\n",
      "889/889 [==============================] - 108s 122ms/step - loss: 0.1950 - accuracy: 0.9250 - val_loss: 0.3170 - val_accuracy: 0.8681\n",
      "Epoch 4/10\n",
      "889/889 [==============================] - 111s 124ms/step - loss: 0.1464 - accuracy: 0.9480 - val_loss: 0.3869 - val_accuracy: 0.8678\n",
      "Epoch 5/10\n",
      "889/889 [==============================] - 106s 119ms/step - loss: 0.1065 - accuracy: 0.9623 - val_loss: 0.4393 - val_accuracy: 0.8620\n",
      "Epoch 6/10\n",
      "889/889 [==============================] - 107s 120ms/step - loss: 0.0792 - accuracy: 0.9722 - val_loss: 0.5015 - val_accuracy: 0.8540\n",
      "Epoch 7/10\n",
      "889/889 [==============================] - 106s 120ms/step - loss: 0.0614 - accuracy: 0.9793 - val_loss: 0.5614 - val_accuracy: 0.8473\n",
      "Restoring model weights from the end of the best epoch.\n",
      "Epoch 00007: early stopping\n"
     ]
    },
    {
     "name": "stderr",
     "output_type": "stream",
     "text": [
      "WARNING:absl:Found untraced functions such as gru_cell_10_layer_call_and_return_conditional_losses, gru_cell_10_layer_call_fn, gru_cell_10_layer_call_fn, gru_cell_10_layer_call_and_return_conditional_losses, gru_cell_10_layer_call_and_return_conditional_losses while saving (showing 5 of 5). These functions will not be directly callable after loading.\n"
     ]
    },
    {
     "name": "stdout",
     "output_type": "stream",
     "text": [
      "INFO:tensorflow:Assets written to: GRU_1\\assets\n"
     ]
    },
    {
     "name": "stderr",
     "output_type": "stream",
     "text": [
      "INFO:tensorflow:Assets written to: GRU_1\\assets\n"
     ]
    }
   ],
   "source": [
    "# train the model\n",
    "history = model.fit(X_train, \n",
    "                    y_train, \n",
    "                    validation_data = (X_test, y_test),\n",
    "                    epochs=10, \n",
    "                    batch_size=32,\n",
    "                    callbacks=callbacks,\n",
    "                    verbose=1)\n",
    "\n",
    "model.save(\"GRU_1\")"
   ]
  },
  {
   "cell_type": "code",
   "execution_count": 236,
   "metadata": {},
   "outputs": [
    {
     "data": {
      "text/plain": [
       "<matplotlib.legend.Legend at 0x188a1767040>"
      ]
     },
     "execution_count": 236,
     "metadata": {},
     "output_type": "execute_result"
    },
    {
     "data": {
      "image/png": "[encoded data removed]",
      "text/plain": [
       "<Figure size 432x288 with 1 Axes>"
      ]
     },
     "metadata": {
      "needs_background": "light"
     },
     "output_type": "display_data"
    }
   ],
   "source": [
    "# plot the development of the accuracy over epochs to see the training progress\n",
    "plt.plot(history.history['accuracy'], label='Training accuracy')\n",
    "plt.plot(history.history['val_accuracy'], label='Validation accuracy')\n",
    "plt.title('Training and validation accuracy')\n",
    "plt.xlabel('Epochs')\n",
    "plt.ylabel('Accuracy')\n",
    "plt.legend()"
   ]
  },
  {
   "cell_type": "code",
   "execution_count": 237,
   "metadata": {},
   "outputs": [
    {
     "data": {
      "text/plain": [
       "<matplotlib.legend.Legend at 0x188af927640>"
      ]
     },
     "execution_count": 237,
     "metadata": {},
     "output_type": "execute_result"
    },
    {
     "data": {
      "image/png": "[encoded data removed]",
      "text/plain": [
       "<Figure size 432x288 with 1 Axes>"
      ]
     },
     "metadata": {
      "needs_background": "light"
     },
     "output_type": "display_data"
    }
   ],
   "source": [
    "# plot the development of the loss over epochs to see the training progress\n",
    "plt.plot(history.history['loss'], label='Training loss')\n",
    "plt.plot(history.history['val_loss'], label='Validation loss')\n",
    "plt.title('Training and validation loss')\n",
    "plt.xlabel('Epochs')\n",
    "plt.ylabel('Loss')\n",
    "plt.legend()"
   ]
  },
  {
   "cell_type": "markdown",
   "metadata": {},
   "source": [
    "### Pre-trained word embeddings"
   ]
  },
  {
   "cell_type": "code",
   "execution_count": 238,
   "metadata": {},
   "outputs": [],
   "source": [
    "# define model\n",
    "model = tf.keras.Sequential()\n",
    "model.add(layers.Embedding(input_dim = len(emb),\n",
    "                 output_dim = emb_length,\n",
    "                 weights=[emb],\n",
    "                 input_length = sequence_length, \n",
    "                 trainable = False))\n",
    "\n",
    "\n",
    "model.add(layers.SpatialDropout1D(0.3))\n",
    "model.add(layers.GRU(sequence_length))\n",
    "model.add(layers.Dropout(0.5))\n",
    "model.add(layers.Dense(1, activation='sigmoid'))\n",
    "\n",
    "model.compile(loss='binary_crossentropy', optimizer='adam',metrics=['accuracy'])"
   ]
  },
  {
   "cell_type": "code",
   "execution_count": 239,
   "metadata": {},
   "outputs": [],
   "source": [
    "# define callbacks for early stopping during training\n",
    "# stop training when the validation loss `val_accuracy` is no longer improving\n",
    "callbacks = [tf.keras.callbacks.EarlyStopping(\n",
    "    monitor='val_accuracy',\n",
    "    min_delta=1e-3,\n",
    "    patience=5,\n",
    "    verbose=1,\n",
    "    restore_best_weights=True)]"
   ]
  },
  {
   "cell_type": "code",
   "execution_count": 240,
   "metadata": {},
   "outputs": [
    {
     "name": "stdout",
     "output_type": "stream",
     "text": [
      "Epoch 1/30\n",
      "889/889 [==============================] - 19s 19ms/step - loss: 0.6945 - accuracy: 0.5250 - val_loss: 0.6881 - val_accuracy: 0.5431\n",
      "Epoch 2/30\n",
      "889/889 [==============================] - 17s 19ms/step - loss: 0.6880 - accuracy: 0.5423 - val_loss: 0.6842 - val_accuracy: 0.5648\n",
      "Epoch 3/30\n",
      "889/889 [==============================] - 16s 18ms/step - loss: 0.6731 - accuracy: 0.5792 - val_loss: 0.6576 - val_accuracy: 0.5954\n",
      "Epoch 4/30\n",
      "889/889 [==============================] - 16s 18ms/step - loss: 0.6519 - accuracy: 0.6093 - val_loss: 0.6672 - val_accuracy: 0.5724\n",
      "Epoch 5/30\n",
      "889/889 [==============================] - 16s 18ms/step - loss: 0.6310 - accuracy: 0.6346 - val_loss: 0.6100 - val_accuracy: 0.6570\n",
      "Epoch 6/30\n",
      "889/889 [==============================] - 17s 19ms/step - loss: 0.6178 - accuracy: 0.6519 - val_loss: 0.6060 - val_accuracy: 0.6525\n",
      "Epoch 7/30\n",
      "889/889 [==============================] - 16s 18ms/step - loss: 0.6068 - accuracy: 0.6618 - val_loss: 0.5899 - val_accuracy: 0.6718\n",
      "Epoch 8/30\n",
      "889/889 [==============================] - 15s 17ms/step - loss: 0.5974 - accuracy: 0.6717 - val_loss: 0.5902 - val_accuracy: 0.6659\n",
      "Epoch 9/30\n",
      "889/889 [==============================] - 15s 17ms/step - loss: 0.5859 - accuracy: 0.6807 - val_loss: 0.5800 - val_accuracy: 0.6775\n",
      "Epoch 10/30\n",
      "889/889 [==============================] - 16s 18ms/step - loss: 0.5768 - accuracy: 0.6932 - val_loss: 0.5703 - val_accuracy: 0.6913\n",
      "Epoch 11/30\n",
      "889/889 [==============================] - 15s 17ms/step - loss: 0.5655 - accuracy: 0.6993 - val_loss: 0.5584 - val_accuracy: 0.6926\n",
      "Epoch 12/30\n",
      "889/889 [==============================] - 16s 18ms/step - loss: 0.5581 - accuracy: 0.7061 - val_loss: 0.5522 - val_accuracy: 0.7012\n",
      "Epoch 13/30\n",
      "889/889 [==============================] - 15s 17ms/step - loss: 0.5514 - accuracy: 0.7133 - val_loss: 0.5480 - val_accuracy: 0.7003\n",
      "Epoch 14/30\n",
      "889/889 [==============================] - 15s 17ms/step - loss: 0.5476 - accuracy: 0.7157 - val_loss: 0.5555 - val_accuracy: 0.6986\n",
      "Epoch 15/30\n",
      "889/889 [==============================] - 15s 17ms/step - loss: 0.5411 - accuracy: 0.7222 - val_loss: 0.5486 - val_accuracy: 0.7055\n",
      "Epoch 16/30\n",
      "889/889 [==============================] - 15s 17ms/step - loss: 0.5385 - accuracy: 0.7228 - val_loss: 0.5460 - val_accuracy: 0.7069\n",
      "Epoch 17/30\n",
      "889/889 [==============================] - 15s 17ms/step - loss: 0.5329 - accuracy: 0.7299 - val_loss: 0.5534 - val_accuracy: 0.7052\n",
      "Epoch 18/30\n",
      "889/889 [==============================] - 15s 17ms/step - loss: 0.5279 - accuracy: 0.7307 - val_loss: 0.5472 - val_accuracy: 0.7076\n",
      "Epoch 19/30\n",
      "889/889 [==============================] - 14s 16ms/step - loss: 0.5213 - accuracy: 0.7394 - val_loss: 0.5547 - val_accuracy: 0.7020\n",
      "Epoch 20/30\n",
      "889/889 [==============================] - 15s 17ms/step - loss: 0.5184 - accuracy: 0.7380 - val_loss: 0.5425 - val_accuracy: 0.7120\n",
      "Epoch 21/30\n",
      "889/889 [==============================] - 15s 17ms/step - loss: 0.5157 - accuracy: 0.7419 - val_loss: 0.5386 - val_accuracy: 0.7152\n",
      "Epoch 22/30\n",
      "889/889 [==============================] - 15s 17ms/step - loss: 0.5124 - accuracy: 0.7444 - val_loss: 0.5383 - val_accuracy: 0.7074\n",
      "Epoch 23/30\n",
      "889/889 [==============================] - 14s 16ms/step - loss: 0.5062 - accuracy: 0.7514 - val_loss: 0.5404 - val_accuracy: 0.7121\n",
      "Epoch 24/30\n",
      "889/889 [==============================] - 15s 17ms/step - loss: 0.5046 - accuracy: 0.7522 - val_loss: 0.5386 - val_accuracy: 0.7149\n",
      "Epoch 25/30\n",
      "889/889 [==============================] - 16s 18ms/step - loss: 0.4985 - accuracy: 0.7532 - val_loss: 0.5525 - val_accuracy: 0.7113\n",
      "Epoch 26/30\n",
      "889/889 [==============================] - 15s 17ms/step - loss: 0.4961 - accuracy: 0.7588 - val_loss: 0.5489 - val_accuracy: 0.7152\n",
      "Restoring model weights from the end of the best epoch.\n",
      "Epoch 00026: early stopping\n"
     ]
    },
    {
     "name": "stderr",
     "output_type": "stream",
     "text": [
      "WARNING:absl:Found untraced functions such as gru_cell_11_layer_call_and_return_conditional_losses, gru_cell_11_layer_call_fn, gru_cell_11_layer_call_fn, gru_cell_11_layer_call_and_return_conditional_losses, gru_cell_11_layer_call_and_return_conditional_losses while saving (showing 5 of 5). These functions will not be directly callable after loading.\n"
     ]
    },
    {
     "name": "stdout",
     "output_type": "stream",
     "text": [
      "INFO:tensorflow:Assets written to: GRU_2\\assets\n"
     ]
    },
    {
     "name": "stderr",
     "output_type": "stream",
     "text": [
      "INFO:tensorflow:Assets written to: GRU_2\\assets\n"
     ]
    }
   ],
   "source": [
    "# train the model\n",
    "history = model.fit(X_train, \n",
    "                    y_train, \n",
    "                    validation_data = (X_test, y_test),\n",
    "                    epochs=30, \n",
    "                    batch_size=32,\n",
    "                    callbacks=callbacks,\n",
    "                    verbose=1)\n",
    "\n",
    "model.save(\"GRU_2\")"
   ]
  },
  {
   "cell_type": "code",
   "execution_count": 241,
   "metadata": {},
   "outputs": [
    {
     "data": {
      "text/plain": [
       "<matplotlib.legend.Legend at 0x1889b80dd60>"
      ]
     },
     "execution_count": 241,
     "metadata": {},
     "output_type": "execute_result"
    },
    {
     "data": {
      "image/png": "[encoded data removed]",
      "text/plain": [
       "<Figure size 432x288 with 1 Axes>"
      ]
     },
     "metadata": {
      "needs_background": "light"
     },
     "output_type": "display_data"
    }
   ],
   "source": [
    "# plot the development of the accuracy over epochs to see the training progress\n",
    "plt.plot(history.history['accuracy'], label='Training accuracy')\n",
    "plt.plot(history.history['val_accuracy'], label='Validation accuracy')\n",
    "plt.title('Training and validation accuracy')\n",
    "plt.xlabel('Epochs')\n",
    "plt.ylabel('Accuracy')\n",
    "plt.legend()"
   ]
  },
  {
   "cell_type": "code",
   "execution_count": 242,
   "metadata": {},
   "outputs": [
    {
     "data": {
      "text/plain": [
       "<matplotlib.legend.Legend at 0x188b60da670>"
      ]
     },
     "execution_count": 242,
     "metadata": {},
     "output_type": "execute_result"
    },
    {
     "data": {
      "image/png": "[encoded data removed]",
      "text/plain": [
       "<Figure size 432x288 with 1 Axes>"
      ]
     },
     "metadata": {
      "needs_background": "light"
     },
     "output_type": "display_data"
    }
   ],
   "source": [
    "# plot the development of the loss over epochs to see the training progress\n",
    "plt.plot(history.history['loss'], label='Training loss')\n",
    "plt.plot(history.history['val_loss'], label='Validation loss')\n",
    "plt.title('Training and validation loss')\n",
    "plt.xlabel('Epochs')\n",
    "plt.ylabel('Loss')\n",
    "plt.legend()"
   ]
  },
  {
   "cell_type": "markdown",
   "metadata": {},
   "source": [
    "## Bidirectional RNN\n",
    "\n",
    "Bidirectional RNN consists of putting two independent RNNs together: one whose input sequence is processed in normal time order, and another which is processed in reverse time order. This way, the network has both backward and forward information about the sequence at every time step.  The outputs of the two RNNs are concatenated at each time step. "
   ]
  },
  {
   "cell_type": "markdown",
   "metadata": {},
   "source": [
    "### Keras embedding layer"
   ]
  },
  {
   "cell_type": "code",
   "execution_count": 216,
   "metadata": {},
   "outputs": [],
   "source": [
    "# define model\n",
    "model = tf.keras.Sequential()\n",
    "model.add(layers.Embedding(input_dim = len(emb),\n",
    "                 output_dim = emb_length,\n",
    "                 input_length = sequence_length))\n",
    "\n",
    "model.add(layers.Bidirectional(layers.LSTM(sequence_length, dropout = 0.3, recurrent_dropout = 0.3)))\n",
    "model.add(layers.Dropout(0.5))\n",
    "model.add(layers.Dense(1, activation='sigmoid'))\n",
    "\n",
    "model.compile(loss='binary_crossentropy', optimizer='adam',metrics=['accuracy'])"
   ]
  },
  {
   "cell_type": "code",
   "execution_count": 217,
   "metadata": {},
   "outputs": [],
   "source": [
    "# define callbacks for early stopping during training\n",
    "# stop training when the validation loss `val_accuracy` is no longer improving\n",
    "callbacks = [tf.keras.callbacks.EarlyStopping(\n",
    "    monitor='val_accuracy',\n",
    "    min_delta=1e-3,\n",
    "    patience=5,\n",
    "    verbose=1,\n",
    "    restore_best_weights=True)]"
   ]
  },
  {
   "cell_type": "code",
   "execution_count": 218,
   "metadata": {},
   "outputs": [
    {
     "name": "stdout",
     "output_type": "stream",
     "text": [
      "Epoch 1/10\n",
      "889/889 [==============================] - 176s 191ms/step - loss: 0.4611 - accuracy: 0.7772 - val_loss: 0.3314 - val_accuracy: 0.8584\n",
      "Epoch 2/10\n",
      "889/889 [==============================] - 162s 183ms/step - loss: 0.2704 - accuracy: 0.8932 - val_loss: 0.3045 - val_accuracy: 0.8710\n",
      "Epoch 3/10\n",
      "889/889 [==============================] - 162s 182ms/step - loss: 0.1940 - accuracy: 0.9240 - val_loss: 0.3386 - val_accuracy: 0.8706\n",
      "Epoch 4/10\n",
      "889/889 [==============================] - 162s 182ms/step - loss: 0.1397 - accuracy: 0.9476 - val_loss: 0.3388 - val_accuracy: 0.8643\n",
      "Epoch 5/10\n",
      "889/889 [==============================] - 167s 188ms/step - loss: 0.1004 - accuracy: 0.9639 - val_loss: 0.4275 - val_accuracy: 0.8585\n",
      "Epoch 6/10\n",
      "889/889 [==============================] - 183s 206ms/step - loss: 0.0725 - accuracy: 0.9752 - val_loss: 0.5040 - val_accuracy: 0.8606\n",
      "Epoch 7/10\n",
      "889/889 [==============================] - 181s 204ms/step - loss: 0.0538 - accuracy: 0.9817 - val_loss: 0.5830 - val_accuracy: 0.8643\n",
      "Restoring model weights from the end of the best epoch.\n",
      "Epoch 00007: early stopping\n",
      "INFO:tensorflow:Assets written to: BI_LSTM_1\\assets\n"
     ]
    },
    {
     "name": "stderr",
     "output_type": "stream",
     "text": [
      "INFO:tensorflow:Assets written to: BI_LSTM_1\\assets\n"
     ]
    }
   ],
   "source": [
    "# train the model\n",
    "history = model.fit(X_train, \n",
    "                    y_train, \n",
    "                    validation_data = (X_test, y_test),\n",
    "                    epochs=10, \n",
    "                    batch_size=32,\n",
    "                    callbacks=callbacks,\n",
    "                    verbose=1)\n",
    "\n",
    "model.save(\"BI_LSTM_1\")"
   ]
  },
  {
   "cell_type": "code",
   "execution_count": 219,
   "metadata": {},
   "outputs": [
    {
     "data": {
      "text/plain": [
       "<matplotlib.legend.Legend at 0x1889ec86190>"
      ]
     },
     "execution_count": 219,
     "metadata": {},
     "output_type": "execute_result"
    },
    {
     "data": {
      "image/png": "[encoded data removed]",
      "text/plain": [
       "<Figure size 432x288 with 1 Axes>"
      ]
     },
     "metadata": {
      "needs_background": "light"
     },
     "output_type": "display_data"
    }
   ],
   "source": [
    "# plot the development of the accuracy over epochs to see the training progress\n",
    "plt.plot(history.history['accuracy'], label='Training accuracy')\n",
    "plt.plot(history.history['val_accuracy'], label='Validation accuracy')\n",
    "plt.title('Training and validation accuracy')\n",
    "plt.xlabel('Epochs')\n",
    "plt.ylabel('Accuracy')\n",
    "plt.legend()"
   ]
  },
  {
   "cell_type": "code",
   "execution_count": 220,
   "metadata": {},
   "outputs": [
    {
     "data": {
      "text/plain": [
       "<matplotlib.legend.Legend at 0x1889c3ddfd0>"
      ]
     },
     "execution_count": 220,
     "metadata": {},
     "output_type": "execute_result"
    },
    {
     "data": {
      "image/png": "[encoded data removed]",
      "text/plain": [
       "<Figure size 432x288 with 1 Axes>"
      ]
     },
     "metadata": {
      "needs_background": "light"
     },
     "output_type": "display_data"
    }
   ],
   "source": [
    "# plot the development of the loss over epochs to see the training progress\n",
    "plt.plot(history.history['loss'], label='Training loss')\n",
    "plt.plot(history.history['val_loss'], label='Validation loss')\n",
    "plt.title('Training and validation loss')\n",
    "plt.xlabel('Epochs')\n",
    "plt.ylabel('Loss')\n",
    "plt.legend()"
   ]
  },
  {
   "cell_type": "markdown",
   "metadata": {},
   "source": [
    "### Pre-trained word embeddings"
   ]
  },
  {
   "cell_type": "code",
   "execution_count": 221,
   "metadata": {},
   "outputs": [],
   "source": [
    "# define model\n",
    "model = tf.keras.Sequential()\n",
    "model.add(layers.Embedding(input_dim = len(emb),\n",
    "                 output_dim = emb_length,\n",
    "                 weights=[emb],\n",
    "                 input_length = sequence_length, \n",
    "                 trainable = False))\n",
    "\n",
    "model.add(layers.Bidirectional(layers.LSTM(sequence_length, dropout = 0.3, recurrent_dropout = 0.3)))\n",
    "model.add(layers.Dropout(0.5))\n",
    "model.add(layers.Dense(1, activation='sigmoid'))\n",
    "\n",
    "model.compile(loss='binary_crossentropy', optimizer='adam',metrics=['accuracy'])"
   ]
  },
  {
   "cell_type": "code",
   "execution_count": 222,
   "metadata": {},
   "outputs": [],
   "source": [
    "# define callbacks for early stopping during training\n",
    "# stop training when the validation loss `val_accuracy` is no longer improving\n",
    "callbacks = [tf.keras.callbacks.EarlyStopping(\n",
    "    monitor='val_accuracy',\n",
    "    min_delta=1e-3,\n",
    "    patience=5,\n",
    "    verbose=1,\n",
    "    restore_best_weights=True)]"
   ]
  },
  {
   "cell_type": "code",
   "execution_count": 223,
   "metadata": {},
   "outputs": [
    {
     "name": "stdout",
     "output_type": "stream",
     "text": [
      "Epoch 1/30\n",
      "889/889 [==============================] - 60s 62ms/step - loss: 0.6926 - accuracy: 0.5278 - val_loss: 0.6899 - val_accuracy: 0.5387\n",
      "Epoch 2/30\n",
      "889/889 [==============================] - 54s 61ms/step - loss: 0.6887 - accuracy: 0.5416 - val_loss: 0.6886 - val_accuracy: 0.5311\n",
      "Epoch 3/30\n",
      "889/889 [==============================] - 56s 63ms/step - loss: 0.6782 - accuracy: 0.5725 - val_loss: 0.6743 - val_accuracy: 0.5708\n",
      "Epoch 4/30\n",
      "889/889 [==============================] - 56s 63ms/step - loss: 0.6643 - accuracy: 0.5987 - val_loss: 0.6564 - val_accuracy: 0.6103\n",
      "Epoch 5/30\n",
      "889/889 [==============================] - 60s 67ms/step - loss: 0.6485 - accuracy: 0.6205 - val_loss: 0.6327 - val_accuracy: 0.6300\n",
      "Epoch 6/30\n",
      "889/889 [==============================] - 59s 67ms/step - loss: 0.6326 - accuracy: 0.6386 - val_loss: 0.6171 - val_accuracy: 0.6557\n",
      "Epoch 7/30\n",
      "889/889 [==============================] - 54s 61ms/step - loss: 0.6205 - accuracy: 0.6488 - val_loss: 0.6128 - val_accuracy: 0.6556\n",
      "Epoch 8/30\n",
      "889/889 [==============================] - 55s 62ms/step - loss: 0.6148 - accuracy: 0.6534 - val_loss: 0.5996 - val_accuracy: 0.6639\n",
      "Epoch 9/30\n",
      "889/889 [==============================] - 59s 67ms/step - loss: 0.6050 - accuracy: 0.6649 - val_loss: 0.5877 - val_accuracy: 0.6744\n",
      "Epoch 10/30\n",
      "889/889 [==============================] - 62s 70ms/step - loss: 0.5990 - accuracy: 0.6692 - val_loss: 0.5783 - val_accuracy: 0.6836\n",
      "Epoch 11/30\n",
      "889/889 [==============================] - 59s 67ms/step - loss: 0.5914 - accuracy: 0.6791 - val_loss: 0.5755 - val_accuracy: 0.6871\n",
      "Epoch 12/30\n",
      "889/889 [==============================] - 60s 67ms/step - loss: 0.5839 - accuracy: 0.6832 - val_loss: 0.5685 - val_accuracy: 0.6884\n",
      "Epoch 13/30\n",
      "889/889 [==============================] - 66s 75ms/step - loss: 0.5802 - accuracy: 0.6860 - val_loss: 0.5662 - val_accuracy: 0.6922\n",
      "Epoch 14/30\n",
      "889/889 [==============================] - 60s 68ms/step - loss: 0.5762 - accuracy: 0.6898 - val_loss: 0.5656 - val_accuracy: 0.6978\n",
      "Epoch 15/30\n",
      "889/889 [==============================] - 67s 76ms/step - loss: 0.5714 - accuracy: 0.6931 - val_loss: 0.5586 - val_accuracy: 0.7041\n",
      "Epoch 16/30\n",
      "889/889 [==============================] - 71s 80ms/step - loss: 0.5701 - accuracy: 0.6949 - val_loss: 0.5603 - val_accuracy: 0.6993\n",
      "Epoch 17/30\n",
      "889/889 [==============================] - 66s 74ms/step - loss: 0.5613 - accuracy: 0.7014 - val_loss: 0.5505 - val_accuracy: 0.7085\n",
      "Epoch 18/30\n",
      "889/889 [==============================] - 68s 77ms/step - loss: 0.5595 - accuracy: 0.7056 - val_loss: 0.5507 - val_accuracy: 0.7027\n",
      "Epoch 19/30\n",
      "889/889 [==============================] - 58s 65ms/step - loss: 0.5540 - accuracy: 0.7078 - val_loss: 0.5474 - val_accuracy: 0.7076\n",
      "Epoch 20/30\n",
      "889/889 [==============================] - 55s 62ms/step - loss: 0.5535 - accuracy: 0.7091 - val_loss: 0.5464 - val_accuracy: 0.7085\n",
      "Epoch 21/30\n",
      "889/889 [==============================] - 57s 64ms/step - loss: 0.5490 - accuracy: 0.7119 - val_loss: 0.5437 - val_accuracy: 0.7119\n",
      "Epoch 22/30\n",
      "889/889 [==============================] - 55s 62ms/step - loss: 0.5474 - accuracy: 0.7145 - val_loss: 0.5435 - val_accuracy: 0.7123\n",
      "Epoch 23/30\n",
      "889/889 [==============================] - 56s 63ms/step - loss: 0.5437 - accuracy: 0.7189 - val_loss: 0.5433 - val_accuracy: 0.7121\n",
      "Epoch 24/30\n",
      "889/889 [==============================] - 59s 66ms/step - loss: 0.5401 - accuracy: 0.7239 - val_loss: 0.5433 - val_accuracy: 0.7138\n",
      "Epoch 25/30\n",
      "889/889 [==============================] - 54s 61ms/step - loss: 0.5355 - accuracy: 0.7217 - val_loss: 0.5391 - val_accuracy: 0.7169\n",
      "Epoch 26/30\n",
      "889/889 [==============================] - 54s 60ms/step - loss: 0.5333 - accuracy: 0.7289 - val_loss: 0.5379 - val_accuracy: 0.7211\n",
      "Epoch 27/30\n",
      "889/889 [==============================] - 55s 62ms/step - loss: 0.5276 - accuracy: 0.7314 - val_loss: 0.5408 - val_accuracy: 0.7204\n",
      "Epoch 28/30\n",
      "889/889 [==============================] - 56s 63ms/step - loss: 0.5295 - accuracy: 0.7312 - val_loss: 0.5485 - val_accuracy: 0.7054\n",
      "Epoch 29/30\n",
      "889/889 [==============================] - 56s 63ms/step - loss: 0.5275 - accuracy: 0.7309 - val_loss: 0.5364 - val_accuracy: 0.7217\n",
      "Epoch 30/30\n",
      "889/889 [==============================] - 54s 61ms/step - loss: 0.5237 - accuracy: 0.7354 - val_loss: 0.5312 - val_accuracy: 0.7238\n",
      "INFO:tensorflow:Assets written to: BI_LSTM_2\\assets\n"
     ]
    },
    {
     "name": "stderr",
     "output_type": "stream",
     "text": [
      "INFO:tensorflow:Assets written to: BI_LSTM_2\\assets\n"
     ]
    }
   ],
   "source": [
    "# train the model\n",
    "history = model.fit(X_train, \n",
    "                    y_train, \n",
    "                    validation_data = (X_test, y_test),\n",
    "                    epochs=30, \n",
    "                    batch_size=32,\n",
    "                    callbacks=callbacks,\n",
    "                    verbose=1)\n",
    "\n",
    "model.save(\"BI_LSTM_2\")"
   ]
  },
  {
   "cell_type": "code",
   "execution_count": 224,
   "metadata": {},
   "outputs": [
    {
     "data": {
      "text/plain": [
       "<matplotlib.legend.Legend at 0x1889c0e90d0>"
      ]
     },
     "execution_count": 224,
     "metadata": {},
     "output_type": "execute_result"
    },
    {
     "data": {
      "image/png": "[encoded data removed]",
      "text/plain": [
       "<Figure size 432x288 with 1 Axes>"
      ]
     },
     "metadata": {
      "needs_background": "light"
     },
     "output_type": "display_data"
    }
   ],
   "source": [
    "# plot the development of the accuracy over epochs to see the training progress\n",
    "plt.plot(history.history['accuracy'], label='Training accuracy')\n",
    "plt.plot(history.history['val_accuracy'], label='Validation accuracy')\n",
    "plt.title('Training and validation accuracy')\n",
    "plt.xlabel('Epochs')\n",
    "plt.ylabel('Accuracy')\n",
    "plt.legend()"
   ]
  },
  {
   "cell_type": "code",
   "execution_count": 225,
   "metadata": {},
   "outputs": [
    {
     "data": {
      "text/plain": [
       "<matplotlib.legend.Legend at 0x1889fcfd190>"
      ]
     },
     "execution_count": 225,
     "metadata": {},
     "output_type": "execute_result"
    },
    {
     "data": {
      "image/png": "[encoded data removed]",
      "text/plain": [
       "<Figure size 432x288 with 1 Axes>"
      ]
     },
     "metadata": {
      "needs_background": "light"
     },
     "output_type": "display_data"
    }
   ],
   "source": [
    "# plot the development of the loss over epochs to see the training progress\n",
    "plt.plot(history.history['loss'], label='Training loss')\n",
    "plt.plot(history.history['val_loss'], label='Validation loss')\n",
    "plt.title('Training and validation loss')\n",
    "plt.xlabel('Epochs')\n",
    "plt.ylabel('Loss')\n",
    "plt.legend()"
   ]
  },
  {
   "cell_type": "markdown",
   "metadata": {},
   "source": [
    "## Compare model performance"
   ]
  },
  {
   "cell_type": "code",
   "execution_count": 276,
   "metadata": {},
   "outputs": [],
   "source": [
    "model_names = [\"SimpleRNN_1\", \"SimpleRNN_2\", \"LSTM_1\", \"LSTM_2\", \"GRU_1\", \"GRU_2\"]\n",
    "\n",
    "acc = dict()\n",
    "auc_res = dict()\n",
    "for model in model_names: \n",
    "    loaded_model = tf.keras.models.load_model(model)\n",
    "    results = loaded_model.evaluate(X_test, y_test, batch_size=32, verbose=0)\n",
    "    y_pred = loaded_model.predict_proba(X_test, batch_size=32)\n",
    "    acc[model] = results[1]\n",
    "    auc_res[model] = roc_auc_score(y_test, y_pred[:, 0]) "
   ]
  },
  {
   "cell_type": "code",
   "execution_count": 277,
   "metadata": {},
   "outputs": [
    {
     "data": {
      "text/plain": [
       "<BarContainer object of 6 artists>"
      ]
     },
     "execution_count": 277,
     "metadata": {},
     "output_type": "execute_result"
    },
    {
     "data": {
      "image/png": "[encoded data removed]",
      "text/plain": [
       "<Figure size 1440x504 with 1 Axes>"
      ]
     },
     "metadata": {
      "needs_background": "light"
     },
     "output_type": "display_data"
    }
   ],
   "source": [
    "fig, ax = plt.subplots(figsize=(20,7))\n",
    "plt.xlabel('Accuracy')\n",
    "keys = acc.keys()\n",
    "values = acc.values()\n",
    "\n",
    "acc\n",
    "plt.bar(keys, values)"
   ]
  },
  {
   "cell_type": "code",
   "execution_count": 278,
   "metadata": {},
   "outputs": [
    {
     "data": {
      "text/plain": [
       "<BarContainer object of 6 artists>"
      ]
     },
     "execution_count": 278,
     "metadata": {},
     "output_type": "execute_result"
    },
    {
     "data": {
      "image/png": "[encoded data removed]",
      "text/plain": [
       "<Figure size 1440x504 with 1 Axes>"
      ]
     },
     "metadata": {
      "needs_background": "light"
     },
     "output_type": "display_data"
    }
   ],
   "source": [
    "fig, ax = plt.subplots(figsize=(20,7))\n",
    "plt.xlabel('AUC ROC')\n",
    "keys = auc_res.keys()\n",
    "values = auc_res.values()\n",
    "\n",
    "auc_res\n",
    "plt.bar(keys, values)"
   ]
  },
  {
   "cell_type": "code",
   "execution_count": null,
   "metadata": {},
   "outputs": [],
   "source": []
  }
 ],
 "metadata": {
  "kernelspec": {
   "display_name": "Python 3 (ipykernel)",
   "language": "python",
   "name": "python3"
  },
  "language_info": {
   "codemirror_mode": {
    "name": "ipython",
    "version": 3
   },
   "file_extension": ".py",
   "mimetype": "text/x-python",
   "name": "python",
   "nbconvert_exporter": "python",
   "pygments_lexer": "ipython3",
   "version": "3.8.3"
  }
 },
 "nbformat": 4,
 "nbformat_minor": 4
}
