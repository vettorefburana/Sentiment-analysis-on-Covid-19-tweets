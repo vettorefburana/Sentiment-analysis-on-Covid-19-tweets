{
 "cells": [
  {
   "cell_type": "markdown",
   "metadata": {},
   "source": [
    "# Sentiment analysis on Covid-19 tweets with BERT\n",
    "\n",
    "Note: the relevant preprocessing steps for the input file used in this notebook are implemented in the notebook \"nlp_deeplearning.ipynb\""
   ]
  },
  {
   "cell_type": "code",
   "execution_count": 2,
   "metadata": {
    "_cell_guid": "b1076dfc-b9ad-4769-8c92-a6c4dae69d19",
    "_uuid": "8f2839f25d086af736a60e9eeb907d3b93b6e0e5",
    "execution": {
     "iopub.execute_input": "2021-12-08T19:29:36.279078Z",
     "iopub.status.busy": "2021-12-08T19:29:36.278398Z",
     "iopub.status.idle": "2021-12-08T19:29:47.099954Z",
     "shell.execute_reply": "2021-12-08T19:29:47.099150Z",
     "shell.execute_reply.started": "2021-12-08T19:29:36.279038Z"
    }
   },
   "outputs": [],
   "source": [
    "from __future__ import absolute_import, division, print_function, unicode_literals\n",
    "\n",
    "import pandas as pd\n",
    "import numpy as np\n",
    "import re\n",
    "from matplotlib import pyplot as plt\n",
    "import string\n",
    "import joblib\n",
    "\n",
    "from warnings import filterwarnings\n",
    "filterwarnings(\"ignore\")\n",
    "\n",
    "import tensorflow as tf\n",
    "from tensorflow.keras import layers\n",
    "from tensorflow.keras.preprocessing.text import Tokenizer\n",
    "from tensorflow.keras.preprocessing.sequence import pad_sequences\n",
    "from tensorflow.keras.optimizers import Adam\n",
    "\n",
    "import spacy\n",
    "import en_core_web_sm\n",
    "from spacy.lang.en.stop_words import STOP_WORDS\n",
    "import collections\n",
    "from collections import Counter\n",
    "import sklearn\n",
    "from sklearn.metrics import roc_auc_score\n",
    "from sklearn.preprocessing import LabelEncoder\n",
    "\n",
    "from numpy import asarray\n",
    "from numpy import savetxt\n",
    "from numpy import loadtxt\n",
    "\n",
    "import transformers\n",
    "from transformers import BertTokenizer, TFBertModel"
   ]
  },
  {
   "cell_type": "markdown",
   "metadata": {},
   "source": [
    "# BERT \n",
    "BERT (Bidirectional Encoder Representations from Transformers) is a pre-trained machine learning model for NLP tasks:\n",
    "\n",
    "* Base model: 12-layers, 768-hidden, 12-heads, 110M parameter neural network\n",
    "* Large model: 24-layer, 1024-hidden, 16-heads, 340M parameter neural network\n",
    "\n",
    "A transformer is a deep learning model that adopts the mechanism of attention, differentially weighting the significance of each part of the input data. Like recurrent neural networks (RNNs), transformers are designed to handle sequential input data, such as natural language, although they do not necessarily process the data in order. Rather, the attention mechanism helps the transformer encoder identify the contextual relations between words in a text. This feature allows for more parallelization than RNNs and therefore reduces training times.\n",
    "\n",
    "The transformer encoder takes as input a sequence of tokens, which are embedded into real-valued vectors and processed in the neural network. \n",
    "\n",
    "Training strategies: \n",
    "\n",
    "* Masked LM (MLM): before processing word sequences, 15% of the words in each sequence are masked, so that the model attempts to predict the masked tokens based on the context. \n",
    "* Next sentence prediction (NSP): the model receives pairs of sentences as input and learns to predict if the second sentence in the pair is the subsequent sentence in the original document.\n",
    "\n",
    "When training the BERT model, Masked LM and Next Sentence Prediction are trained together, with the goal of minimizing the combined loss function of the two strategies.\n",
    "\n",
    "-----------------------------------------------------------------------------------------------------\n",
    "\n",
    "Before being used by BERT as inputs, the tweets are preprocessed using the transformers encoder: \n",
    "\n",
    "* input ids: token indices, i.e. numerical representations of token sequences that will be used as input by the model\n",
    "* attention mask: optional argument, indicates which tokens should be attended to and which should not. Sequences of different lengths are padded/sliced until they are of the same dimension; the attention mask indicates the position of the padded indices, so that the model knows which token ids to ignore."
   ]
  },
  {
   "cell_type": "code",
   "execution_count": 3,
   "metadata": {
    "execution": {
     "iopub.execute_input": "2021-12-08T19:29:47.102261Z",
     "iopub.status.busy": "2021-12-08T19:29:47.101989Z",
     "iopub.status.idle": "2021-12-08T19:29:47.513636Z",
     "shell.execute_reply": "2021-12-08T19:29:47.512858Z",
     "shell.execute_reply.started": "2021-12-08T19:29:47.102224Z"
    }
   },
   "outputs": [],
   "source": [
    "df = pd.read_csv(\"./input/data_deeplearning.csv\")"
   ]
  },
  {
   "cell_type": "code",
   "execution_count": 4,
   "metadata": {
    "execution": {
     "iopub.execute_input": "2021-12-08T19:29:47.570093Z",
     "iopub.status.busy": "2021-12-08T19:29:47.569537Z",
     "iopub.status.idle": "2021-12-08T19:29:47.575414Z",
     "shell.execute_reply": "2021-12-08T19:29:47.574575Z",
     "shell.execute_reply.started": "2021-12-08T19:29:47.570057Z"
    }
   },
   "outputs": [
    {
     "name": "stdout",
     "output_type": "stream",
     "text": [
      "28444 7111\n"
     ]
    }
   ],
   "source": [
    "# define train and test size\n",
    "train_size = int( len(df)*0.8 )\n",
    "test_size = int( len(df) - train_size )\n",
    "print(train_size, test_size)"
   ]
  },
  {
   "cell_type": "code",
   "execution_count": 5,
   "metadata": {
    "execution": {
     "iopub.execute_input": "2021-12-08T19:29:50.366537Z",
     "iopub.status.busy": "2021-12-08T19:29:50.366281Z",
     "iopub.status.idle": "2021-12-08T19:29:50.380749Z",
     "shell.execute_reply": "2021-12-08T19:29:50.379711Z",
     "shell.execute_reply.started": "2021-12-08T19:29:50.366509Z"
    }
   },
   "outputs": [
    {
     "name": "stdout",
     "output_type": "stream",
     "text": [
      "Training data X, y: (28444,) (28444,)\n",
      "Testing data X, y: (7111,) (7111,)\n"
     ]
    }
   ],
   "source": [
    "# split dataset\n",
    "X_train = df.head(train_size).tweet_clean \n",
    "y_train = df.head(train_size).target_encoded\n",
    "\n",
    "X_test = df.tail(test_size).tweet_clean\n",
    "y_test = df.tail(test_size).target_encoded\n",
    "\n",
    "print('Training data X, y:', X_train.shape, y_train.shape)\n",
    "print('Testing data X, y:', X_test.shape, y_test.shape)"
   ]
  },
  {
   "cell_type": "code",
   "execution_count": 6,
   "metadata": {
    "execution": {
     "iopub.execute_input": "2021-12-08T19:29:50.867772Z",
     "iopub.status.busy": "2021-12-08T19:29:50.867242Z",
     "iopub.status.idle": "2021-12-08T19:29:50.871763Z",
     "shell.execute_reply": "2021-12-08T19:29:50.870923Z",
     "shell.execute_reply.started": "2021-12-08T19:29:50.867734Z"
    }
   },
   "outputs": [],
   "source": [
    "# paramerers, based on results from preprocessing\n",
    "emb_length = 300\n",
    "max_length = 58 # length of longest sequence\n",
    "sequence_length = 35  "
   ]
  },
  {
   "cell_type": "code",
   "execution_count": 7,
   "metadata": {
    "execution": {
     "iopub.execute_input": "2021-12-08T19:29:51.808293Z",
     "iopub.status.busy": "2021-12-08T19:29:51.807761Z",
     "iopub.status.idle": "2021-12-08T19:30:20.525221Z",
     "shell.execute_reply": "2021-12-08T19:30:20.524477Z",
     "shell.execute_reply.started": "2021-12-08T19:29:51.808255Z"
    }
   },
   "outputs": [
    {
     "data": {
      "application/vnd.jupyter.widget-view+json": {
       "model_id": "659c822ecd14445383b9463ca756f506",
       "version_major": 2,
       "version_minor": 0
      },
      "text/plain": [
       "Downloading:   0%|          | 0.00/226k [00:00<?, ?B/s]"
      ]
     },
     "metadata": {},
     "output_type": "display_data"
    },
    {
     "data": {
      "application/vnd.jupyter.widget-view+json": {
       "model_id": "c2ab992ad49840478bc96f5198fe93f6",
       "version_major": 2,
       "version_minor": 0
      },
      "text/plain": [
       "Downloading:   0%|          | 0.00/28.0 [00:00<?, ?B/s]"
      ]
     },
     "metadata": {},
     "output_type": "display_data"
    },
    {
     "data": {
      "application/vnd.jupyter.widget-view+json": {
       "model_id": "cc57fed77ef1483eaf25bff29c41ecb6",
       "version_major": 2,
       "version_minor": 0
      },
      "text/plain": [
       "Downloading:   0%|          | 0.00/455k [00:00<?, ?B/s]"
      ]
     },
     "metadata": {},
     "output_type": "display_data"
    },
    {
     "data": {
      "application/vnd.jupyter.widget-view+json": {
       "model_id": "1c0a9a62097a40ce9c11803871b124e4",
       "version_major": 2,
       "version_minor": 0
      },
      "text/plain": [
       "Downloading:   0%|          | 0.00/571 [00:00<?, ?B/s]"
      ]
     },
     "metadata": {},
     "output_type": "display_data"
    },
    {
     "data": {
      "application/vnd.jupyter.widget-view+json": {
       "model_id": "25c3ed1bb7664bfe85b9e0b2267653da",
       "version_major": 2,
       "version_minor": 0
      },
      "text/plain": [
       "Downloading:   0%|          | 0.00/570 [00:00<?, ?B/s]"
      ]
     },
     "metadata": {},
     "output_type": "display_data"
    },
    {
     "data": {
      "application/vnd.jupyter.widget-view+json": {
       "model_id": "9dd8b78388814dd39ff49ec54eacde60",
       "version_major": 2,
       "version_minor": 0
      },
      "text/plain": [
       "Downloading:   0%|          | 0.00/511M [00:00<?, ?B/s]"
      ]
     },
     "metadata": {},
     "output_type": "display_data"
    },
    {
     "name": "stderr",
     "output_type": "stream",
     "text": [
      "2021-12-08 19:30:10.341543: I tensorflow/stream_executor/cuda/cuda_gpu_executor.cc:937] successful NUMA node read from SysFS had negative value (-1), but there must be at least one NUMA node, so returning NUMA node zero\n",
      "2021-12-08 19:30:10.342747: I tensorflow/stream_executor/cuda/cuda_gpu_executor.cc:937] successful NUMA node read from SysFS had negative value (-1), but there must be at least one NUMA node, so returning NUMA node zero\n",
      "2021-12-08 19:30:10.343420: I tensorflow/stream_executor/cuda/cuda_gpu_executor.cc:937] successful NUMA node read from SysFS had negative value (-1), but there must be at least one NUMA node, so returning NUMA node zero\n",
      "2021-12-08 19:30:10.344217: I tensorflow/core/platform/cpu_feature_guard.cc:142] This TensorFlow binary is optimized with oneAPI Deep Neural Network Library (oneDNN) to use the following CPU instructions in performance-critical operations:  AVX2 AVX512F FMA\n",
      "To enable them in other operations, rebuild TensorFlow with the appropriate compiler flags.\n",
      "2021-12-08 19:30:10.345317: I tensorflow/stream_executor/cuda/cuda_gpu_executor.cc:937] successful NUMA node read from SysFS had negative value (-1), but there must be at least one NUMA node, so returning NUMA node zero\n",
      "2021-12-08 19:30:10.345991: I tensorflow/stream_executor/cuda/cuda_gpu_executor.cc:937] successful NUMA node read from SysFS had negative value (-1), but there must be at least one NUMA node, so returning NUMA node zero\n",
      "2021-12-08 19:30:10.346607: I tensorflow/stream_executor/cuda/cuda_gpu_executor.cc:937] successful NUMA node read from SysFS had negative value (-1), but there must be at least one NUMA node, so returning NUMA node zero\n",
      "2021-12-08 19:30:18.162273: I tensorflow/stream_executor/cuda/cuda_gpu_executor.cc:937] successful NUMA node read from SysFS had negative value (-1), but there must be at least one NUMA node, so returning NUMA node zero\n",
      "2021-12-08 19:30:18.163148: I tensorflow/stream_executor/cuda/cuda_gpu_executor.cc:937] successful NUMA node read from SysFS had negative value (-1), but there must be at least one NUMA node, so returning NUMA node zero\n",
      "2021-12-08 19:30:18.163795: I tensorflow/stream_executor/cuda/cuda_gpu_executor.cc:937] successful NUMA node read from SysFS had negative value (-1), but there must be at least one NUMA node, so returning NUMA node zero\n",
      "2021-12-08 19:30:18.164422: I tensorflow/core/common_runtime/gpu/gpu_device.cc:1510] Created device /job:localhost/replica:0/task:0/device:GPU:0 with 14589 MB memory:  -> device: 0, name: Tesla P100-PCIE-16GB, pci bus id: 0000:00:04.0, compute capability: 6.0\n",
      "Some layers from the model checkpoint at bert-base-uncased were not used when initializing TFBertModel: ['nsp___cls', 'mlm___cls']\n",
      "- This IS expected if you are initializing TFBertModel from the checkpoint of a model trained on another task or with another architecture (e.g. initializing a BertForSequenceClassification model from a BertForPreTraining model).\n",
      "- This IS NOT expected if you are initializing TFBertModel from the checkpoint of a model that you expect to be exactly identical (initializing a BertForSequenceClassification model from a BertForSequenceClassification model).\n",
      "All the layers of TFBertModel were initialized from the model checkpoint at bert-base-uncased.\n",
      "If your task is similar to the task the model of the checkpoint was trained on, you can already use TFBertModel for predictions without further training.\n"
     ]
    }
   ],
   "source": [
    "# load pre-trained bert tokenizer and model\n",
    "tokenizer = BertTokenizer.from_pretrained('bert-large-uncased')\n",
    "bert_model = TFBertModel.from_pretrained('bert-base-uncased')"
   ]
  },
  {
   "cell_type": "code",
   "execution_count": 8,
   "metadata": {
    "execution": {
     "iopub.execute_input": "2021-12-08T19:30:20.527725Z",
     "iopub.status.busy": "2021-12-08T19:30:20.526980Z",
     "iopub.status.idle": "2021-12-08T19:30:20.533767Z",
     "shell.execute_reply": "2021-12-08T19:30:20.532811Z",
     "shell.execute_reply.started": "2021-12-08T19:30:20.527685Z"
    }
   },
   "outputs": [],
   "source": [
    "def inputs_bert(data, sequence_length):\n",
    "    \"\"\" preprocess text for BERT model input \"\"\"\n",
    "    input_ids = []\n",
    "    attention_masks = []\n",
    "\n",
    "    for text in data:\n",
    "        encoded = tokenizer.encode_plus(\n",
    "        text, \n",
    "        add_special_tokens=True,\n",
    "        max_length=sequence_length, #set max length of tokens equal to median tweet length\n",
    "        pad_to_max_length=True,\n",
    "        return_attention_mask=True)\n",
    "\n",
    "        input_ids.append(encoded['input_ids'])\n",
    "        attention_masks.append(encoded['attention_mask'])\n",
    "        \n",
    "    return np.array(input_ids), np.array(attention_masks)"
   ]
  },
  {
   "cell_type": "code",
   "execution_count": 9,
   "metadata": {
    "execution": {
     "iopub.execute_input": "2021-12-08T19:30:20.535443Z",
     "iopub.status.busy": "2021-12-08T19:30:20.535135Z",
     "iopub.status.idle": "2021-12-08T19:31:09.317309Z",
     "shell.execute_reply": "2021-12-08T19:31:09.316572Z",
     "shell.execute_reply.started": "2021-12-08T19:30:20.535407Z"
    }
   },
   "outputs": [
    {
     "name": "stderr",
     "output_type": "stream",
     "text": [
      "Truncation was not explicitly activated but `max_length` is provided a specific value, please use `truncation=True` to explicitly truncate examples to max length. Defaulting to 'longest_first' truncation strategy. If you encode pairs of sequences (GLUE-style) with the tokenizer you can select this strategy more precisely by providing a specific strategy to `truncation`.\n"
     ]
    }
   ],
   "source": [
    "train_input_ids, train_attention_masks = inputs_bert(X_train, sequence_length)\n",
    "test_input_ids, test_attention_masks = inputs_bert(X_test, sequence_length)"
   ]
  },
  {
   "cell_type": "code",
   "execution_count": 10,
   "metadata": {
    "execution": {
     "iopub.execute_input": "2021-12-08T19:31:09.319247Z",
     "iopub.status.busy": "2021-12-08T19:31:09.318989Z",
     "iopub.status.idle": "2021-12-08T19:31:15.920179Z",
     "shell.execute_reply": "2021-12-08T19:31:15.919421Z",
     "shell.execute_reply.started": "2021-12-08T19:31:09.319214Z"
    }
   },
   "outputs": [],
   "source": [
    "# add dense layer and output layer to pre-trained model and train only those\n",
    "input_ids = tf.keras.Input(shape=(sequence_length,),dtype='int32')\n",
    "attention_masks = tf.keras.Input(shape=(sequence_length,),dtype='int32')\n",
    "\n",
    "output = bert_model([input_ids, attention_masks])\n",
    "output = output[1]\n",
    "output = tf.keras.layers.Dense(sequence_length, activation='relu')(output)\n",
    "output = tf.keras.layers.Dropout(0.5)(output)\n",
    "output = tf.keras.layers.Dense(1, activation='sigmoid')(output)\n",
    "\n",
    "model = tf.keras.models.Model(inputs = [input_ids, attention_masks], outputs = output)\n",
    "model.compile(optimizer=Adam(lr=1e-5), loss='binary_crossentropy', metrics=['accuracy'])"
   ]
  },
  {
   "cell_type": "code",
   "execution_count": 11,
   "metadata": {
    "execution": {
     "iopub.execute_input": "2021-12-08T19:31:15.921853Z",
     "iopub.status.busy": "2021-12-08T19:31:15.921604Z",
     "iopub.status.idle": "2021-12-08T19:39:13.929268Z",
     "shell.execute_reply": "2021-12-08T19:39:13.928524Z",
     "shell.execute_reply.started": "2021-12-08T19:31:15.921820Z"
    }
   },
   "outputs": [
    {
     "name": "stderr",
     "output_type": "stream",
     "text": [
      "2021-12-08 19:31:15.999821: I tensorflow/compiler/mlir/mlir_graph_optimization_pass.cc:185] None of the MLIR Optimization Passes are enabled (registered 2)\n"
     ]
    },
    {
     "name": "stdout",
     "output_type": "stream",
     "text": [
      "Epoch 1/3\n",
      "889/889 [==============================] - 171s 176ms/step - loss: 0.4821 - accuracy: 0.7722 - val_loss: 0.3623 - val_accuracy: 0.8402\n",
      "Epoch 2/3\n",
      "889/889 [==============================] - 154s 173ms/step - loss: 0.3285 - accuracy: 0.8635 - val_loss: 0.3128 - val_accuracy: 0.8661\n",
      "Epoch 3/3\n",
      "889/889 [==============================] - 154s 173ms/step - loss: 0.2584 - accuracy: 0.8999 - val_loss: 0.3170 - val_accuracy: 0.8651\n"
     ]
    }
   ],
   "source": [
    "history = model.fit(\n",
    "    [train_input_ids, train_attention_masks],\n",
    "    y_train,\n",
    "    validation_data = ([test_input_ids, test_attention_masks], y_test), \n",
    "    epochs=3,\n",
    "    batch_size=32)"
   ]
  },
  {
   "cell_type": "code",
   "execution_count": 13,
   "metadata": {
    "execution": {
     "iopub.execute_input": "2021-12-08T19:40:35.752496Z",
     "iopub.status.busy": "2021-12-08T19:40:35.751946Z",
     "iopub.status.idle": "2021-12-08T19:40:36.019746Z",
     "shell.execute_reply": "2021-12-08T19:40:36.019111Z",
     "shell.execute_reply.started": "2021-12-08T19:40:35.752453Z"
    }
   },
   "outputs": [
    {
     "data": {
      "text/plain": [
       "<matplotlib.legend.Legend at 0x7f95725daed0>"
      ]
     },
     "execution_count": 13,
     "metadata": {},
     "output_type": "execute_result"
    },
    {
     "data": {
      "image/png": "[encoded data removed]",
      "text/plain": [
       "<Figure size 432x288 with 1 Axes>"
      ]
     },
     "metadata": {
      "needs_background": "light"
     },
     "output_type": "display_data"
    }
   ],
   "source": [
    "# plot the development of the accuracy over epochs to see the training progress\n",
    "plt.plot(history.history['accuracy'], label='Training accuracy')\n",
    "plt.plot(history.history['val_accuracy'], label='Validation accuracy')\n",
    "plt.title('Training and validation accuracy')\n",
    "plt.xlabel('Epochs')\n",
    "plt.ylabel('Accuracy')\n",
    "plt.legend()"
   ]
  },
  {
   "cell_type": "code",
   "execution_count": 14,
   "metadata": {
    "execution": {
     "iopub.execute_input": "2021-12-08T19:40:48.272589Z",
     "iopub.status.busy": "2021-12-08T19:40:48.271826Z",
     "iopub.status.idle": "2021-12-08T19:40:48.494385Z",
     "shell.execute_reply": "2021-12-08T19:40:48.493711Z",
     "shell.execute_reply.started": "2021-12-08T19:40:48.272552Z"
    }
   },
   "outputs": [
    {
     "data": {
      "text/plain": [
       "<matplotlib.legend.Legend at 0x7f956bd11190>"
      ]
     },
     "execution_count": 14,
     "metadata": {},
     "output_type": "execute_result"
    },
    {
     "data": {
      "image/png": "[encoded data removed]",
      "text/plain": [
       "<Figure size 432x288 with 1 Axes>"
      ]
     },
     "metadata": {
      "needs_background": "light"
     },
     "output_type": "display_data"
    }
   ],
   "source": [
    "# plot the development of the loss over epochs to see the training progress\n",
    "plt.plot(history.history['loss'], label='Training loss')\n",
    "plt.plot(history.history['val_loss'], label='Validation loss')\n",
    "plt.title('Training and validation loss')\n",
    "plt.xlabel('Epochs')\n",
    "plt.ylabel('Loss')\n",
    "plt.legend()"
   ]
  },
  {
   "cell_type": "code",
   "execution_count": null,
   "metadata": {},
   "outputs": [],
   "source": []
  }
 ],
 "metadata": {
  "kernelspec": {
   "display_name": "Python 3 (ipykernel)",
   "language": "python",
   "name": "python3"
  },
  "language_info": {
   "codemirror_mode": {
    "name": "ipython",
    "version": 3
   },
   "file_extension": ".py",
   "mimetype": "text/x-python",
   "name": "python",
   "nbconvert_exporter": "python",
   "pygments_lexer": "ipython3",
   "version": "3.8.3"
  }
 },
 "nbformat": 4,
 "nbformat_minor": 4
}
