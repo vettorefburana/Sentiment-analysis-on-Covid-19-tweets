{
 "cells": [
  {
   "cell_type": "markdown",
   "metadata": {},
   "source": [
    "# Sentiment analysis on Covid-19 tweets with machine learning classifiers\n",
    "\n",
    "Classify 45k tweets on Covid-19 as positive or negative based on the following machine learning models: \n",
    "\n",
    "* Multinomial Naive Bayes Model\n",
    "* Random Forests \n",
    "* ADABoost\n",
    "* XGBoost\n",
    "\n",
    "The tweets are preprocessed using the following NLP methods: \n",
    "\n",
    "* Bag-of-words model\n",
    "* Bag-of-POS model\n",
    "* Pre-trained word embeddings\n"
   ]
  },
  {
   "cell_type": "code",
   "execution_count": 2,
   "metadata": {},
   "outputs": [],
   "source": [
    "import pandas as pd\n",
    "import numpy as np\n",
    "import re\n",
    "from matplotlib import pyplot as plt\n",
    "import string\n",
    "import joblib\n",
    "\n",
    "from warnings import filterwarnings\n",
    "filterwarnings(\"ignore\")\n",
    "\n",
    "import nltk\n",
    "from nltk import pos_tag, word_tokenize\n",
    "from nltk.stem import WordNetLemmatizer \n",
    "from nltk.stem.porter import PorterStemmer\n",
    "from nltk.corpus import stopwords\n",
    "from sklearn.feature_extraction.text import CountVectorizer\n",
    "\n",
    "from __future__ import absolute_import, division, print_function, unicode_literals\n",
    "import spacy\n",
    "from spacy.lang.en.stop_words import STOP_WORDS\n",
    "import collections\n",
    "from collections import Counter\n",
    "from wordcloud import WordCloud, STOPWORDS, ImageColorGenerator\n",
    "\n",
    "import sklearn\n",
    "from sklearn.feature_extraction.text import TfidfVectorizer\n",
    "from sklearn.utils import shuffle\n",
    "from sklearn.model_selection import train_test_split\n",
    "from sklearn.model_selection import StratifiedKFold\n",
    "from sklearn.model_selection import GridSearchCV\n",
    "from sklearn.metrics import roc_curve\n",
    "from sklearn.metrics import auc \n",
    "from sklearn.metrics import roc_auc_score\n",
    "from sklearn.metrics import accuracy_score\n",
    "from sklearn.pipeline import Pipeline\n",
    "from sklearn.tree import DecisionTreeClassifier\n",
    "from sklearn.ensemble import AdaBoostClassifier\n",
    "from sklearn.ensemble import RandomForestClassifier\n",
    "from sklearn.preprocessing import LabelEncoder\n",
    "from sklearn.naive_bayes import MultinomialNB\n",
    "\n",
    "from xgboost import XGBClassifier\n",
    "from tune_sklearn import TuneGridSearchCV"
   ]
  },
  {
   "cell_type": "code",
   "execution_count": 3,
   "metadata": {},
   "outputs": [],
   "source": [
    "def preprocessor(text):\n",
    "    # convert to lowercase, susbstitute non alphanumerical characters with whitespaces\n",
    "    text = re.sub('<[^>]*>', '', text)\n",
    "    emoticons = re.findall('(?::|;|=)(?:-)?(?:\\)|\\(|D|P)', text)\n",
    "    text = (re.sub('[\\W]+', ' ', text.lower()) +\n",
    "            ' '.join(emoticons).replace('-', ''))\n",
    "    return text"
   ]
  },
  {
   "cell_type": "code",
   "execution_count": 4,
   "metadata": {},
   "outputs": [],
   "source": [
    "def test_performance(model, X_test): \n",
    "    ''' Given a fitted model and a test set, returns optimal hyperparameters, AUC and accuracy '''\n",
    "    clf_b = model.best_estimator_\n",
    "    y_pred_proba = clf_b.predict_proba(X_test)\n",
    "    y_pred = clf_b.predict(X_test)\n",
    "\n",
    "    # performance metrics\n",
    "    auc_res=roc_auc_score(y_test, y_pred_proba[:, 1])\n",
    "    acc = accuracy_score(y_test, y_pred)\n",
    "    \n",
    "    return (model.best_params_, auc_res, acc)\n"
   ]
  },
  {
   "cell_type": "code",
   "execution_count": 5,
   "metadata": {},
   "outputs": [],
   "source": [
    "stopwords = list(set(stopwords.words(\"english\")))"
   ]
  },
  {
   "cell_type": "markdown",
   "metadata": {},
   "source": [
    "# Data analytics\n",
    "\n",
    "* There are no duplicated values in the dataset\n",
    "* Missing values only in the location feature\n",
    "* Most tweets have positive sentiment\n",
    "* On average, each tweet has about 30 words"
   ]
  },
  {
   "cell_type": "code",
   "execution_count": 27,
   "metadata": {},
   "outputs": [],
   "source": [
    "train_data=pd.read_csv(\"./Corona_NLP_train.csv\",encoding=\"latin1\")\n",
    "test_data=pd.read_csv(\"./Corona_NLP_test.csv\",encoding=\"latin1\")"
   ]
  },
  {
   "cell_type": "code",
   "execution_count": 28,
   "metadata": {},
   "outputs": [
    {
     "data": {
      "text/plain": [
       "(44955, 6)"
      ]
     },
     "execution_count": 28,
     "metadata": {},
     "output_type": "execute_result"
    }
   ],
   "source": [
    "# merge train and test datasets\n",
    "df = pd.concat([train_data, test_data], axis = 0)\n",
    "df.shape"
   ]
  },
  {
   "cell_type": "code",
   "execution_count": 29,
   "metadata": {},
   "outputs": [
    {
     "data": {
      "text/plain": [
       "0"
      ]
     },
     "execution_count": 29,
     "metadata": {},
     "output_type": "execute_result"
    }
   ],
   "source": [
    "# duplicated tweets\n",
    "duplicates = df[df.duplicated()]\n",
    "len(duplicates)"
   ]
  },
  {
   "cell_type": "code",
   "execution_count": 30,
   "metadata": {},
   "outputs": [
    {
     "data": {
      "text/plain": [
       "UserName            0\n",
       "ScreenName          0\n",
       "Location         9424\n",
       "TweetAt             0\n",
       "OriginalTweet       0\n",
       "Sentiment           0\n",
       "dtype: int64"
      ]
     },
     "execution_count": 30,
     "metadata": {},
     "output_type": "execute_result"
    }
   ],
   "source": [
    "df.isnull().sum()"
   ]
  },
  {
   "cell_type": "code",
   "execution_count": 31,
   "metadata": {},
   "outputs": [
    {
     "data": {
      "text/html": [
       "<div>\n",
       "<style scoped>\n",
       "    .dataframe tbody tr th:only-of-type {\n",
       "        vertical-align: middle;\n",
       "    }\n",
       "\n",
       "    .dataframe tbody tr th {\n",
       "        vertical-align: top;\n",
       "    }\n",
       "\n",
       "    .dataframe thead th {\n",
       "        text-align: right;\n",
       "    }\n",
       "</style>\n",
       "<table border=\"1\" class=\"dataframe\">\n",
       "  <thead>\n",
       "    <tr style=\"text-align: right;\">\n",
       "      <th></th>\n",
       "      <th>UserName</th>\n",
       "      <th>ScreenName</th>\n",
       "      <th>Location</th>\n",
       "      <th>TweetAt</th>\n",
       "      <th>OriginalTweet</th>\n",
       "      <th>Sentiment</th>\n",
       "    </tr>\n",
       "  </thead>\n",
       "  <tbody>\n",
       "    <tr>\n",
       "      <th>0</th>\n",
       "      <td>3799</td>\n",
       "      <td>48751</td>\n",
       "      <td>London</td>\n",
       "      <td>16-03-2020</td>\n",
       "      <td>@MeNyrbie @Phil_Gahan @Chrisitv https://t.co/i...</td>\n",
       "      <td>Neutral</td>\n",
       "    </tr>\n",
       "    <tr>\n",
       "      <th>1</th>\n",
       "      <td>3800</td>\n",
       "      <td>48752</td>\n",
       "      <td>UK</td>\n",
       "      <td>16-03-2020</td>\n",
       "      <td>advice Talk to your neighbours family to excha...</td>\n",
       "      <td>Positive</td>\n",
       "    </tr>\n",
       "    <tr>\n",
       "      <th>2</th>\n",
       "      <td>3801</td>\n",
       "      <td>48753</td>\n",
       "      <td>Vagabonds</td>\n",
       "      <td>16-03-2020</td>\n",
       "      <td>Coronavirus Australia: Woolworths to give elde...</td>\n",
       "      <td>Positive</td>\n",
       "    </tr>\n",
       "    <tr>\n",
       "      <th>3</th>\n",
       "      <td>3802</td>\n",
       "      <td>48754</td>\n",
       "      <td>NaN</td>\n",
       "      <td>16-03-2020</td>\n",
       "      <td>My food stock is not the only one which is emp...</td>\n",
       "      <td>Positive</td>\n",
       "    </tr>\n",
       "    <tr>\n",
       "      <th>4</th>\n",
       "      <td>3803</td>\n",
       "      <td>48755</td>\n",
       "      <td>NaN</td>\n",
       "      <td>16-03-2020</td>\n",
       "      <td>Me, ready to go at supermarket during the #COV...</td>\n",
       "      <td>Extremely Negative</td>\n",
       "    </tr>\n",
       "  </tbody>\n",
       "</table>\n",
       "</div>"
      ],
      "text/plain": [
       "   UserName  ScreenName   Location     TweetAt  \\\n",
       "0      3799       48751     London  16-03-2020   \n",
       "1      3800       48752         UK  16-03-2020   \n",
       "2      3801       48753  Vagabonds  16-03-2020   \n",
       "3      3802       48754        NaN  16-03-2020   \n",
       "4      3803       48755        NaN  16-03-2020   \n",
       "\n",
       "                                       OriginalTweet           Sentiment  \n",
       "0  @MeNyrbie @Phil_Gahan @Chrisitv https://t.co/i...             Neutral  \n",
       "1  advice Talk to your neighbours family to excha...            Positive  \n",
       "2  Coronavirus Australia: Woolworths to give elde...            Positive  \n",
       "3  My food stock is not the only one which is emp...            Positive  \n",
       "4  Me, ready to go at supermarket during the #COV...  Extremely Negative  "
      ]
     },
     "execution_count": 31,
     "metadata": {},
     "output_type": "execute_result"
    }
   ],
   "source": [
    "df.head()"
   ]
  },
  {
   "cell_type": "code",
   "execution_count": 32,
   "metadata": {},
   "outputs": [
    {
     "data": {
      "text/plain": [
       "<AxesSubplot:xlabel='Sentiment'>"
      ]
     },
     "execution_count": 32,
     "metadata": {},
     "output_type": "execute_result"
    },
    {
     "data": {
      "image/png": "[encoded data removed]",
      "text/plain": [
       "<Figure size 720x360 with 1 Axes>"
      ]
     },
     "metadata": {
      "needs_background": "light"
     },
     "output_type": "display_data"
    }
   ],
   "source": [
    "counts = df.groupby(\"Sentiment\")[\"Sentiment\"].agg(\"count\")\n",
    "\n",
    "fig, ax = plt.subplots(figsize=(10,5))\n",
    "counts.plot.bar()"
   ]
  },
  {
   "cell_type": "code",
   "execution_count": 33,
   "metadata": {},
   "outputs": [
    {
     "data": {
      "text/plain": [
       "array(['Positive', 'Negative', 'Extremely Positive', 'Extremely Negative'],\n",
       "      dtype=object)"
      ]
     },
     "execution_count": 33,
     "metadata": {},
     "output_type": "execute_result"
    }
   ],
   "source": [
    "# remove neutral tweets\n",
    "df.drop(df[df.Sentiment == \"Neutral\"].index, inplace = True)\n",
    "\n",
    "df.Sentiment.unique()"
   ]
  },
  {
   "cell_type": "code",
   "execution_count": 34,
   "metadata": {},
   "outputs": [
    {
     "data": {
      "text/plain": [
       "array(['Positive', 'Negative'], dtype=object)"
      ]
     },
     "execution_count": 34,
     "metadata": {},
     "output_type": "execute_result"
    }
   ],
   "source": [
    "# Aggregate extremely positive/negative values\n",
    "df = df.replace(\"Extremely Positive\", \"Positive\")\n",
    "df = df.replace(\"Extremely Negative\", \"Negative\")\n",
    "\n",
    "df.Sentiment.unique()"
   ]
  },
  {
   "cell_type": "code",
   "execution_count": 35,
   "metadata": {},
   "outputs": [
    {
     "data": {
      "text/plain": [
       "<AxesSubplot:xlabel='Sentiment'>"
      ]
     },
     "execution_count": 35,
     "metadata": {},
     "output_type": "execute_result"
    },
    {
     "data": {
      "image/png": "[encoded data removed]",
      "text/plain": [
       "<Figure size 720x360 with 1 Axes>"
      ]
     },
     "metadata": {
      "needs_background": "light"
     },
     "output_type": "display_data"
    }
   ],
   "source": [
    "counts = df.groupby(\"Sentiment\")[\"Sentiment\"].agg(\"count\")\n",
    "fig, ax = plt.subplots(figsize=(10,5))\n",
    "\n",
    "counts.plot.bar()"
   ]
  },
  {
   "cell_type": "code",
   "execution_count": 36,
   "metadata": {},
   "outputs": [
    {
     "data": {
      "text/html": [
       "<div>\n",
       "<style scoped>\n",
       "    .dataframe tbody tr th:only-of-type {\n",
       "        vertical-align: middle;\n",
       "    }\n",
       "\n",
       "    .dataframe tbody tr th {\n",
       "        vertical-align: top;\n",
       "    }\n",
       "\n",
       "    .dataframe thead th {\n",
       "        text-align: right;\n",
       "    }\n",
       "</style>\n",
       "<table border=\"1\" class=\"dataframe\">\n",
       "  <thead>\n",
       "    <tr style=\"text-align: right;\">\n",
       "      <th></th>\n",
       "      <th>UserName</th>\n",
       "      <th>ScreenName</th>\n",
       "      <th>Location</th>\n",
       "      <th>TweetAt</th>\n",
       "      <th>OriginalTweet</th>\n",
       "      <th>Sentiment</th>\n",
       "    </tr>\n",
       "  </thead>\n",
       "  <tbody>\n",
       "    <tr>\n",
       "      <th>1</th>\n",
       "      <td>3800</td>\n",
       "      <td>48752</td>\n",
       "      <td>UK</td>\n",
       "      <td>16-03-2020</td>\n",
       "      <td>advice Talk to your neighbours family to excha...</td>\n",
       "      <td>Positive</td>\n",
       "    </tr>\n",
       "    <tr>\n",
       "      <th>2</th>\n",
       "      <td>3801</td>\n",
       "      <td>48753</td>\n",
       "      <td>Vagabonds</td>\n",
       "      <td>16-03-2020</td>\n",
       "      <td>Coronavirus Australia: Woolworths to give elde...</td>\n",
       "      <td>Positive</td>\n",
       "    </tr>\n",
       "    <tr>\n",
       "      <th>3</th>\n",
       "      <td>3802</td>\n",
       "      <td>48754</td>\n",
       "      <td>NaN</td>\n",
       "      <td>16-03-2020</td>\n",
       "      <td>My food stock is not the only one which is emp...</td>\n",
       "      <td>Positive</td>\n",
       "    </tr>\n",
       "    <tr>\n",
       "      <th>6</th>\n",
       "      <td>3805</td>\n",
       "      <td>48757</td>\n",
       "      <td>35.926541,-78.753267</td>\n",
       "      <td>16-03-2020</td>\n",
       "      <td>Cashier at grocery store was sharing his insig...</td>\n",
       "      <td>Positive</td>\n",
       "    </tr>\n",
       "    <tr>\n",
       "      <th>8</th>\n",
       "      <td>3807</td>\n",
       "      <td>48759</td>\n",
       "      <td>Atlanta, GA USA</td>\n",
       "      <td>16-03-2020</td>\n",
       "      <td>Due to COVID-19 our retail store and classroom...</td>\n",
       "      <td>Positive</td>\n",
       "    </tr>\n",
       "  </tbody>\n",
       "</table>\n",
       "</div>"
      ],
      "text/plain": [
       "   UserName  ScreenName              Location     TweetAt  \\\n",
       "1      3800       48752                    UK  16-03-2020   \n",
       "2      3801       48753             Vagabonds  16-03-2020   \n",
       "3      3802       48754                   NaN  16-03-2020   \n",
       "6      3805       48757  35.926541,-78.753267  16-03-2020   \n",
       "8      3807       48759       Atlanta, GA USA  16-03-2020   \n",
       "\n",
       "                                       OriginalTweet Sentiment  \n",
       "1  advice Talk to your neighbours family to excha...  Positive  \n",
       "2  Coronavirus Australia: Woolworths to give elde...  Positive  \n",
       "3  My food stock is not the only one which is emp...  Positive  \n",
       "6  Cashier at grocery store was sharing his insig...  Positive  \n",
       "8  Due to COVID-19 our retail store and classroom...  Positive  "
      ]
     },
     "execution_count": 36,
     "metadata": {},
     "output_type": "execute_result"
    }
   ],
   "source": [
    "df.head()"
   ]
  },
  {
   "cell_type": "code",
   "execution_count": 37,
   "metadata": {},
   "outputs": [
    {
     "data": {
      "text/html": [
       "<div>\n",
       "<style scoped>\n",
       "    .dataframe tbody tr th:only-of-type {\n",
       "        vertical-align: middle;\n",
       "    }\n",
       "\n",
       "    .dataframe tbody tr th {\n",
       "        vertical-align: top;\n",
       "    }\n",
       "\n",
       "    .dataframe thead th {\n",
       "        text-align: right;\n",
       "    }\n",
       "</style>\n",
       "<table border=\"1\" class=\"dataframe\">\n",
       "  <thead>\n",
       "    <tr style=\"text-align: right;\">\n",
       "      <th></th>\n",
       "      <th>OriginalTweet</th>\n",
       "      <th>Sentiment</th>\n",
       "      <th>word_count</th>\n",
       "    </tr>\n",
       "  </thead>\n",
       "  <tbody>\n",
       "    <tr>\n",
       "      <th>1</th>\n",
       "      <td>advice Talk to your neighbours family to excha...</td>\n",
       "      <td>Positive</td>\n",
       "      <td>38</td>\n",
       "    </tr>\n",
       "    <tr>\n",
       "      <th>2</th>\n",
       "      <td>Coronavirus Australia: Woolworths to give elde...</td>\n",
       "      <td>Positive</td>\n",
       "      <td>14</td>\n",
       "    </tr>\n",
       "    <tr>\n",
       "      <th>3</th>\n",
       "      <td>My food stock is not the only one which is emp...</td>\n",
       "      <td>Positive</td>\n",
       "      <td>40</td>\n",
       "    </tr>\n",
       "    <tr>\n",
       "      <th>6</th>\n",
       "      <td>Cashier at grocery store was sharing his insig...</td>\n",
       "      <td>Positive</td>\n",
       "      <td>28</td>\n",
       "    </tr>\n",
       "    <tr>\n",
       "      <th>8</th>\n",
       "      <td>Due to COVID-19 our retail store and classroom...</td>\n",
       "      <td>Positive</td>\n",
       "      <td>46</td>\n",
       "    </tr>\n",
       "  </tbody>\n",
       "</table>\n",
       "</div>"
      ],
      "text/plain": [
       "                                       OriginalTweet Sentiment  word_count\n",
       "1  advice Talk to your neighbours family to excha...  Positive          38\n",
       "2  Coronavirus Australia: Woolworths to give elde...  Positive          14\n",
       "3  My food stock is not the only one which is emp...  Positive          40\n",
       "6  Cashier at grocery store was sharing his insig...  Positive          28\n",
       "8  Due to COVID-19 our retail store and classroom...  Positive          46"
      ]
     },
     "execution_count": 37,
     "metadata": {},
     "output_type": "execute_result"
    }
   ],
   "source": [
    "# count number of words per headline. strip whitespaces at the beginning/end of the sentence \n",
    "# and tokenize by whitespace\n",
    "df_select = df[[\"OriginalTweet\", \"Sentiment\"]]\n",
    "df_select[\"word_count\"] = df_select[\"OriginalTweet\"].apply(lambda x: len(x.strip().split(\" \")))\n",
    "df_select.head()"
   ]
  },
  {
   "cell_type": "code",
   "execution_count": 38,
   "metadata": {},
   "outputs": [
    {
     "data": {
      "text/plain": [
       "count    35555.000000\n",
       "mean        32.130108\n",
       "std         11.063108\n",
       "min          1.000000\n",
       "25%         24.000000\n",
       "50%         33.000000\n",
       "75%         41.000000\n",
       "max        127.000000\n",
       "Name: word_count, dtype: float64"
      ]
     },
     "execution_count": 38,
     "metadata": {},
     "output_type": "execute_result"
    }
   ],
   "source": [
    "# summary statistics of word counts\n",
    "df_select[\"word_count\"].describe()"
   ]
  },
  {
   "cell_type": "code",
   "execution_count": 39,
   "metadata": {},
   "outputs": [
    {
     "data": {
      "image/png": "[encoded data removed]",
      "text/plain": [
       "<Figure size 432x288 with 1 Axes>"
      ]
     },
     "metadata": {
      "needs_background": "light"
     },
     "output_type": "display_data"
    }
   ],
   "source": [
    "# distributions of word counts by sentiment\n",
    "pos = df_select[df_select.Sentiment == \"Positive\"].word_count\n",
    "neg =  df_select[df_select.Sentiment == \"Negative\"].word_count\n",
    "\n",
    "plt.hist(pos, bins = 20, alpha = 0.5, label='positive')\n",
    "plt.hist(neg, bins = 20, alpha = 0.5, label='negative')\n",
    "plt.legend(loc='upper right')\n",
    "plt.show()"
   ]
  },
  {
   "cell_type": "code",
   "execution_count": 40,
   "metadata": {},
   "outputs": [
    {
     "data": {
      "text/html": [
       "<div>\n",
       "<style scoped>\n",
       "    .dataframe tbody tr th:only-of-type {\n",
       "        vertical-align: middle;\n",
       "    }\n",
       "\n",
       "    .dataframe tbody tr th {\n",
       "        vertical-align: top;\n",
       "    }\n",
       "\n",
       "    .dataframe thead th {\n",
       "        text-align: right;\n",
       "    }\n",
       "</style>\n",
       "<table border=\"1\" class=\"dataframe\">\n",
       "  <thead>\n",
       "    <tr style=\"text-align: right;\">\n",
       "      <th></th>\n",
       "      <th>OriginalTweet</th>\n",
       "      <th>Sentiment</th>\n",
       "      <th>word_count</th>\n",
       "    </tr>\n",
       "  </thead>\n",
       "  <tbody>\n",
       "    <tr>\n",
       "      <th>1</th>\n",
       "      <td>advice Talk to your neighbours family to excha...</td>\n",
       "      <td>Positive</td>\n",
       "      <td>38</td>\n",
       "    </tr>\n",
       "    <tr>\n",
       "      <th>2</th>\n",
       "      <td>Coronavirus Australia: Woolworths to give elde...</td>\n",
       "      <td>Positive</td>\n",
       "      <td>14</td>\n",
       "    </tr>\n",
       "    <tr>\n",
       "      <th>3</th>\n",
       "      <td>My food stock is not the only one which is emp...</td>\n",
       "      <td>Positive</td>\n",
       "      <td>40</td>\n",
       "    </tr>\n",
       "    <tr>\n",
       "      <th>6</th>\n",
       "      <td>Cashier at grocery store was sharing his insig...</td>\n",
       "      <td>Positive</td>\n",
       "      <td>28</td>\n",
       "    </tr>\n",
       "    <tr>\n",
       "      <th>8</th>\n",
       "      <td>Due to COVID-19 our retail store and classroom...</td>\n",
       "      <td>Positive</td>\n",
       "      <td>46</td>\n",
       "    </tr>\n",
       "    <tr>\n",
       "      <th>...</th>\n",
       "      <td>...</td>\n",
       "      <td>...</td>\n",
       "      <td>...</td>\n",
       "    </tr>\n",
       "    <tr>\n",
       "      <th>3791</th>\n",
       "      <td>With Gov Hogan's announcement that all bars, r...</td>\n",
       "      <td>Negative</td>\n",
       "      <td>43</td>\n",
       "    </tr>\n",
       "    <tr>\n",
       "      <th>3792</th>\n",
       "      <td>@RicePolitics @MDCounties Craig, will you call...</td>\n",
       "      <td>Negative</td>\n",
       "      <td>29</td>\n",
       "    </tr>\n",
       "    <tr>\n",
       "      <th>3793</th>\n",
       "      <td>Meanwhile In A Supermarket in Israel -- People...</td>\n",
       "      <td>Positive</td>\n",
       "      <td>18</td>\n",
       "    </tr>\n",
       "    <tr>\n",
       "      <th>3796</th>\n",
       "      <td>Gov need to do somethings instead of biar je r...</td>\n",
       "      <td>Negative</td>\n",
       "      <td>29</td>\n",
       "    </tr>\n",
       "    <tr>\n",
       "      <th>3797</th>\n",
       "      <td>I and @ForestandPaper members are committed to...</td>\n",
       "      <td>Positive</td>\n",
       "      <td>34</td>\n",
       "    </tr>\n",
       "  </tbody>\n",
       "</table>\n",
       "<p>35555 rows × 3 columns</p>\n",
       "</div>"
      ],
      "text/plain": [
       "                                          OriginalTweet Sentiment  word_count\n",
       "1     advice Talk to your neighbours family to excha...  Positive          38\n",
       "2     Coronavirus Australia: Woolworths to give elde...  Positive          14\n",
       "3     My food stock is not the only one which is emp...  Positive          40\n",
       "6     Cashier at grocery store was sharing his insig...  Positive          28\n",
       "8     Due to COVID-19 our retail store and classroom...  Positive          46\n",
       "...                                                 ...       ...         ...\n",
       "3791  With Gov Hogan's announcement that all bars, r...  Negative          43\n",
       "3792  @RicePolitics @MDCounties Craig, will you call...  Negative          29\n",
       "3793  Meanwhile In A Supermarket in Israel -- People...  Positive          18\n",
       "3796  Gov need to do somethings instead of biar je r...  Negative          29\n",
       "3797  I and @ForestandPaper members are committed to...  Positive          34\n",
       "\n",
       "[35555 rows x 3 columns]"
      ]
     },
     "execution_count": 40,
     "metadata": {},
     "output_type": "execute_result"
    }
   ],
   "source": [
    "df_select"
   ]
  },
  {
   "cell_type": "code",
   "execution_count": 41,
   "metadata": {},
   "outputs": [],
   "source": [
    "# save dataset\n",
    "df_select.to_csv(\"binary_data.csv\",index = False, encoding = \"utf-8\")"
   ]
  },
  {
   "cell_type": "markdown",
   "metadata": {},
   "source": [
    "# NLP Preprocessing\n",
    "\n",
    "## Basic preprocessing: \n",
    "\n",
    "* Convert tweets to lowercase\n",
    "* Remove punctuation and non alphanumerical characters"
   ]
  },
  {
   "cell_type": "code",
   "execution_count": 42,
   "metadata": {},
   "outputs": [],
   "source": [
    "df = pd.read_csv(\"binary_data.csv\")"
   ]
  },
  {
   "cell_type": "code",
   "execution_count": 43,
   "metadata": {},
   "outputs": [
    {
     "data": {
      "text/plain": [
       "\"If there's an elderly person/couple that cant make it to the grocery store or simply doesn't want to go, I'd be happy to go for you.\\r\\r\\n\\r\\r\\nIf you know someone in need in or around Lewisville/Frisco please DM me and well try to figure this out.\\r\\r\\n\\r\\r\\n#coronavirus\""
      ]
     },
     "execution_count": 43,
     "metadata": {},
     "output_type": "execute_result"
    }
   ],
   "source": [
    "# select random tweet\n",
    "text = df.OriginalTweet.iloc[400]\n",
    "text"
   ]
  },
  {
   "cell_type": "code",
   "execution_count": 44,
   "metadata": {},
   "outputs": [
    {
     "data": {
      "text/html": [
       "<div>\n",
       "<style scoped>\n",
       "    .dataframe tbody tr th:only-of-type {\n",
       "        vertical-align: middle;\n",
       "    }\n",
       "\n",
       "    .dataframe tbody tr th {\n",
       "        vertical-align: top;\n",
       "    }\n",
       "\n",
       "    .dataframe thead th {\n",
       "        text-align: right;\n",
       "    }\n",
       "</style>\n",
       "<table border=\"1\" class=\"dataframe\">\n",
       "  <thead>\n",
       "    <tr style=\"text-align: right;\">\n",
       "      <th></th>\n",
       "      <th>OriginalTweet</th>\n",
       "      <th>Sentiment</th>\n",
       "      <th>word_count</th>\n",
       "      <th>tweet_clean</th>\n",
       "    </tr>\n",
       "  </thead>\n",
       "  <tbody>\n",
       "    <tr>\n",
       "      <th>0</th>\n",
       "      <td>advice Talk to your neighbours family to excha...</td>\n",
       "      <td>Positive</td>\n",
       "      <td>38</td>\n",
       "      <td>advice talk to your neighbours family to excha...</td>\n",
       "    </tr>\n",
       "    <tr>\n",
       "      <th>1</th>\n",
       "      <td>Coronavirus Australia: Woolworths to give elde...</td>\n",
       "      <td>Positive</td>\n",
       "      <td>14</td>\n",
       "      <td>coronavirus australia woolworths to give elder...</td>\n",
       "    </tr>\n",
       "    <tr>\n",
       "      <th>2</th>\n",
       "      <td>My food stock is not the only one which is emp...</td>\n",
       "      <td>Positive</td>\n",
       "      <td>40</td>\n",
       "      <td>my food stock is not the only one which is emp...</td>\n",
       "    </tr>\n",
       "    <tr>\n",
       "      <th>3</th>\n",
       "      <td>Cashier at grocery store was sharing his insig...</td>\n",
       "      <td>Positive</td>\n",
       "      <td>28</td>\n",
       "      <td>cashier at grocery store was sharing his insig...</td>\n",
       "    </tr>\n",
       "    <tr>\n",
       "      <th>4</th>\n",
       "      <td>Due to COVID-19 our retail store and classroom...</td>\n",
       "      <td>Positive</td>\n",
       "      <td>46</td>\n",
       "      <td>due to covid 19 our retail store and classroom...</td>\n",
       "    </tr>\n",
       "  </tbody>\n",
       "</table>\n",
       "</div>"
      ],
      "text/plain": [
       "                                       OriginalTweet Sentiment  word_count  \\\n",
       "0  advice Talk to your neighbours family to excha...  Positive          38   \n",
       "1  Coronavirus Australia: Woolworths to give elde...  Positive          14   \n",
       "2  My food stock is not the only one which is emp...  Positive          40   \n",
       "3  Cashier at grocery store was sharing his insig...  Positive          28   \n",
       "4  Due to COVID-19 our retail store and classroom...  Positive          46   \n",
       "\n",
       "                                         tweet_clean  \n",
       "0  advice talk to your neighbours family to excha...  \n",
       "1  coronavirus australia woolworths to give elder...  \n",
       "2  my food stock is not the only one which is emp...  \n",
       "3  cashier at grocery store was sharing his insig...  \n",
       "4  due to covid 19 our retail store and classroom...  "
      ]
     },
     "execution_count": 44,
     "metadata": {},
     "output_type": "execute_result"
    }
   ],
   "source": [
    "# preprocess entire corpus\n",
    "df['tweet_clean'] = df['OriginalTweet'].apply(preprocessor)\n",
    "df.head()"
   ]
  },
  {
   "cell_type": "markdown",
   "metadata": {},
   "source": [
    "## Bag-of- models\n",
    "\n",
    "Bag-of- models are used to produce a real-valued representation of a text document that can used to train a ML model.\n",
    "\n",
    "* Bag-of-words: count (with normalization) the occurences of each token in a text\n",
    "* Bag-of-POS: count the occurence of each POS tag in a text. A POS is a set of words with similar sytactic behaviour (nouns, adjective, verbs, pronouns etc). POS tags are assigned to every word in a document and used in bag-of machine learning models. \n",
    "\n",
    "Bag-of-word models suffer from high dimensionality and sparseness of the real-valued representation. Bag-of-POS is usually more parsimonious than bag-of-words, since there usually are less POS-tags than words in a document, and can therefore be used to reduce dimensionality."
   ]
  },
  {
   "cell_type": "code",
   "execution_count": 45,
   "metadata": {},
   "outputs": [
    {
     "data": {
      "text/plain": [
       "0        [advice, talk, to, your, neighbours, family, t...\n",
       "1        [coronavirus, australia, woolworths, to, give,...\n",
       "2        [my, food, stock, is, not, the, only, one, whi...\n",
       "3        [cashier, at, grocery, store, was, sharing, hi...\n",
       "4        [due, to, covid, 19, our, retail, store, and, ...\n",
       "                               ...                        \n",
       "35550    [with, gov, hogan, s, announcement, that, all,...\n",
       "35551    [ricepolitics, mdcounties, craig, will, you, c...\n",
       "35552    [meanwhile, in, a, supermarket, in, israel, pe...\n",
       "35553    [gov, need, to, do, somethings, instead, of, b...\n",
       "35554    [i, and, forestandpaper, members, are, committ...\n",
       "Name: tweet_clean, Length: 35555, dtype: object"
      ]
     },
     "execution_count": 45,
     "metadata": {},
     "output_type": "execute_result"
    }
   ],
   "source": [
    "# tokenize the dataset with nltk tokenizer\n",
    "text_processed = df.tweet_clean.apply( word_tokenize )\n",
    "text_processed"
   ]
  },
  {
   "cell_type": "code",
   "execution_count": 46,
   "metadata": {},
   "outputs": [
    {
     "data": {
      "text/plain": [
       "0        [(advice, NN), (talk, NN), (to, TO), (your, PR...\n",
       "1        [(coronavirus, NN), (australia, NNS), (woolwor...\n",
       "2        [(my, PRP$), (food, NN), (stock, NN), (is, VBZ...\n",
       "3        [(cashier, NN), (at, IN), (grocery, NN), (stor...\n",
       "4        [(due, JJ), (to, TO), (covid, VB), (19, CD), (...\n",
       "                               ...                        \n",
       "35550    [(with, IN), (gov, JJ), (hogan, NNS), (s, VBP)...\n",
       "35551    [(ricepolitics, NNS), (mdcounties, NNS), (crai...\n",
       "35552    [(meanwhile, RB), (in, IN), (a, DT), (supermar...\n",
       "35553    [(gov, NNS), (need, VBP), (to, TO), (do, VB), ...\n",
       "35554    [(i, NN), (and, CC), (forestandpaper, JJ), (me...\n",
       "Name: tweet_clean, Length: 35555, dtype: object"
      ]
     },
     "execution_count": 46,
     "metadata": {},
     "output_type": "execute_result"
    }
   ],
   "source": [
    "# POS-tags for the whole dataset\n",
    "text_tagged = text_processed.apply(pos_tag)\n",
    "text_tagged"
   ]
  },
  {
   "cell_type": "code",
   "execution_count": 47,
   "metadata": {},
   "outputs": [
    {
     "data": {
      "text/plain": [
       "0        NN-NN-TO-PRP$-NNS-NN-TO-VB-NN-NNS-VBP-JJ-NN-IN...\n",
       "1        NN-NNS-NNS-TO-VB-RB-VBN-VBN-NN-NNS-IN-JJ-CD-JJ...\n",
       "2        PRP$-NN-NN-VBZ-RB-DT-JJ-CD-WDT-VBZ-JJ-NN-VB-JJ...\n",
       "3        NN-IN-NN-NN-VBD-VBG-PRP$-NNS-IN-NN-TO-VB-PRP$-...\n",
       "4        JJ-TO-VB-CD-PRP$-JJ-NN-CC-NN-IN-NN-MD-RB-VB-JJ...\n",
       "                               ...                        \n",
       "35550    IN-JJ-NNS-VBP-NN-IN-DT-NNS-NNS-VBP-NN-TO-VB-NN...\n",
       "35551    NNS-NNS-VBP-MD-PRP-VB-IN-DT-JJ-NN-TO-VB-DT-JJ-...\n",
       "35552    RB-IN-DT-NN-IN-JJ-NNS-NN-CC-VBG-RB-TO-VB-JJ-NN...\n",
       "35553    NNS-VBP-TO-VB-NNS-RB-IN-JJ-NN-NN-VBP-JJ-NN-CC-...\n",
       "35554    NN-CC-JJ-NNS-VBP-VBN-TO-DT-NN-IN-PRP$-NNS-CC-P...\n",
       "Name: text_pos, Length: 35555, dtype: object"
      ]
     },
     "execution_count": 47,
     "metadata": {},
     "output_type": "execute_result"
    }
   ],
   "source": [
    "def retrieve_tags(text):\n",
    "    # form a string of tags from POS-tag text\n",
    "    return \"-\".join(tag for (word, tag) in text)\n",
    "\n",
    "df[\"text_pos\"] = text_tagged.apply(retrieve_tags)\n",
    "df.text_pos"
   ]
  },
  {
   "cell_type": "code",
   "execution_count": 48,
   "metadata": {},
   "outputs": [],
   "source": [
    "# save dataset\n",
    "df.to_csv(\"pos_tagged_data.csv\",index = False, encoding = \"utf-8\")"
   ]
  },
  {
   "cell_type": "markdown",
   "metadata": {},
   "source": [
    "## Word embeddings\n",
    "Associate a real-valued vector to each word in a document, so that words that occur in similar context (i.e. are semantically close) have a similar vector representation.\n",
    "\n",
    "* word2vec: compute word embeddings using the concept of context, i.e. the words around a certain word in the text. The embeddings are calculated based on the probability of each word to appear in the context of every other word (word-word co-occurrences).\n",
    "\n",
    "* Glove: unsupervised learning model trained on word-word co-occurence counts, computed with respect to the entire document as opposed to one context window at a time. Embeddings are computed based on the probability of a word to appear in the context of another word, given the entire vocabulary.\n",
    "\n",
    "Spacy offers pre-trained word embedding models (such as \"en_core_web_md\")"
   ]
  },
  {
   "cell_type": "code",
   "execution_count": 50,
   "metadata": {},
   "outputs": [],
   "source": [
    "df = pd.read_csv(\"pos_tagged_data.csv\")"
   ]
  },
  {
   "cell_type": "code",
   "execution_count": 51,
   "metadata": {},
   "outputs": [],
   "source": [
    "# load pre-trained word embedding model from spacy\n",
    "nlp = spacy.load('en_core_web_md') "
   ]
  },
  {
   "cell_type": "code",
   "execution_count": 52,
   "metadata": {},
   "outputs": [
    {
     "name": "stdout",
     "output_type": "stream",
     "text": [
      "If there's an elderly person/couple that cant make it to the grocery store or simply doesn't want to go, I'd be happy to go for you.\r",
      "\r\n",
      "\r",
      "\r\n",
      "If you know someone in need in or around Lewisville/Frisco please DM me and well try to figure this out.\r",
      "\r\n",
      "\r",
      "\r\n",
      "#coronavirus\n",
      "\n",
      "[-2.7490519e-02  2.0281416e-01 -2.2748066e-01 -1.4905868e-02\n",
      "  1.6965389e-01  1.5237168e-02  7.1119017e-04 -1.3185921e-01\n",
      "  4.9717598e-02  2.1103685e+00 -3.0328292e-01  4.3889385e-02\n",
      "  6.8924733e-02 -4.2091046e-02 -1.3894117e-01 -4.8102524e-02\n",
      " -9.9693954e-02  1.1581578e+00 -1.8420157e-01  3.2409581e-03]\n"
     ]
    }
   ],
   "source": [
    "# example on random tweet\n",
    "print( nlp(text) )\n",
    "print( )\n",
    "print( nlp(text).vector[:20])"
   ]
  },
  {
   "cell_type": "code",
   "execution_count": 53,
   "metadata": {},
   "outputs": [
    {
     "data": {
      "text/plain": [
       "300"
      ]
     },
     "execution_count": 53,
     "metadata": {},
     "output_type": "execute_result"
    }
   ],
   "source": [
    "# stack embeddings of tweets\n",
    "# each tweet has a 1x300 embedding\n",
    "emb = np.vstack(df.tweet_clean.apply(lambda x: nlp(x).vector))\n",
    "len(emb[0])"
   ]
  },
  {
   "cell_type": "code",
   "execution_count": 54,
   "metadata": {},
   "outputs": [
    {
     "name": "stdout",
     "output_type": "stream",
     "text": [
      "(35555, 300)\n"
     ]
    },
    {
     "data": {
      "text/html": [
       "<div>\n",
       "<style scoped>\n",
       "    .dataframe tbody tr th:only-of-type {\n",
       "        vertical-align: middle;\n",
       "    }\n",
       "\n",
       "    .dataframe tbody tr th {\n",
       "        vertical-align: top;\n",
       "    }\n",
       "\n",
       "    .dataframe thead th {\n",
       "        text-align: right;\n",
       "    }\n",
       "</style>\n",
       "<table border=\"1\" class=\"dataframe\">\n",
       "  <thead>\n",
       "    <tr style=\"text-align: right;\">\n",
       "      <th></th>\n",
       "      <th>0</th>\n",
       "      <th>1</th>\n",
       "      <th>2</th>\n",
       "      <th>3</th>\n",
       "      <th>4</th>\n",
       "      <th>5</th>\n",
       "      <th>6</th>\n",
       "      <th>7</th>\n",
       "      <th>8</th>\n",
       "      <th>9</th>\n",
       "      <th>...</th>\n",
       "      <th>290</th>\n",
       "      <th>291</th>\n",
       "      <th>292</th>\n",
       "      <th>293</th>\n",
       "      <th>294</th>\n",
       "      <th>295</th>\n",
       "      <th>296</th>\n",
       "      <th>297</th>\n",
       "      <th>298</th>\n",
       "      <th>299</th>\n",
       "    </tr>\n",
       "  </thead>\n",
       "  <tbody>\n",
       "    <tr>\n",
       "      <th>0</th>\n",
       "      <td>-0.076797</td>\n",
       "      <td>0.102554</td>\n",
       "      <td>-0.236563</td>\n",
       "      <td>0.028268</td>\n",
       "      <td>0.070915</td>\n",
       "      <td>-0.061551</td>\n",
       "      <td>-0.036246</td>\n",
       "      <td>-0.174649</td>\n",
       "      <td>-0.004603</td>\n",
       "      <td>2.163169</td>\n",
       "      <td>...</td>\n",
       "      <td>-0.232881</td>\n",
       "      <td>0.069883</td>\n",
       "      <td>0.037603</td>\n",
       "      <td>0.107009</td>\n",
       "      <td>0.110007</td>\n",
       "      <td>-0.039752</td>\n",
       "      <td>0.001534</td>\n",
       "      <td>-0.083609</td>\n",
       "      <td>0.049947</td>\n",
       "      <td>0.109183</td>\n",
       "    </tr>\n",
       "    <tr>\n",
       "      <th>1</th>\n",
       "      <td>-0.026830</td>\n",
       "      <td>0.102297</td>\n",
       "      <td>-0.044997</td>\n",
       "      <td>-0.080606</td>\n",
       "      <td>0.064981</td>\n",
       "      <td>-0.063829</td>\n",
       "      <td>0.109534</td>\n",
       "      <td>-0.121425</td>\n",
       "      <td>0.203229</td>\n",
       "      <td>1.539385</td>\n",
       "      <td>...</td>\n",
       "      <td>-0.048992</td>\n",
       "      <td>0.069090</td>\n",
       "      <td>-0.089975</td>\n",
       "      <td>0.101337</td>\n",
       "      <td>0.007872</td>\n",
       "      <td>-0.179043</td>\n",
       "      <td>0.053799</td>\n",
       "      <td>-0.075289</td>\n",
       "      <td>-0.157458</td>\n",
       "      <td>0.210272</td>\n",
       "    </tr>\n",
       "    <tr>\n",
       "      <th>2</th>\n",
       "      <td>-0.056573</td>\n",
       "      <td>0.123229</td>\n",
       "      <td>-0.196744</td>\n",
       "      <td>-0.070498</td>\n",
       "      <td>0.025334</td>\n",
       "      <td>0.006841</td>\n",
       "      <td>-0.015635</td>\n",
       "      <td>-0.112227</td>\n",
       "      <td>0.026234</td>\n",
       "      <td>1.977562</td>\n",
       "      <td>...</td>\n",
       "      <td>-0.144980</td>\n",
       "      <td>0.050027</td>\n",
       "      <td>-0.064219</td>\n",
       "      <td>-0.096617</td>\n",
       "      <td>0.132238</td>\n",
       "      <td>0.013350</td>\n",
       "      <td>-0.072627</td>\n",
       "      <td>-0.106172</td>\n",
       "      <td>0.048989</td>\n",
       "      <td>0.095878</td>\n",
       "    </tr>\n",
       "    <tr>\n",
       "      <th>3</th>\n",
       "      <td>-0.043067</td>\n",
       "      <td>0.247374</td>\n",
       "      <td>-0.191714</td>\n",
       "      <td>0.004885</td>\n",
       "      <td>0.084943</td>\n",
       "      <td>0.140692</td>\n",
       "      <td>0.025693</td>\n",
       "      <td>-0.172337</td>\n",
       "      <td>-0.023317</td>\n",
       "      <td>2.047875</td>\n",
       "      <td>...</td>\n",
       "      <td>-0.074178</td>\n",
       "      <td>0.012089</td>\n",
       "      <td>-0.025367</td>\n",
       "      <td>-0.024489</td>\n",
       "      <td>0.172260</td>\n",
       "      <td>-0.078927</td>\n",
       "      <td>0.042802</td>\n",
       "      <td>0.047417</td>\n",
       "      <td>0.043778</td>\n",
       "      <td>0.209466</td>\n",
       "    </tr>\n",
       "    <tr>\n",
       "      <th>4</th>\n",
       "      <td>-0.025101</td>\n",
       "      <td>0.178041</td>\n",
       "      <td>-0.127984</td>\n",
       "      <td>0.028439</td>\n",
       "      <td>0.155111</td>\n",
       "      <td>-0.118528</td>\n",
       "      <td>0.019113</td>\n",
       "      <td>-0.001518</td>\n",
       "      <td>0.122513</td>\n",
       "      <td>2.120510</td>\n",
       "      <td>...</td>\n",
       "      <td>-0.153965</td>\n",
       "      <td>0.037664</td>\n",
       "      <td>0.010684</td>\n",
       "      <td>-0.000414</td>\n",
       "      <td>-0.025716</td>\n",
       "      <td>-0.088436</td>\n",
       "      <td>-0.001956</td>\n",
       "      <td>-0.033921</td>\n",
       "      <td>-0.054791</td>\n",
       "      <td>0.129360</td>\n",
       "    </tr>\n",
       "  </tbody>\n",
       "</table>\n",
       "<p>5 rows × 300 columns</p>\n",
       "</div>"
      ],
      "text/plain": [
       "          0         1         2         3         4         5         6  \\\n",
       "0 -0.076797  0.102554 -0.236563  0.028268  0.070915 -0.061551 -0.036246   \n",
       "1 -0.026830  0.102297 -0.044997 -0.080606  0.064981 -0.063829  0.109534   \n",
       "2 -0.056573  0.123229 -0.196744 -0.070498  0.025334  0.006841 -0.015635   \n",
       "3 -0.043067  0.247374 -0.191714  0.004885  0.084943  0.140692  0.025693   \n",
       "4 -0.025101  0.178041 -0.127984  0.028439  0.155111 -0.118528  0.019113   \n",
       "\n",
       "          7         8         9  ...       290       291       292       293  \\\n",
       "0 -0.174649 -0.004603  2.163169  ... -0.232881  0.069883  0.037603  0.107009   \n",
       "1 -0.121425  0.203229  1.539385  ... -0.048992  0.069090 -0.089975  0.101337   \n",
       "2 -0.112227  0.026234  1.977562  ... -0.144980  0.050027 -0.064219 -0.096617   \n",
       "3 -0.172337 -0.023317  2.047875  ... -0.074178  0.012089 -0.025367 -0.024489   \n",
       "4 -0.001518  0.122513  2.120510  ... -0.153965  0.037664  0.010684 -0.000414   \n",
       "\n",
       "        294       295       296       297       298       299  \n",
       "0  0.110007 -0.039752  0.001534 -0.083609  0.049947  0.109183  \n",
       "1  0.007872 -0.179043  0.053799 -0.075289 -0.157458  0.210272  \n",
       "2  0.132238  0.013350 -0.072627 -0.106172  0.048989  0.095878  \n",
       "3  0.172260 -0.078927  0.042802  0.047417  0.043778  0.209466  \n",
       "4 -0.025716 -0.088436 -0.001956 -0.033921 -0.054791  0.129360  \n",
       "\n",
       "[5 rows x 300 columns]"
      ]
     },
     "execution_count": 54,
     "metadata": {},
     "output_type": "execute_result"
    }
   ],
   "source": [
    "# convert embeddings to dataframe\n",
    "emb_df = pd.DataFrame(emb, columns = np.array([str(x) for x in range(0, len(emb[0]))]) )\n",
    "print(emb_df.shape)\n",
    "emb_df.head()"
   ]
  },
  {
   "cell_type": "code",
   "execution_count": 55,
   "metadata": {},
   "outputs": [],
   "source": [
    "# add embeddings to dataset\n",
    "df_embed = pd.concat([df, emb_df], axis = 1)\n",
    "df = df_embed.drop(columns=[\"OriginalTweet\",'word_count'])"
   ]
  },
  {
   "cell_type": "markdown",
   "metadata": {},
   "source": [
    "### Convert target label to real-valued"
   ]
  },
  {
   "cell_type": "code",
   "execution_count": 58,
   "metadata": {},
   "outputs": [
    {
     "data": {
      "text/plain": [
       "0        1\n",
       "1        1\n",
       "2        1\n",
       "3        1\n",
       "4        1\n",
       "        ..\n",
       "35550    0\n",
       "35551    0\n",
       "35552    1\n",
       "35553    0\n",
       "35554    1\n",
       "Name: target_encoded, Length: 35555, dtype: int32"
      ]
     },
     "execution_count": 58,
     "metadata": {},
     "output_type": "execute_result"
    }
   ],
   "source": [
    "# convert sentiment label to real-valued target\n",
    "le = LabelEncoder()\n",
    "le.fit(df.Sentiment)\n",
    "\n",
    "df['target_encoded'] = le.transform(df.Sentiment)\n",
    "df.target_encoded"
   ]
  },
  {
   "cell_type": "code",
   "execution_count": 59,
   "metadata": {},
   "outputs": [],
   "source": [
    "# save dataset\n",
    "df.to_csv(\"preprocessed_data.csv\",index = False, encoding = \"utf-8\")"
   ]
  },
  {
   "cell_type": "markdown",
   "metadata": {},
   "source": [
    "# Sentiment analysis with machine learning models\n",
    "\n",
    "We consider the following classifiers:\n",
    "\n",
    "* Multinomial Naive Bayes Model (benchmark)\n",
    "* Random forests\n",
    "* Adaptive boosting (ADABoost)\n",
    "* Extreme Gradient Boosting (XGBoost)\n",
    "\n",
    "The machine learning models are trained on a real-valued representation of the training data, produced with the following nlp preprocesssing methods: \n",
    "\n",
    "* Bag-of-words model\n",
    "* Bag-of-POS model\n",
    "* Pre-trained word embeddings\n",
    "\n",
    "To reduce computational time, we train the machine learning models on a random sample with dimensions equal to 30% of the original data"
   ]
  },
  {
   "cell_type": "code",
   "execution_count": 7,
   "metadata": {},
   "outputs": [
    {
     "data": {
      "text/plain": [
       "(35555, 304)"
      ]
     },
     "execution_count": 7,
     "metadata": {},
     "output_type": "execute_result"
    }
   ],
   "source": [
    "df_imp = pd.read_csv(\"preprocessed_data.csv\")\n",
    "df_imp.shape"
   ]
  },
  {
   "cell_type": "code",
   "execution_count": 8,
   "metadata": {},
   "outputs": [
    {
     "data": {
      "text/plain": [
       "(10666, 304)"
      ]
     },
     "execution_count": 8,
     "metadata": {},
     "output_type": "execute_result"
    }
   ],
   "source": [
    "# train the models on about 30% of the original data\n",
    "df = df_imp.sample(frac = 0.3 ) \n",
    "df.shape"
   ]
  },
  {
   "cell_type": "code",
   "execution_count": 9,
   "metadata": {},
   "outputs": [],
   "source": [
    "# reshuffle data\n",
    "np.random.seed(0)\n",
    "df = df.reindex(np.random.permutation(df.index))\n",
    "df = df.reset_index(drop=True) # reset the index after the permutation"
   ]
  },
  {
   "cell_type": "code",
   "execution_count": 10,
   "metadata": {},
   "outputs": [
    {
     "name": "stdout",
     "output_type": "stream",
     "text": [
      "8532 2134\n"
     ]
    }
   ],
   "source": [
    "# define train and test size\n",
    "train_size = int( len(df)*0.8 )\n",
    "test_size = int( len(df) - train_size )\n",
    "print(train_size, test_size)"
   ]
  },
  {
   "cell_type": "code",
   "execution_count": 11,
   "metadata": {},
   "outputs": [],
   "source": [
    "# split dataset\n",
    "df_train = df.head(train_size)\n",
    "y_train = df.head(train_size).target_encoded\n",
    "\n",
    "df_test = df.tail(test_size)\n",
    "y_test = df.tail(test_size).target_encoded"
   ]
  },
  {
   "cell_type": "code",
   "execution_count": 12,
   "metadata": {},
   "outputs": [],
   "source": [
    "# set tfidf and cross validation parameters for all models\n",
    "tfidf = TfidfVectorizer(strip_accents=None,\n",
    "                        lowercase=False,\n",
    "                        preprocessor=None)\n",
    "\n",
    "cv = StratifiedKFold(n_splits=5, \n",
    "                     shuffle=False)"
   ]
  },
  {
   "cell_type": "markdown",
   "metadata": {},
   "source": [
    "## Multinomial naive bayes model \n",
    "Probabilistic classifier with independence assumption between fetures\n",
    "\n",
    "The model is trained on the real-valued representation of the tweets produces by nltk CountVectorizer(), which transforms text into a vector of token counts.\n",
    "In the resulting sparse matrix, each column represents a unique word in the vocabulary, and each row represents a tweet in the dataset. The values of the matrix are the word counts. Words that do not appear in a certain tweet are given the value zero. "
   ]
  },
  {
   "cell_type": "code",
   "execution_count": 13,
   "metadata": {},
   "outputs": [],
   "source": [
    "X_train = df_train.tweet_clean\n",
    "X_test = df_test.tweet_clean"
   ]
  },
  {
   "cell_type": "code",
   "execution_count": 14,
   "metadata": {},
   "outputs": [],
   "source": [
    "# convert tweets into a real-valued matrix of token counts (sparse matrix with dim nr tweets, nr words)\n",
    "vect = CountVectorizer(stop_words='english')\n",
    "vect.fit(X_train)\n",
    "\n",
    "x_train_dtm = vect.transform(X_train)\n",
    "x_test_dtm = vect.transform(X_test)"
   ]
  },
  {
   "cell_type": "code",
   "execution_count": 15,
   "metadata": {},
   "outputs": [
    {
     "data": {
      "text/plain": [
       "{'wagsocialcare': 24999,\n",
       " 'walgreens': 25029,\n",
       " 'workers': 25618,\n",
       " 'lines': 14125,\n",
       " 'pandemic': 17289,\n",
       " 'masks': 14881,\n",
       " 'need': 16020,\n",
       " 'yesterday': 26082,\n",
       " 'pure': 18668,\n",
       " 'public': 18609,\n",
       " 'safety': 20321,\n",
       " 'hazard': 11088,\n",
       " 'pay': 17489,\n",
       " 'hand': 10951,\n",
       " 'sanitizer': 20422,\n",
       " 'station': 21994,\n",
       " 'coronavirus': 5878,\n",
       " 'special': 21723,\n",
       " 'thank': 23077,\n",
       " 'medical': 15051,\n",
       " 'sanitation': 20412,\n",
       " 'supermarket': 22474,\n",
       " 'bodega': 3675,\n",
       " 'essential': 8508,\n",
       " 'personnel': 17645,\n",
       " 'time': 23334,\n",
       " 'truly': 23783,\n",
       " 'appreciate': 2466,\n",
       " 'hard': 11010,\n",
       " 'work': 25613,\n",
       " 'dedication': 6859,\n",
       " 'difficult': 7220,\n",
       " 'times': 23343,\n",
       " 'safe': 20310,\n",
       " 'sajithpremadasa': 20345,\n",
       " 'kindly': 13431,\n",
       " 'help': 11209,\n",
       " 'required': 19629,\n",
       " 'beacuse': 3235,\n",
       " 'lost': 14382,\n",
       " 'job': 12974,\n",
       " 'covid': 6079,\n",
       " '19': 251,\n",
       " 'entire': 8400,\n",
       " 'country': 6044,\n",
       " 'lockdown': 14265,\n",
       " 'stock': 22147,\n",
       " 'food': 9554,\n",
       " 'make': 14662,\n",
       " 'small': 21420,\n",
       " 'live': 14179,\n",
       " 'escape': 8496,\n",
       " 'critical': 6328,\n",
       " 'issue': 12634,\n",
       " 'whatsapp': 25354,\n",
       " '94754284300': 1400,\n",
       " 'awkward': 2886,\n",
       " 'moment': 15487,\n",
       " 'realize': 19271,\n",
       " 'better': 3398,\n",
       " 'protection': 18527,\n",
       " 'nurses': 16487,\n",
       " 'sweeps': 22638,\n",
       " 'globe': 10386,\n",
       " 'delivery': 6946,\n",
       " 'drivers': 7733,\n",
       " 'responders': 19703,\n",
       " 'unlike': 24285,\n",
       " 'traditional': 23626,\n",
       " 'emergency': 8247,\n",
       " 'face': 8899,\n",
       " 'sick': 21179,\n",
       " 'insurance': 12399,\n",
       " 'https': 11650,\n",
       " 'upwiywdgav': 24386,\n",
       " '4oysvz4iak': 839,\n",
       " 'person': 17641,\n",
       " 'bought': 3809,\n",
       " 'flour': 9478,\n",
       " 'local': 14253,\n",
       " 'certainly': 4706,\n",
       " 'recipe': 19323,\n",
       " 'regular': 19461,\n",
       " 'delayed': 6925,\n",
       " 'covid_19': 6142,\n",
       " 'basic': 3126,\n",
       " 'easy': 7974,\n",
       " 'way': 25154,\n",
       " 'stay': 22006,\n",
       " 'occupied': 16644,\n",
       " 'fed': 9129,\n",
       " 'isolation': 12623,\n",
       " 'nab5ce9xgb': 15854,\n",
       " '2kg0odvhaa': 521,\n",
       " 'avoid': 2862,\n",
       " 'stressful': 22280,\n",
       " 'scenesâ': 20566,\n",
       " 'support': 22505,\n",
       " 'economically': 8033,\n",
       " 'vulnerable': 24932,\n",
       " 'business': 4169,\n",
       " 'ownersâ': 17168,\n",
       " 'spending': 21754,\n",
       " 'money': 15512,\n",
       " 'markets': 14829,\n",
       " 'instead': 12377,\n",
       " 'big': 3468,\n",
       " 'box': 3832,\n",
       " 'retailers': 19758,\n",
       " 'rf17kkfljt': 19842,\n",
       " 'tremendous': 23712,\n",
       " 'healthcare': 11140,\n",
       " 'grocery': 10716,\n",
       " 'store': 22216,\n",
       " 'employees': 8281,\n",
       " 'vendors': 24646,\n",
       " 'providers': 18557,\n",
       " 'pharmacy': 17713,\n",
       " 'restaurant': 19719,\n",
       " 'going': 10461,\n",
       " 'bless': 3592,\n",
       " 'order': 16956,\n",
       " 'items': 12664,\n",
       " 'online': 16864,\n",
       " 'amp': 2238,\n",
       " 'delivered': 6941,\n",
       " 'door': 7608,\n",
       " 'instructions': 12388,\n",
       " 'let': 13970,\n",
       " 'know': 13505,\n",
       " 'emailing': 8226,\n",
       " 'info': 12258,\n",
       " 'brewline': 3947,\n",
       " 'uk': 24079,\n",
       " 'working': 25626,\n",
       " 'ensure': 8384,\n",
       " 'precautions': 18222,\n",
       " 'taken': 22769,\n",
       " 'meet': 15072,\n",
       " 'process': 18397,\n",
       " 'demand': 6953,\n",
       " 'covid2019': 6133,\n",
       " 'wwfhpzj2e0': 25768,\n",
       " '5jyccxclka': 968,\n",
       " 'gold': 10465,\n",
       " 'prices': 18336,\n",
       " 'continue': 5680,\n",
       " 'soar': 21512,\n",
       " 'expectations': 8736,\n",
       " 'worst': 25667,\n",
       " 'recession': 19321,\n",
       " 'world': 25636,\n",
       " 'seen': 20745,\n",
       " 'grow': 10739,\n",
       " 'day': 6722,\n",
       " 'impact': 12032,\n",
       " 'economy': 8043,\n",
       " 'mhf1hd3zj0': 15196,\n",
       " 'rakamoto': 19115,\n",
       " 'mondaythoughts': 15505,\n",
       " 'blockchain': 3615,\n",
       " 'crypto': 6386,\n",
       " 'bitcoin': 3529,\n",
       " 'digital': 7227,\n",
       " 'watch': 25133,\n",
       " 'surgeon': 22544,\n",
       " 'general': 10175,\n",
       " 'shows': 21148,\n",
       " 'inhaler': 12291,\n",
       " 'says': 20519,\n",
       " 'feared': 9112,\n",
       " 'fatal': 9056,\n",
       " 'asthma': 2695,\n",
       " 'attack': 2738,\n",
       " 'life': 14070,\n",
       " 'explains': 8765,\n",
       " 'black': 3559,\n",
       " 'americans': 2218,\n",
       " 'greater': 10659,\n",
       " 'risk': 19932,\n",
       " 'demographics': 6968,\n",
       " '206efujqex': 402,\n",
       " 'qv4ym9fjta': 18997,\n",
       " 'people': 17587,\n",
       " 'dying': 7885,\n",
       " 'doctors': 7514,\n",
       " 'losing': 14378,\n",
       " 'mind': 15291,\n",
       " 'podium': 17979,\n",
       " 'briefing': 3967,\n",
       " 'room': 20070,\n",
       " 'white': 25392,\n",
       " 'house': 11581,\n",
       " 'use': 24432,\n",
       " 'friends': 9832,\n",
       " 'left': 13901,\n",
       " 'mailbox': 14637,\n",
       " 'knows': 13510,\n",
       " 'tuesday': 23858,\n",
       " 'week': 25242,\n",
       " 'list': 14154,\n",
       " 'today': 23424,\n",
       " 'mask': 14876,\n",
       " 'traditionally': 23627,\n",
       " 'frown': 9858,\n",
       " 'behaviour': 3311,\n",
       " 'cheaper': 4817,\n",
       " 'absynth': 1603,\n",
       " 'actual': 1719,\n",
       " 'ffs': 9212,\n",
       " 'idealworld': 11875,\n",
       " 'selling': 20790,\n",
       " '500ml': 882,\n",
       " 'near': 16001,\n",
       " '20': 369,\n",
       " 'plus': 17943,\n",
       " 'postage': 18110,\n",
       " 'changed': 4756,\n",
       " 'rules': 20192,\n",
       " 'social': 21528,\n",
       " 'distancing': 7406,\n",
       " 'didn': 7198,\n",
       " 'young': 26172,\n",
       " 'woman': 25577,\n",
       " 'told': 23467,\n",
       " 'rude': 20179,\n",
       " 'excuse': 8688,\n",
       " 'ppl': 18178,\n",
       " 'disrespectful': 7389,\n",
       " 'fucking': 9895,\n",
       " 'surprise': 22555,\n",
       " 'just': 13135,\n",
       " 'watched': 25135,\n",
       " 'parking': 17376,\n",
       " 'lot': 14384,\n",
       " 'load': 14236,\n",
       " 'car': 4456,\n",
       " 'pull': 18631,\n",
       " 'latex': 13775,\n",
       " 'gloves': 10392,\n",
       " 'throw': 23277,\n",
       " 'ground': 10732,\n",
       " 'like': 14097,\n",
       " 'er': 8461,\n",
       " 'called': 4325,\n",
       " 'tell': 22950,\n",
       " 'family': 8985,\n",
       " 'um': 24115,\n",
       " 'pick': 17761,\n",
       " 'shit': 21049,\n",
       " 'given': 10323,\n",
       " 'self': 20766,\n",
       " 'centred': 4693,\n",
       " 'aggressive': 1933,\n",
       " 'streets': 22267,\n",
       " 'aisles': 2014,\n",
       " 'australia': 2812,\n",
       " 'iâ': 12712,\n",
       " 'thrilled': 23268,\n",
       " 'weâ': 25322,\n",
       " 'war': 25072,\n",
       " 'immediate': 12014,\n",
       " 'threat': 23257,\n",
       " 'peopleâ': 17594,\n",
       " 'true': 23780,\n",
       " 'selves': 20796,\n",
       " 'emerge': 8243,\n",
       " 'stress': 22277,\n",
       " 'pressure': 18296,\n",
       " 'failing': 8940,\n",
       " 'previous': 18324,\n",
       " 'lax': 13821,\n",
       " 'standards': 21941,\n",
       " 'covid19aus': 6086,\n",
       " 'fine': 9313,\n",
       " 'folks': 9542,\n",
       " 'train': 23636,\n",
       " 'wreck': 25700,\n",
       " 'distillery': 7412,\n",
       " 'producing': 18413,\n",
       " 'outbreak': 17045,\n",
       " 'great': 10655,\n",
       " 'canâ': 4421,\n",
       " 'wait': 25006,\n",
       " 'visit': 24788,\n",
       " 'sit': 21286,\n",
       " 'smokey': 21455,\n",
       " 'comet': 5357,\n",
       " '2xozuv0djd': 574,\n",
       " 'mxjnogbsok': 15789,\n",
       " 'united': 24259,\n",
       " 'kingdom': 13437,\n",
       " 'consumer': 5624,\n",
       " 'inflation': 12247,\n",
       " 'fell': 9165,\n",
       " 'news': 16112,\n",
       " 'follow': 9544,\n",
       " 'page': 17245,\n",
       " 'forex': 9641,\n",
       " 'forexmarket': 9642,\n",
       " 'internationaldayofhappiness': 12447,\n",
       " 'coronacrisis': 5824,\n",
       " 'power': 18154,\n",
       " 'don': 7564,\n",
       " 'fear': 9111,\n",
       " 'created': 6266,\n",
       " 'mixed': 15386,\n",
       " 'trigger': 23733,\n",
       " 'cells': 4682,\n",
       " 'zaps': 26309,\n",
       " 'causing': 4599,\n",
       " 'symptoms': 22697,\n",
       " 'death': 6790,\n",
       " 'lies': 14068,\n",
       " 'lie': 14065,\n",
       " 'roe_con': 20035,\n",
       " 'annekasaba': 2330,\n",
       " 'rachelpatzerphd': 19069,\n",
       " 'yes': 26080,\n",
       " 'gratitude': 10645,\n",
       " 'staff': 21914,\n",
       " 'supply': 22495,\n",
       " 'chain': 4735,\n",
       " 'clerks': 5136,\n",
       " 'stores': 22220,\n",
       " 'irrational': 12584,\n",
       " 'mobs': 15440,\n",
       " 'leave': 13883,\n",
       " 'tp': 23581,\n",
       " 'reservations': 19649,\n",
       " 'marketplace': 14825,\n",
       " 'came': 4356,\n",
       " 'upcoming': 24353,\n",
       " 'dates': 6697,\n",
       " 'tomorrow': 23482,\n",
       " 'saturday': 20476,\n",
       " 'april': 2491,\n",
       " '4th': 856,\n",
       " 'sunday': 22441,\n",
       " '5th': 999,\n",
       " 'reserve': 19650,\n",
       " '30': 578,\n",
       " 'minute': 15329,\n",
       " 'shopping': 21097,\n",
       " 'window': 25463,\n",
       " 'cookathome': 5737,\n",
       " 'dreamkitchen': 7709,\n",
       " 'boston': 3791,\n",
       " 'xtmnpekmdj': 25953,\n",
       " 'uncertain': 24149,\n",
       " 'listen': 14156,\n",
       " 'saying': 20518,\n",
       " 'experiences': 8751,\n",
       " 'aoq7ychxyw': 2397,\n",
       " 'marketresearch': 14828,\n",
       " 'socialmedia': 21549,\n",
       " 'branding': 3887,\n",
       " 'analytics': 2270,\n",
       " '5ccc9zcgzs': 943,\n",
       " 'aoc': 2394,\n",
       " 'breaking': 3921,\n",
       " 'endorse': 8327,\n",
       " 'sen': 20805,\n",
       " 'bernie': 3377,\n",
       " 'sanders': 20398,\n",
       " 'travel': 23689,\n",
       " 'spreading': 21832,\n",
       " 'awareness': 2879,\n",
       " 'importance': 12060,\n",
       " 'm4a': 14568,\n",
       " 'inequality': 12222,\n",
       " 'paying': 17496,\n",
       " '15': 208,\n",
       " 'hour': 11575,\n",
       " 'guy': 10825,\n",
       " 'stocks': 22169,\n",
       " 'shelves': 21006,\n",
       " 'ur': 24389,\n",
       " 'latest': 13774,\n",
       " 'dairypod': 6628,\n",
       " 'caught': 4593,\n",
       " 'fresh': 9809,\n",
       " 'agenda': 1919,\n",
       " 'director': 7276,\n",
       " 'steve': 22101,\n",
       " 'spencer': 21751,\n",
       " 'look': 14338,\n",
       " 'farm': 9017,\n",
       " 'gate': 10098,\n",
       " 'milk': 15271,\n",
       " 'shaping': 20959,\n",
       " 'post': 18109,\n",
       " 'soundcloud': 21644,\n",
       " 'subscribe': 22359,\n",
       " 'apple': 2445,\n",
       " 'podcasts': 17977,\n",
       " 'google': 10497,\n",
       " 'play': 17892,\n",
       " 'dime': 7243,\n",
       " 'algo': 2080,\n",
       " 'publixhelps': 18623,\n",
       " 'publix': 18622,\n",
       " 'advocating': 1842,\n",
       " 'senior': 20824,\n",
       " 'hours': 11578,\n",
       " 'happen': 10993,\n",
       " 'miami': 15206,\n",
       " 'manufacturers': 14757,\n",
       " 'wisconsin': 25505,\n",
       " 'making': 14673,\n",
       " 'products': 18419,\n",
       " 'toilet': 23439,\n",
       " 'paper': 17329,\n",
       " 'canned': 4407,\n",
       " 'ramp': 19135,\n",
       " 'consumers': 5635,\n",
       " 'planning': 17874,\n",
       " 'impacts': 12037,\n",
       " 'workforce': 25622,\n",
       " 'virus': 24775,\n",
       " 'spreads': 21834,\n",
       " 'reports': 19606,\n",
       " 'hopekirwan': 11525,\n",
       " 'meganmariehart': 15080,\n",
       " 'wpr': 25685,\n",
       " 'zpemi0lr5z': 26422,\n",
       " 'shoutout': 21137,\n",
       " 'blairkaylor': 3571,\n",
       " 'tirelessly': 23370,\n",
       " 'crisis': 6319,\n",
       " 'farmers': 9021,\n",
       " 'wouldnâ': 25675,\n",
       " 'goods': 10490,\n",
       " 'produce': 18409,\n",
       " 'vital': 24803,\n",
       " 'rhubarb': 19860,\n",
       " 'early': 7942,\n",
       " 'spring': 21839,\n",
       " 'cabbages': 4282,\n",
       " 'mention': 15121,\n",
       " 'tea': 22881,\n",
       " 'tonight': 23491,\n",
       " 'leek': 13900,\n",
       " 'potato': 18133,\n",
       " 'soup': 21647,\n",
       " 'hero': 11256,\n",
       " 'marvel': 14866,\n",
       " 'good': 10480,\n",
       " 'article': 2590,\n",
       " 'diy': 7455,\n",
       " 'microscope': 15227,\n",
       " 'pictures': 17781,\n",
       " 'different': 7216,\n",
       " 'fibers': 9233,\n",
       " 'protective': 18530,\n",
       " 'abilities': 1580,\n",
       " 'covid19': 6082,\n",
       " 'coronakrise': 5843,\n",
       " 'stayhomesavelives': 22035,\n",
       " 'fridayfeeling': 9818,\n",
       " 'qh2d1gehq3': 18823,\n",
       " 'donttouchface': 7597,\n",
       " 'fentanyl': 9176,\n",
       " 'absorb': 1598,\n",
       " 'transdermally': 23653,\n",
       " 'skin': 21324,\n",
       " 'false': 8972,\n",
       " 'narrative': 15912,\n",
       " 'notwithstanding': 16394,\n",
       " 'wearing': 25210,\n",
       " 'isnâ': 12618,\n",
       " 'bad': 2989,\n",
       " 'idea': 11872,\n",
       " 'remember': 19535,\n",
       " 'touch': 23543,\n",
       " 'avg': 2856,\n",
       " '368': 635,\n",
       " 'wtfentanyl': 25733,\n",
       " 'ea1wrfjunz': 7933,\n",
       " 'airlines': 2003,\n",
       " 'verge': 24662,\n",
       " 'bankruptcy': 3067,\n",
       " 'years': 26049,\n",
       " 'scamming': 20541,\n",
       " 'extra': 8823,\n",
       " 'seats': 20710,\n",
       " 'insulting': 12397,\n",
       " 'inflight': 12251,\n",
       " 'service': 20869,\n",
       " 'fees': 9156,\n",
       " 'record': 19346,\n",
       " 'low': 14417,\n",
       " 'oil': 16746,\n",
       " 'tax': 22837,\n",
       " 'breaks': 3926,\n",
       " 'route': 20105,\n",
       " 'consolidations': 5604,\n",
       " 'em': 8221,\n",
       " 'bailout': 3010,\n",
       " 'chance': 4751,\n",
       " 'force': 9616,\n",
       " 'behave': 3305,\n",
       " 'deserved': 7052,\n",
       " 'restrict': 19733,\n",
       " 'orders': 16960,\n",
       " '70': 1147,\n",
       " '92': 1389,\n",
       " 'yo': 26148,\n",
       " 'dad': 6606,\n",
       " '300': 579,\n",
       " 'miles': 15265,\n",
       " 'away': 2880,\n",
       " '140': 200,\n",
       " 'basket': 3131,\n",
       " 'slots': 21400,\n",
       " 'supposed': 22522,\n",
       " 'cope': 5767,\n",
       " 'gel': 10166,\n",
       " 'antibacterial': 2364,\n",
       " 'wipes': 25495,\n",
       " 'shops': 21107,\n",
       " 'trying': 23828,\n",
       " 'utmost': 24484,\n",
       " 'fair': 8943,\n",
       " 'dozen': 7663,\n",
       " 'instances': 12371,\n",
       " 've': 24621,\n",
       " 'minutes': 15330,\n",
       " 'impossible': 12072,\n",
       " 'coronavirusuk': 5947,\n",
       " 'experts': 8756,\n",
       " 'panic': 17303,\n",
       " 'plenty': 17920,\n",
       " 'qldo0chdge': 18856,\n",
       " 'lsjnews': 14459,\n",
       " 'wondering': 25584,\n",
       " 'lovely': 14404,\n",
       " 'able': 1583,\n",
       " 'donate': 7571,\n",
       " '600': 1020,\n",
       " 'easter': 7963,\n",
       " 'eggs': 8122,\n",
       " 'providing': 18559,\n",
       " 'frontline': 9851,\n",
       " 'nhs': 16179,\n",
       " 'services': 20871,\n",
       " 'fighting': 9253,\n",
       " 'tesco': 23017,\n",
       " 'sainsburys': 20339,\n",
       " 'asda': 2611,\n",
       " 'aldiuk': 2066,\n",
       " 'morrisons': 15579,\n",
       " 'nhscovidheroes': 16180,\n",
       " 'countries': 6043,\n",
       " 'weathering': 25216,\n",
       " 'ways': 25155,\n",
       " 'sloat': 21397,\n",
       " 'compiled': 5451,\n",
       " 'anecdotes': 2295,\n",
       " 'press': 18291,\n",
       " 'clips': 5170,\n",
       " 'twitter': 23931,\n",
       " 'videos': 24729,\n",
       " '68': 1057,\n",
       " 'provide': 18554,\n",
       " 'snapshot': 21476,\n",
       " 'cut': 6502,\n",
       " 'roll': 20046,\n",
       " 'pack': 17224,\n",
       " 'rolled': 20048,\n",
       " 'crowd': 6356,\n",
       " 'shoppers': 21095,\n",
       " 'yelled': 26061,\n",
       " 'joke': 13016,\n",
       " 'horror': 11546,\n",
       " 'coronaviruspandemic': 5930,\n",
       " 'wuhancoronavirus': 25752,\n",
       " 'bold': 3701,\n",
       " 'decision': 6829,\n",
       " 'ban': 3038,\n",
       " 'bowel': 3826,\n",
       " 'movements': 15631,\n",
       " 'drip': 7728,\n",
       " 'dry': 7772,\n",
       " 'allowed': 2132,\n",
       " 'coronaviruslockdown': 5913,\n",
       " 'toiletpaper': 23441,\n",
       " 'rachbarnhart': 19067,\n",
       " 'rachel': 19068,\n",
       " 'california': 4319,\n",
       " 'got': 10517,\n",
       " 'gone': 10476,\n",
       " 'miss': 15354,\n",
       " 'wegmans': 25251,\n",
       " 'everyday': 8613,\n",
       " 'believe': 3332,\n",
       " 'treated': 23704,\n",
       " 'wrong': 25717,\n",
       " 'known': 13508,\n",
       " 'coast': 5246,\n",
       " 'kyliejenner': 13653,\n",
       " 'generous': 10189,\n",
       " 'donation': 7575,\n",
       " 'west': 25305,\n",
       " 'hills': 11328,\n",
       " 'hospital': 11548,\n",
       " 'greatly': 10665,\n",
       " 'fight': 9245,\n",
       " 'phase': 17716,\n",
       " 'relief': 19513,\n",
       " 'vote': 24880,\n",
       " 'supportnurses': 22515,\n",
       " 'tru': 23770,\n",
       " 'petrol': 17678,\n",
       " 'diesel': 7207,\n",
       " 'set': 20877,\n",
       " 'opec': 16898,\n",
       " 'member': 15098,\n",
       " 'states': 21987,\n",
       " 'saudi': 20487,\n",
       " 'arabia': 2510,\n",
       " 'russia': 20215,\n",
       " 'finally': 9290,\n",
       " 'reach': 19234,\n",
       " 'deal': 6777,\n",
       " 'global': 10370,\n",
       " 'crude': 6367,\n",
       " 'production': 18416,\n",
       " '10': 121,\n",
       " 'million': 15280,\n",
       " 'barrels': 3105,\n",
       " 'ramifications': 19134,\n",
       " 'india': 12160,\n",
       " 'emerging': 8253,\n",
       " 'wounds': 25677,\n",
       " 'immense': 12016,\n",
       " 'fools': 9600,\n",
       " 'think': 23210,\n",
       " 'bottled': 3803,\n",
       " 'water': 25138,\n",
       " 'huge': 11666,\n",
       " 'priority': 18367,\n",
       " 'right': 19903,\n",
       " 'gonna': 10479,\n",
       " 'filling': 9273,\n",
       " 'tap': 22806,\n",
       " 'silly': 21221,\n",
       " 'cause': 4594,\n",
       " 'desperation': 7074,\n",
       " 'im': 11994,\n",
       " 'sure': 22535,\n",
       " 'did': 7196,\n",
       " '2lz5qfvun2': 527,\n",
       " 'feeling': 9151,\n",
       " 'someoneâ': 21604,\n",
       " 'standing': 21943,\n",
       " 'close': 5175,\n",
       " 'socialdistancing': 21535,\n",
       " 'flattenthecurve': 9420,\n",
       " 's5wdgfbmy4': 20277,\n",
       " 'chop': 4958,\n",
       " 'presses': 18295,\n",
       " 'crip': 6315,\n",
       " 'pop': 18048,\n",
       " 'smoke': 21452,\n",
       " 'arrested': 2572,\n",
       " 'wf10iakpxu': 25323,\n",
       " 'rap': 19167,\n",
       " 'hiphop': 11344,\n",
       " 'viral': 24761,\n",
       " 'trending': 23715,\n",
       " 'worldstar': 25648,\n",
       " 'chicago': 4882,\n",
       " 'chiraq': 4932,\n",
       " 'atlanta': 2722,\n",
       " 'newyork': 16140,\n",
       " 'drake': 7686,\n",
       " 'trav': 23688,\n",
       " '50cent': 888,\n",
       " 'queenzflip': 18955,\n",
       " 'chrislines01': 4977,\n",
       " 'peter_fitz': 17662,\n",
       " 'newscomauhq': 16122,\n",
       " 'haven': 11074,\n",
       " 'grocer': 10712,\n",
       " 'lately': 13771,\n",
       " 'started': 21964,\n",
       " 'clinics': 5165,\n",
       " 'claiming': 5070,\n",
       " 'overwhelmed': 17140,\n",
       " 'starting': 21966,\n",
       " 'run': 20200,\n",
       " 'short': 21114,\n",
       " 'supplies': 22492,\n",
       " 'trader': 23618,\n",
       " 'joeâ': 12989,\n",
       " 'worker': 25617,\n",
       " 'scarsdale': 20558,\n",
       " 'greeter': 10687,\n",
       " 'giant': 10279,\n",
       " 'largo': 13761,\n",
       " 'md': 14997,\n",
       " 'walmart': 25046,\n",
       " 'area': 2524,\n",
       " 'died': 7203,\n",
       " 'izj5iyc7ih': 12710,\n",
       " 'wore': 25612,\n",
       " 'town': 23569,\n",
       " 'glad': 10344,\n",
       " 'kids': 13398,\n",
       " 'adults': 1805,\n",
       " 'smile': 21444,\n",
       " 'itâ': 12675,\n",
       " 'ideal': 11873,\n",
       " 'jiu1m4k8n1': 12937,\n",
       " 'getting': 10247,\n",
       " 'creative': 6270,\n",
       " 'including': 12127,\n",
       " 'things': 23208,\n",
       " 'isles': 12613,\n",
       " 'wagnruedgu': 24998,\n",
       " 'instore': 12384,\n",
       " 'retail': 19753,\n",
       " 'stop': 22184,\n",
       " 'buying': 4207,\n",
       " 'really': 19276,\n",
       " 'ialq3rsdtd': 11820,\n",
       " 'sozpi5uxoy': 21679,\n",
       " 'restaurants': 19722,\n",
       " 'cafes': 4295,\n",
       " 'deliver': 6940,\n",
       " 'offer': 16689,\n",
       " 'takeaway': 22766,\n",
       " 'tough': 23549,\n",
       " 'gas': 10092,\n",
       " 'industry': 12212,\n",
       " 'seige': 20757,\n",
       " 'having': 11079,\n",
       " 'best': 3389,\n",
       " 'recorded': 19347,\n",
       " 'history': 11358,\n",
       " 'soon': 21617,\n",
       " 'starts': 21969,\n",
       " 'does': 7527,\n",
       " 'national': 15927,\n",
       " 'security': 20730,\n",
       " 'mv4uuj1hgu': 15781,\n",
       " 'boring': 3774,\n",
       " 'lol': 14317,\n",
       " 'foodbankaus': 9559,\n",
       " 'ceo': 4699,\n",
       " 'briannacasey1': 3956,\n",
       " 'joins': 13012,\n",
       " 'unitingcare_aus': 24265,\n",
       " 'mowaustralia': 15640,\n",
       " 'chat': 4800,\n",
       " 'increasing': 12143,\n",
       " 'australian': 2814,\n",
       " 'charities': 4782,\n",
       " 'unprecedented': 24302,\n",
       " 'link': 14133,\n",
       " 'ro9mmfyptn': 19988,\n",
       " 'welp': 25287,\n",
       " 'guess': 10792,\n",
       " 'lululemon': 14486,\n",
       " 'fitting': 9374,\n",
       " 'foreseeable': 9636,\n",
       " 'future': 9961,\n",
       " 'thanks': 23083,\n",
       " 'luckily': 14475,\n",
       " 'thing': 23207,\n",
       " 'aclmbgyhzr': 1688,\n",
       " 'fda': 9101,\n",
       " 'stakeholder': 21927,\n",
       " 'shortage': 21115,\n",
       " 'animal': 2317,\n",
       " 'pet': 17656,\n",
       " 'related': 19486,\n",
       " 'ingredients': 12287,\n",
       " 'wide': 25424,\n",
       " 'spread': 21829,\n",
       " 'disruptions': 7394,\n",
       " 'reported': 19601,\n",
       " 'delays': 6927,\n",
       " 'ordering': 16958,\n",
       " 'result': 19742,\n",
       " 'e9shyvozwo': 7929,\n",
       " 'fug4v5eiai': 9909,\n",
       " 'note': 16364,\n",
       " 'hints': 11341,\n",
       " 'secure': 20726,\n",
       " 'transactions': 23652,\n",
       " 'onlineshopping': 16871,\n",
       " 'stayhome': 22024,\n",
       " 'maltagov': 14702,\n",
       " 'robertabela_mt': 20007,\n",
       " 'financemalta': 9292,\n",
       " 'mfsacomm': 15187,\n",
       " 'mp4esaoaxu': 15645,\n",
       " 'frighteningâ': 9838,\n",
       " 'calls': 4336,\n",
       " 'government': 10538,\n",
       " 'louder': 14391,\n",
       " 'oilpatch': 16754,\n",
       " 'faces': 8907,\n",
       " 'bleak': 3589,\n",
       " 'outlook': 17062,\n",
       " 'bkqeykpsqv': 3555,\n",
       " 'figure': 9255,\n",
       " 'pops': 18053,\n",
       " 'ready': 19252,\n",
       " 'headed': 11124,\n",
       " '2020': 393,\n",
       " 'distribution': 7428,\n",
       " 'surgical': 22548,\n",
       " 'n95': 15845,\n",
       " 'sale': 20354,\n",
       " 'sanitizers': 20424,\n",
       " 'liquid': 14142,\n",
       " 'soap': 21509,\n",
       " 'available': 2846,\n",
       " 'large': 13756,\n",
       " 'reasonable': 19285,\n",
       " 'helpline': 11218,\n",
       " 'provided': 18555,\n",
       " 'atâ': 2776,\n",
       " 'gwjcjhhykq': 10837,\n",
       " 'yxdulrsrlp': 26261,\n",
       " 'sad': 20306,\n",
       " 'new': 16091,\n",
       " 'normal': 16332,\n",
       " 'didnâ': 7201,\n",
       " 'youâ': 26194,\n",
       " 'banks': 3068,\n",
       " 'panicbuying': 17307,\n",
       " 'requested': 19625,\n",
       " 'video': 24725,\n",
       " 'followed': 9545,\n",
       " 'excellent': 8666,\n",
       " 'guidelines': 10799,\n",
       " 'manufacture': 14754,\n",
       " 'scrub': 20660,\n",
       " 'retweets': 19799,\n",
       " 'appreciated': 2467,\n",
       " 'amazing': 2185,\n",
       " 'lowest': 14425,\n",
       " 'offers': 16693,\n",
       " 'barwa': 3117,\n",
       " 'old': 16797,\n",
       " 'airport': 2005,\n",
       " 'al': 2035,\n",
       " 'khor': 13381,\n",
       " 'branch': 3881,\n",
       " 'open': 16899,\n",
       " '24': 449,\n",
       " 'pdf': 17525,\n",
       " 'd0loth2miv': 6561,\n",
       " 'ansar': 2351,\n",
       " 'ansargallery': 2352,\n",
       " 'deals': 6783,\n",
       " 'qatar': 18779,\n",
       " 'doha': 7537,\n",
       " 'corona': 5811,\n",
       " 'hihjvfmkru': 11314,\n",
       " 'bath': 3141,\n",
       " 'body': 3681,\n",
       " 'works': 25632,\n",
       " 'smell': 21438,\n",
       " 'unicorn': 24236,\n",
       " 'fart': 9035,\n",
       " 'staysafe': 22052,\n",
       " 'coronavirusmemes': 5917,\n",
       " 'thanos': 23099,\n",
       " 'avengers': 2851,\n",
       " 'funnymemes': 9942,\n",
       " 'sarcasm': 20456,\n",
       " 'dank': 6664,\n",
       " 'dankmemes': 6666,\n",
       " 'tuesdathoughts': 23857,\n",
       " '2zikuyldfd': 577,\n",
       " 'agrees': 1947,\n",
       " 'measures': 15027,\n",
       " '9mttgxamjf': 1461,\n",
       " 'usdawunion': 24427,\n",
       " 'supermarkets': 22477,\n",
       " 'hazemat': 11091,\n",
       " 'suits': 22423,\n",
       " 'protect': 18522,\n",
       " 'postal': 18111,\n",
       " 'citizens': 5036,\n",
       " 'america': 2214,\n",
       " 'fullmoon': 9915,\n",
       " 'shutitdown': 21163,\n",
       " 'definitely': 6901,\n",
       " 'ramped': 19137,\n",
       " 'said': 20335,\n",
       " 'wasn': 25122,\n",
       " 'billionaires': 3488,\n",
       " 'politicians': 18012,\n",
       " 'saved': 20500,\n",
       " 'janitors': 12806,\n",
       " 'bin': 3497,\n",
       " 'men': 15109,\n",
       " 'paramedics': 17352,\n",
       " 'police': 17997,\n",
       " 'texas': 23040,\n",
       " 'alcoholic': 2061,\n",
       " 'beverages': 3409,\n",
       " 'purchases': 18666,\n",
       " 'customers': 6496,\n",
       " 'response': 19708,\n",
       " 'waived': 25016,\n",
       " 'regulations': 19468,\n",
       " 'hindered': 11334,\n",
       " 'weeks': 25247,\n",
       " 'important': 12061,\n",
       " 'theyâ': 23202,\n",
       " 'source': 21652,\n",
       " 'texans': 23038,\n",
       " 'j9lfsdfcee': 12737,\n",
       " 'position': 18090,\n",
       " 'want': 25064,\n",
       " 'consider': 5586,\n",
       " 'donating': 7574,\n",
       " 'bank': 3057,\n",
       " 'families': 8982,\n",
       " 'individuals': 12198,\n",
       " 'arenâ': 2529,\n",
       " 'programs': 18450,\n",
       " 'rely': 19522,\n",
       " 'running': 20204,\n",
       " 'q0itrtrv0z': 18742,\n",
       " 'foodbank': 9558,\n",
       " 'went': 25295,\n",
       " 'cookies': 5741,\n",
       " 'needed': 16021,\n",
       " 'wine': 25468,\n",
       " 'spirits': 21777,\n",
       " 'home': 11464,\n",
       " 'hunker': 11699,\n",
       " 'calmlyshopping': 4343,\n",
       " 'age': 1915,\n",
       " 'non': 16306,\n",
       " 'existent': 8713,\n",
       " 'income': 12128,\n",
       " 'currently': 6475,\n",
       " 'supporting': 22509,\n",
       " 'needs': 16025,\n",
       " 'selfisolating': 20777,\n",
       " 'tvs': 23906,\n",
       " 'electronics': 8191,\n",
       " 'health': 11138,\n",
       " 'husband': 11720,\n",
       " 'colleagues': 5307,\n",
       " 'multinational': 15732,\n",
       " 'employer': 8283,\n",
       " 'refuses': 19435,\n",
       " 'doors': 7612,\n",
       " 'expects': 8740,\n",
       " 'final': 9286,\n",
       " 'attempt': 2743,\n",
       " 'die': 7202,\n",
       " 'possible': 18107,\n",
       " 'lots': 14388,\n",
       " 'pubs': 18624,\n",
       " 'party': 17410,\n",
       " 'free': 9778,\n",
       " 'pool': 18036,\n",
       " 'jukebox': 13113,\n",
       " 'thanet': 23076,\n",
       " 'pubclosures': 18606,\n",
       " 'shutdownuk': 21162,\n",
       " 'borisjohnson': 3777,\n",
       " 'angrybritain': 2309,\n",
       " 'fuckingidiots': 9897,\n",
       " 'todayâ': 23428,\n",
       " 'episode': 8439,\n",
       " 'whatâ': 25360,\n",
       " '45': 764,\n",
       " 'mental': 15116,\n",
       " 'check': 4824,\n",
       " 'tested': 23027,\n",
       " 'positive': 18094,\n",
       " 'discovered': 7323,\n",
       " 'theyre': 23201,\n",
       " 'actually': 1720,\n",
       " 'upset': 24377,\n",
       " 'impression': 12077,\n",
       " 'std': 22062,\n",
       " 'hm': 11387,\n",
       " 'okay': 16782,\n",
       " 'obskug1fu2': 16624,\n",
       " 'socially': 21548,\n",
       " 'acceptable': 1631,\n",
       " 'ask': 2634,\n",
       " 'step': 22089,\n",
       " 'queue': 18962,\n",
       " 'trolley': 23755,\n",
       " '2m': 528,\n",
       " 'long': 14330,\n",
       " ...}"
      ]
     },
     "execution_count": 15,
     "metadata": {},
     "output_type": "execute_result"
    }
   ],
   "source": [
    "vect.vocabulary_"
   ]
  },
  {
   "cell_type": "code",
   "execution_count": 16,
   "metadata": {},
   "outputs": [
    {
     "name": "stdout",
     "output_type": "stream",
     "text": [
      "Shape training data: (8532, 26483)\n",
      "Shape test data:(2134, 26483)\n"
     ]
    }
   ],
   "source": [
    "# nrows = nr tweets, ncols = nr words\n",
    "print(\"Shape training data: {}\".format(x_train_dtm.shape) + \"\\nShape test data:{}\".format(x_test_dtm.shape))"
   ]
  },
  {
   "cell_type": "code",
   "execution_count": 17,
   "metadata": {},
   "outputs": [
    {
     "data": {
      "text/plain": [
       "['NaiveBayes.joblib']"
      ]
     },
     "execution_count": 17,
     "metadata": {},
     "output_type": "execute_result"
    }
   ],
   "source": [
    "# Multinomial Naive Bayes model\n",
    "model = MultinomialNB()\n",
    "model.fit(x_train_dtm, y_train)\n",
    "# save fitted model\n",
    "joblib.dump(model, \"NaiveBayes\" + \".joblib\")"
   ]
  },
  {
   "cell_type": "code",
   "execution_count": 18,
   "metadata": {},
   "outputs": [],
   "source": [
    "# predict target label (0 or 1) \n",
    "y_pred = model.predict(x_test_dtm)\n",
    "\n",
    "# predict probability of class == 1\n",
    "y_pred_prob = model.predict_proba(x_test_dtm)\n",
    "\n",
    "# performance metrics\n",
    "auc_res = list()\n",
    "acc = list()\n",
    "\n",
    "auc_res.append( roc_auc_score(y_test, y_pred_prob[:, 1]) )\n",
    "acc.append( accuracy_score(y_test, y_pred) )"
   ]
  },
  {
   "cell_type": "markdown",
   "metadata": {},
   "source": [
    "## Random Forests\n",
    "\n",
    "\n",
    "-----------------------------------------------------------------------------------------------------\n",
    "Random forests are an ensemble learning method for classification and regression that operates by constructing a multitude of decision trees at training time. Random decision forests correct for decision trees' habit of overfitting to their training set.\n",
    "\n",
    "The training algorithm for random forests applies the general technique of bootstrap aggregating, or bagging, to tree learners. Given a training set $X = x_1, ..., x_n$ with responses $Y = y_1, ..., y_n$, bagging repeatedly ($B$ times) selects a random sample with replacement of the training set and fits trees to these samples:\n",
    "\n",
    "For $b = 1, ..., B$:\n",
    "* Sample, with replacement, $n$ training examples from $X, Y$; call these $X_b, Y_b$.\n",
    "* Train a classification or regression tree $f_b$ on $X_b, Y_b$.\n",
    "\n",
    "After training, predictions for unseen samples can be made by averaging the predictions from all the individual regression trees on or by taking the majority vote in the case of classification trees.\n",
    "\n",
    "This bootstrapping procedure leads to better model performance because it decreases the variance of the model, without increasing the bias. This means that while the predictions of a single tree are highly sensitive to noise in its training set, the average of many trees is not, as long as the trees are not correlated. Simply training many trees on a single training set would give strongly correlated trees; bootstrap sampling is a way of de-correlating the trees by showing them different training sets.\n",
    "\n",
    "Random forests also include another type of bagging scheme: they use a modified tree learning algorithm that selects, at each candidate split in the learning process, a random subset of the features. This process is sometimes called \"feature bagging\". The reason for doing this is the correlation of the trees in an ordinary bootstrap sample: if one or a few features are very strong predictors for the response variable, these features will be selected in many of the $B trees, causing them to become correlated.\n",
    "\n",
    "----------------------------------------------------------------------------------------------------\n",
    "\n",
    "**For bag-of models**, NLP preprocessing is performed by sklearn TfidfVectorizer(), which implements lowercasing, tokenization and stopword removal and produces a \"document-term matrix\" with tf-idf normalization via the .fit transform() method. \n",
    "\n",
    "Input of TfidfVectorizer(): \n",
    "* Bag-of-words: clean tweets\n",
    "* Bag-of-POS: strings of POS tags\n",
    "\n",
    "**For pretrained word embeddings**, NLP preprocessing is not necessary and the model is trained directly on the word embeddings. "
   ]
  },
  {
   "cell_type": "code",
   "execution_count": 28,
   "metadata": {},
   "outputs": [],
   "source": [
    "tfidf = TfidfVectorizer(strip_accents=None,\n",
    "                        lowercase=False,\n",
    "                        preprocessor=None)"
   ]
  },
  {
   "cell_type": "code",
   "execution_count": 29,
   "metadata": {},
   "outputs": [],
   "source": [
    "# cross validation parameters\n",
    "cv = StratifiedKFold(n_splits=5, \n",
    "                     shuffle=False)"
   ]
  },
  {
   "cell_type": "markdown",
   "metadata": {},
   "source": [
    "### Bag of words"
   ]
  },
  {
   "cell_type": "code",
   "execution_count": 20,
   "metadata": {},
   "outputs": [],
   "source": [
    "X_train = df_train.tweet_clean\n",
    "X_test = df_test.tweet_clean\n",
    "model_name = \"randomforest_BOW\""
   ]
  },
  {
   "cell_type": "code",
   "execution_count": 31,
   "metadata": {},
   "outputs": [],
   "source": [
    "pipeline = Pipeline([('vect', tfidf),\n",
    "                     ('clf', RandomForestClassifier())]) # use default base learner (decision trees)\n",
    "\n",
    "param_grid = {'vect__ngram_range': [(1, 1)],    \n",
    "              'vect__stop_words': [stopwords, None],\n",
    "              'vect__max_df': [1.0, 0.1, 0.3, 0.5],\n",
    "              'vect__max_features': [None, 1000],                                           \n",
    "              'clf__n_estimators': [100, 200, 300, 400], # number of trees trained in the ensamble\n",
    "              'clf__max_depth': [1, 5, 10] # tree depth\n",
    "              }\n",
    "\n",
    "model = GridSearchCV(pipeline, \n",
    "                     param_grid,\n",
    "                     scoring='roc_auc',\n",
    "                     cv=cv, \n",
    "                     n_jobs = -1, \n",
    "                     verbose = 1)"
   ]
  },
  {
   "cell_type": "code",
   "execution_count": 32,
   "metadata": {},
   "outputs": [
    {
     "name": "stdout",
     "output_type": "stream",
     "text": [
      "Fitting 5 folds for each of 192 candidates, totalling 960 fits\n"
     ]
    },
    {
     "name": "stderr",
     "output_type": "stream",
     "text": [
      "[Parallel(n_jobs=-1)]: Using backend LokyBackend with 8 concurrent workers.\n",
      "[Parallel(n_jobs=-1)]: Done  34 tasks      | elapsed:   11.3s\n",
      "[Parallel(n_jobs=-1)]: Done 184 tasks      | elapsed:   38.4s\n",
      "[Parallel(n_jobs=-1)]: Done 434 tasks      | elapsed:  1.8min\n",
      "[Parallel(n_jobs=-1)]: Done 784 tasks      | elapsed:  3.7min\n",
      "[Parallel(n_jobs=-1)]: Done 960 out of 960 | elapsed:  5.4min finished\n"
     ]
    },
    {
     "data": {
      "text/plain": [
       "['randomforest_BOW.joblib']"
      ]
     },
     "execution_count": 32,
     "metadata": {},
     "output_type": "execute_result"
    }
   ],
   "source": [
    "model.fit(X_train, y_train)\n",
    "\n",
    "# save fitted model\n",
    "joblib.dump(model, model_name + \".joblib\")"
   ]
  },
  {
   "cell_type": "code",
   "execution_count": 21,
   "metadata": {},
   "outputs": [],
   "source": [
    "# load fitted model\n",
    "model = joblib.load(model_name + \".joblib\")"
   ]
  },
  {
   "cell_type": "code",
   "execution_count": 22,
   "metadata": {},
   "outputs": [
    {
     "name": "stdout",
     "output_type": "stream",
     "text": [
      "Best parameter set: {'clf__max_depth': 10, 'clf__n_estimators': 400, 'vect__max_df': 0.1, 'vect__max_features': None, 'vect__ngram_range': (1, 1), 'vect__stop_words': None} \n"
     ]
    }
   ],
   "source": [
    "params, auc, accuracy = test_performance(model, X_test)\n",
    "\n",
    "auc_res.append( auc )\n",
    "acc.append( accuracy )\n",
    "\n",
    "print('Best parameter set: %s ' % params)"
   ]
  },
  {
   "cell_type": "markdown",
   "metadata": {},
   "source": [
    "### Bag of POS"
   ]
  },
  {
   "cell_type": "code",
   "execution_count": 23,
   "metadata": {},
   "outputs": [],
   "source": [
    "X_train = df_train.text_pos\n",
    "X_test = df_test.text_pos\n",
    "model_name = \"randomforest_POS\""
   ]
  },
  {
   "cell_type": "code",
   "execution_count": 36,
   "metadata": {},
   "outputs": [],
   "source": [
    "param_grid = {'vect__ngram_range': [(1, 1)],            \n",
    "              'clf__n_estimators': [100, 200, 300, 400],\n",
    "              'clf__max_depth': [1, 5, 10]}\n",
    "\n",
    "model = GridSearchCV(pipeline, \n",
    "                     param_grid,\n",
    "                     scoring='roc_auc',\n",
    "                     cv=cv, \n",
    "                     n_jobs = -1, \n",
    "                     verbose = 1)"
   ]
  },
  {
   "cell_type": "code",
   "execution_count": 37,
   "metadata": {},
   "outputs": [
    {
     "name": "stdout",
     "output_type": "stream",
     "text": [
      "Fitting 5 folds for each of 12 candidates, totalling 60 fits\n"
     ]
    },
    {
     "name": "stderr",
     "output_type": "stream",
     "text": [
      "[Parallel(n_jobs=-1)]: Using backend LokyBackend with 8 concurrent workers.\n",
      "[Parallel(n_jobs=-1)]: Done  34 tasks      | elapsed:   14.7s\n",
      "[Parallel(n_jobs=-1)]: Done  60 out of  60 | elapsed:   43.6s finished\n"
     ]
    },
    {
     "data": {
      "text/plain": [
       "['randomforest_POS.joblib']"
      ]
     },
     "execution_count": 37,
     "metadata": {},
     "output_type": "execute_result"
    }
   ],
   "source": [
    "model.fit(X_train, y_train)\n",
    "\n",
    "# save fitted model\n",
    "joblib.dump(model, model_name + \".joblib\")"
   ]
  },
  {
   "cell_type": "code",
   "execution_count": 24,
   "metadata": {},
   "outputs": [],
   "source": [
    "# load fitted model\n",
    "model = joblib.load(model_name + \".joblib\")"
   ]
  },
  {
   "cell_type": "code",
   "execution_count": 25,
   "metadata": {},
   "outputs": [
    {
     "name": "stdout",
     "output_type": "stream",
     "text": [
      "Best parameter set: {'clf__max_depth': 10, 'clf__n_estimators': 300, 'vect__ngram_range': (1, 1)} \n"
     ]
    }
   ],
   "source": [
    "params, auc, accuracy = test_performance(model, X_test)\n",
    "\n",
    "auc_res.append( auc )\n",
    "acc.append( accuracy )\n",
    "\n",
    "print('Best parameter set: %s ' % params)"
   ]
  },
  {
   "cell_type": "markdown",
   "metadata": {},
   "source": [
    "### Embeddings"
   ]
  },
  {
   "cell_type": "code",
   "execution_count": 26,
   "metadata": {},
   "outputs": [],
   "source": [
    "# select columns corresponding to embeddings\n",
    "select = [i for i in list(df.columns) if i not in [\"Sentiment\", \"tweet_clean\", \"text_pos\", \"target_encoded\"]]\n",
    "\n",
    "X_train = df_train[select]\n",
    "X_test = df_test[select]\n",
    "model_name = \"randomforest_EMB\""
   ]
  },
  {
   "cell_type": "code",
   "execution_count": 41,
   "metadata": {},
   "outputs": [],
   "source": [
    "pipe = Pipeline([('clf', RandomForestClassifier())])\n",
    "\n",
    "param_grid = {'clf__n_estimators': [100, 200, 300, 400],\n",
    "              'clf__max_depth': [1, 5, 10]}\n",
    "\n",
    "model = GridSearchCV(pipe, param_grid,\n",
    "                     scoring='roc_auc',\n",
    "                     cv=cv, \n",
    "                     n_jobs=-1, \n",
    "                     verbose = 1) "
   ]
  },
  {
   "cell_type": "code",
   "execution_count": 42,
   "metadata": {},
   "outputs": [
    {
     "name": "stdout",
     "output_type": "stream",
     "text": [
      "Fitting 5 folds for each of 12 candidates, totalling 60 fits\n"
     ]
    },
    {
     "name": "stderr",
     "output_type": "stream",
     "text": [
      "[Parallel(n_jobs=-1)]: Using backend LokyBackend with 8 concurrent workers.\n",
      "[Parallel(n_jobs=-1)]: Done  34 tasks      | elapsed:   54.0s\n",
      "[Parallel(n_jobs=-1)]: Done  60 out of  60 | elapsed:  2.7min finished\n"
     ]
    },
    {
     "data": {
      "text/plain": [
       "['randomforest_EMB.joblib']"
      ]
     },
     "execution_count": 42,
     "metadata": {},
     "output_type": "execute_result"
    }
   ],
   "source": [
    "model.fit(X_train, y_train)\n",
    "\n",
    "# save fitted model\n",
    "joblib.dump(model, model_name + \".joblib\")"
   ]
  },
  {
   "cell_type": "code",
   "execution_count": 27,
   "metadata": {},
   "outputs": [],
   "source": [
    "# load fitted model\n",
    "model = joblib.load(model_name + \".joblib\")"
   ]
  },
  {
   "cell_type": "code",
   "execution_count": 28,
   "metadata": {},
   "outputs": [
    {
     "name": "stdout",
     "output_type": "stream",
     "text": [
      "Best parameter set: {'clf__max_depth': 10, 'clf__n_estimators': 400} \n"
     ]
    }
   ],
   "source": [
    "params, auc, accuracy = test_performance(model, X_test)\n",
    "\n",
    "auc_res.append( auc )\n",
    "acc.append( accuracy )\n",
    "\n",
    "print('Best parameter set: %s ' % params)"
   ]
  },
  {
   "cell_type": "markdown",
   "metadata": {},
   "source": [
    "## Boosting Models"
   ]
  },
  {
   "cell_type": "markdown",
   "metadata": {},
   "source": [
    "Boosting algorithms consist of iteratively training weak classifiers with respect to a distribution and adding them to a final strong classifier. When they are added, they are weighted in a way that is related to the weak learners' accuracy. After a weak learner is added, the data weights are readjusted, known as \"re-weighting\". Misclassified input data gain a higher weight and examples that are classified correctly lose weight. Thus, future weak learners focus more on the examples that previous weak learners misclassified.\n",
    "\n",
    "The main variation between many boosting algorithms is their method of weighting training data points and hypotheses."
   ]
  },
  {
   "cell_type": "markdown",
   "metadata": {},
   "source": [
    "## ADABoost"
   ]
  },
  {
   "cell_type": "markdown",
   "metadata": {},
   "source": [
    "### Bag of words"
   ]
  },
  {
   "cell_type": "code",
   "execution_count": 29,
   "metadata": {},
   "outputs": [],
   "source": [
    "X_train = df_train.tweet_clean\n",
    "X_test = df_test.tweet_clean\n",
    "model_name = \"ADA_BOW\""
   ]
  },
  {
   "cell_type": "code",
   "execution_count": 25,
   "metadata": {},
   "outputs": [],
   "source": [
    "tree = DecisionTreeClassifier(max_depth=5) # use decision tree with max depth 5 as base learners\n",
    "\n",
    "pipeline = Pipeline([('vect', tfidf),\n",
    "                     ('clf', AdaBoostClassifier(base_estimator = tree))]) # use default base learner (decision trees)\n",
    "\n",
    "param_grid = {'vect__ngram_range': [(1, 1)],    \n",
    "              'vect__stop_words': [stopwords, None],\n",
    "              'vect__max_df': [1.0, 0.1, 0.3, 0.5],\n",
    "              'vect__max_features': [None, 1000],                                           \n",
    "              'clf__n_estimators': [100, 200, 300, 400], # number of trees trained in the ensamble\n",
    "              'clf__learning_rate': [0.001, 0.01, 0.1, 1.0]\n",
    "              }\n",
    "\n",
    "model = GridSearchCV(pipeline, \n",
    "                     param_grid,\n",
    "                     scoring='roc_auc',\n",
    "                     cv=cv, \n",
    "                     n_jobs = -1, \n",
    "                     verbose = 1)"
   ]
  },
  {
   "cell_type": "code",
   "execution_count": 26,
   "metadata": {},
   "outputs": [
    {
     "name": "stdout",
     "output_type": "stream",
     "text": [
      "Fitting 5 folds for each of 256 candidates, totalling 1280 fits\n"
     ]
    },
    {
     "name": "stderr",
     "output_type": "stream",
     "text": [
      "[Parallel(n_jobs=-1)]: Using backend LokyBackend with 8 concurrent workers.\n",
      "[Parallel(n_jobs=-1)]: Done  34 tasks      | elapsed:  1.4min\n",
      "[Parallel(n_jobs=-1)]: Done 184 tasks      | elapsed: 12.2min\n",
      "[Parallel(n_jobs=-1)]: Done 434 tasks      | elapsed: 34.9min\n",
      "[Parallel(n_jobs=-1)]: Done 784 tasks      | elapsed: 65.3min\n",
      "[Parallel(n_jobs=-1)]: Done 1234 tasks      | elapsed: 107.0min\n",
      "[Parallel(n_jobs=-1)]: Done 1280 out of 1280 | elapsed: 113.2min finished\n"
     ]
    },
    {
     "data": {
      "text/plain": [
       "['ADA_BOW.joblib']"
      ]
     },
     "execution_count": 26,
     "metadata": {},
     "output_type": "execute_result"
    }
   ],
   "source": [
    "model.fit(X_train, y_train)\n",
    "\n",
    "# save fitted model\n",
    "joblib.dump(model, model_name + \".joblib\")"
   ]
  },
  {
   "cell_type": "code",
   "execution_count": 30,
   "metadata": {},
   "outputs": [],
   "source": [
    "# load fitted model\n",
    "model = joblib.load(model_name + \".joblib\")"
   ]
  },
  {
   "cell_type": "code",
   "execution_count": 31,
   "metadata": {},
   "outputs": [
    {
     "name": "stdout",
     "output_type": "stream",
     "text": [
      "Best parameter set: {'clf__learning_rate': 0.1, 'clf__n_estimators': 200, 'vect__max_df': 0.1, 'vect__max_features': None, 'vect__ngram_range': (1, 1), 'vect__stop_words': ['between', 'or', 'below', 'here', 'through', 'her', \"hasn't\", \"shan't\", 'our', 'its', 'mightn', \"you're\", \"aren't\", 'why', 'out', 'can', 'we', 'shouldn', 'such', 'your', 'as', 'nor', 'weren', 'from', 'herself', 'for', 'up', 'so', 'very', 'by', 'him', 'how', 'same', 'whom', 'did', 'it', 'about', 'having', 'themselves', \"won't\", 'they', 'while', 'll', 'after', 'other', \"didn't\", 'be', \"mightn't\", \"doesn't\", \"should've\", 'had', \"she's\", 'some', 'again', 'who', \"hadn't\", 'aren', 'those', 'than', 'if', 'being', 'does', 'which', \"wasn't\", 'y', 'won', 'don', 'theirs', \"you'll\", 'is', 'his', 'was', \"don't\", 'ma', 'off', 'me', 'd', 'too', \"that'll\", 'didn', 'until', 'i', 'few', 'himself', 'were', 'not', 's', 'under', \"isn't\", 'against', 'then', 'been', 'm', 'couldn', \"you've\", 'at', 'yours', 'will', 'there', 're', 'wasn', 'mustn', \"you'd\", 'down', 't', 'all', 'needn', 'because', 'over', 'o', 've', \"weren't\", \"wouldn't\", 'yourselves', 'hers', 'just', 'myself', 'my', 'haven', 'in', 'ain', 'shan', 'doesn', 'and', 'am', 'isn', 'itself', \"mustn't\", 'an', 'their', 'this', 'to', 'above', 'should', 'are', 'with', 'once', 'of', \"haven't\", 'wouldn', 'a', 'hadn', \"needn't\", \"it's\", 'on', 'them', 'these', 'when', 'ourselves', 'no', 'she', \"couldn't\", 'ours', 'further', 'during', 'where', 'both', 'only', 'what', 'he', 'has', 'most', 'that', 'but', 'before', 'into', 'the', 'own', 'hasn', 'yourself', 'each', 'have', \"shouldn't\", 'you', 'do', 'doing', 'any', 'more', 'now']} \n"
     ]
    }
   ],
   "source": [
    "params, auc, accuracy = test_performance(model, X_test)\n",
    "\n",
    "auc_res.append( auc )\n",
    "acc.append( accuracy )\n",
    "\n",
    "print('Best parameter set: %s ' % params)"
   ]
  },
  {
   "cell_type": "markdown",
   "metadata": {},
   "source": [
    "### Bag of POS"
   ]
  },
  {
   "cell_type": "code",
   "execution_count": 32,
   "metadata": {},
   "outputs": [],
   "source": [
    "X_train = df_train.text_pos\n",
    "X_test = df_test.text_pos\n",
    "model_name = \"ADA_POS\""
   ]
  },
  {
   "cell_type": "code",
   "execution_count": 49,
   "metadata": {},
   "outputs": [],
   "source": [
    "param_grid = {'vect__ngram_range': [(1, 1)],            \n",
    "              'clf__n_estimators': [100, 200, 300, 400],\n",
    "              'clf__learning_rate': [0.001, 0.01, 0.1, 1.0]}\n",
    "\n",
    "model = GridSearchCV(pipeline, \n",
    "                     param_grid,\n",
    "                     scoring='roc_auc',\n",
    "                     cv=cv, \n",
    "                     n_jobs = -1, \n",
    "                     verbose = 1)"
   ]
  },
  {
   "cell_type": "code",
   "execution_count": 50,
   "metadata": {},
   "outputs": [
    {
     "name": "stdout",
     "output_type": "stream",
     "text": [
      "Fitting 5 folds for each of 16 candidates, totalling 80 fits\n"
     ]
    },
    {
     "name": "stderr",
     "output_type": "stream",
     "text": [
      "[Parallel(n_jobs=-1)]: Using backend LokyBackend with 8 concurrent workers.\n",
      "[Parallel(n_jobs=-1)]: Done  34 tasks      | elapsed:  2.4min\n",
      "[Parallel(n_jobs=-1)]: Done  80 out of  80 | elapsed:  5.4min finished\n"
     ]
    },
    {
     "data": {
      "text/plain": [
       "['ADA_POS.joblib']"
      ]
     },
     "execution_count": 50,
     "metadata": {},
     "output_type": "execute_result"
    }
   ],
   "source": [
    "model.fit(X_train, y_train)\n",
    "\n",
    "# save fitted model\n",
    "joblib.dump(model, model_name + \".joblib\")"
   ]
  },
  {
   "cell_type": "code",
   "execution_count": 33,
   "metadata": {},
   "outputs": [],
   "source": [
    "# load fitted model\n",
    "model = joblib.load(model_name + \".joblib\")"
   ]
  },
  {
   "cell_type": "code",
   "execution_count": 34,
   "metadata": {},
   "outputs": [
    {
     "name": "stdout",
     "output_type": "stream",
     "text": [
      "Best parameter set: {'clf__learning_rate': 0.001, 'clf__n_estimators': 400, 'vect__ngram_range': (1, 1)} \n"
     ]
    }
   ],
   "source": [
    "params, auc, accuracy = test_performance(model, X_test)\n",
    "\n",
    "auc_res.append( auc )\n",
    "acc.append( accuracy )\n",
    "\n",
    "print('Best parameter set: %s ' % params)"
   ]
  },
  {
   "cell_type": "markdown",
   "metadata": {},
   "source": [
    "### Embeddings"
   ]
  },
  {
   "cell_type": "code",
   "execution_count": 35,
   "metadata": {},
   "outputs": [],
   "source": [
    "# select columns corresponding to embeddings\n",
    "select = [i for i in list(df.columns) if i not in [\"Sentiment\", \"tweet_clean\", \"text_pos\", \"target_encoded\"]]\n",
    "\n",
    "X_train = df_train[select]\n",
    "X_test = df_test[select]\n",
    "model_name = \"ADA_EMB\""
   ]
  },
  {
   "cell_type": "code",
   "execution_count": 15,
   "metadata": {},
   "outputs": [],
   "source": [
    "pipe = Pipeline([('clf', AdaBoostClassifier(base_estimator=tree))])\n",
    "\n",
    "param_grid = {'clf__n_estimators': [100, 200, 300, 400],\n",
    "              'clf__learning_rate': [0.001, 0.01, 0.1, 1.0]}\n",
    "\n",
    "model = GridSearchCV(pipe, param_grid,\n",
    "                     scoring='roc_auc',\n",
    "                     cv=cv, \n",
    "                     n_jobs=-1, \n",
    "                     verbose = 1) "
   ]
  },
  {
   "cell_type": "code",
   "execution_count": 16,
   "metadata": {},
   "outputs": [
    {
     "name": "stdout",
     "output_type": "stream",
     "text": [
      "Fitting 5 folds for each of 16 candidates, totalling 80 fits\n"
     ]
    },
    {
     "name": "stderr",
     "output_type": "stream",
     "text": [
      "[Parallel(n_jobs=-1)]: Using backend LokyBackend with 8 concurrent workers.\n",
      "[Parallel(n_jobs=-1)]: Done  34 tasks      | elapsed: 39.2min\n",
      "[Parallel(n_jobs=-1)]: Done  80 out of  80 | elapsed: 92.2min finished\n"
     ]
    },
    {
     "data": {
      "text/plain": [
       "['ADA_EMB.joblib']"
      ]
     },
     "execution_count": 16,
     "metadata": {},
     "output_type": "execute_result"
    }
   ],
   "source": [
    "model.fit(X_train, y_train)\n",
    "\n",
    "# save fitted model\n",
    "joblib.dump(model, model_name + \".joblib\")"
   ]
  },
  {
   "cell_type": "code",
   "execution_count": 36,
   "metadata": {},
   "outputs": [],
   "source": [
    "# load fitted model\n",
    "model = joblib.load(model_name + \".joblib\")"
   ]
  },
  {
   "cell_type": "code",
   "execution_count": 37,
   "metadata": {},
   "outputs": [
    {
     "name": "stdout",
     "output_type": "stream",
     "text": [
      "Best parameter set: {'clf__learning_rate': 0.01, 'clf__n_estimators': 400} \n"
     ]
    }
   ],
   "source": [
    "params, auc, accuracy = test_performance(model, X_test)\n",
    "\n",
    "auc_res.append( auc )\n",
    "acc.append( accuracy )\n",
    "\n",
    "print('Best parameter set: %s ' % params)"
   ]
  },
  {
   "cell_type": "markdown",
   "metadata": {},
   "source": [
    "## XGBoost"
   ]
  },
  {
   "cell_type": "markdown",
   "metadata": {},
   "source": [
    "### Bag of words"
   ]
  },
  {
   "cell_type": "code",
   "execution_count": 38,
   "metadata": {},
   "outputs": [],
   "source": [
    "X_train = df_train.tweet_clean\n",
    "X_test = df_test.tweet_clean\n",
    "model_name = \"XGB_BOW\""
   ]
  },
  {
   "cell_type": "code",
   "execution_count": 28,
   "metadata": {},
   "outputs": [],
   "source": [
    "pipeline = Pipeline([('vect', tfidf),\n",
    "                     ('clf', XGBClassifier())]) # use default base learner (decision trees)\n",
    "\n",
    "param_grid = {'vect__ngram_range': [(1, 1)],    \n",
    "              'vect__stop_words': [stopwords, None],\n",
    "              'vect__max_df': [1.0, 0.1, 0.3, 0.5],\n",
    "              'vect__max_features': [None, 1000],                                           \n",
    "              'clf__n_estimators': [100, 200, 300, 400], # number of trees trained in the ensamble\n",
    "              'clf__learning_rate': [0.001, 0.01, 0.1, 1.0],\n",
    "              'clf__max_depth': [1, 5, 10] # tree depth\n",
    "              }\n",
    "\n",
    "model = GridSearchCV(pipeline, \n",
    "                     param_grid,\n",
    "                     scoring='roc_auc',\n",
    "                     cv=cv, \n",
    "                     n_jobs = -1, \n",
    "                     verbose = 1)"
   ]
  },
  {
   "cell_type": "code",
   "execution_count": 29,
   "metadata": {},
   "outputs": [
    {
     "name": "stdout",
     "output_type": "stream",
     "text": [
      "Fitting 5 folds for each of 768 candidates, totalling 3840 fits\n"
     ]
    },
    {
     "name": "stderr",
     "output_type": "stream",
     "text": [
      "[Parallel(n_jobs=-1)]: Using backend LokyBackend with 8 concurrent workers.\n",
      "[Parallel(n_jobs=-1)]: Done  34 tasks      | elapsed:   23.7s\n",
      "[Parallel(n_jobs=-1)]: Done 184 tasks      | elapsed:  2.9min\n",
      "[Parallel(n_jobs=-1)]: Done 434 tasks      | elapsed: 11.3min\n",
      "[Parallel(n_jobs=-1)]: Done 784 tasks      | elapsed: 40.1min\n",
      "[Parallel(n_jobs=-1)]: Done 1234 tasks      | elapsed: 75.7min\n",
      "[Parallel(n_jobs=-1)]: Done 1784 tasks      | elapsed: 116.0min\n",
      "[Parallel(n_jobs=-1)]: Done 2434 tasks      | elapsed: 157.7min\n",
      "[Parallel(n_jobs=-1)]: Done 3184 tasks      | elapsed: 215.7min\n",
      "[Parallel(n_jobs=-1)]: Done 3840 out of 3840 | elapsed: 265.6min finished\n"
     ]
    },
    {
     "name": "stdout",
     "output_type": "stream",
     "text": [
      "[05:47:24] WARNING: C:/Users/Administrator/workspace/xgboost-win64_release_1.4.0/src/learner.cc:1095: Starting in XGBoost 1.3.0, the default evaluation metric used with the objective 'binary:logistic' was changed from 'error' to 'logloss'. Explicitly set eval_metric if you'd like to restore the old behavior.\n"
     ]
    },
    {
     "data": {
      "text/plain": [
       "['XGB_BOW.joblib']"
      ]
     },
     "execution_count": 29,
     "metadata": {},
     "output_type": "execute_result"
    }
   ],
   "source": [
    "model.fit(X_train, y_train)\n",
    "\n",
    "# save fitted model\n",
    "joblib.dump(model, model_name + \".joblib\")"
   ]
  },
  {
   "cell_type": "code",
   "execution_count": 39,
   "metadata": {},
   "outputs": [],
   "source": [
    "# load fitted model\n",
    "model = joblib.load(model_name + \".joblib\")"
   ]
  },
  {
   "cell_type": "code",
   "execution_count": 40,
   "metadata": {},
   "outputs": [
    {
     "name": "stdout",
     "output_type": "stream",
     "text": [
      "Best parameter set: {'clf__learning_rate': 0.1, 'clf__max_depth': 10, 'clf__n_estimators': 400, 'vect__max_df': 0.1, 'vect__max_features': None, 'vect__ngram_range': (1, 1), 'vect__stop_words': None} \n"
     ]
    }
   ],
   "source": [
    "params, auc, accuracy = test_performance(model, X_test)\n",
    "\n",
    "auc_res.append( auc )\n",
    "acc.append( accuracy )\n",
    "\n",
    "print('Best parameter set: %s ' % params)"
   ]
  },
  {
   "cell_type": "markdown",
   "metadata": {},
   "source": [
    "### Bag of POS"
   ]
  },
  {
   "cell_type": "code",
   "execution_count": 41,
   "metadata": {},
   "outputs": [],
   "source": [
    "X_train = df_train.text_pos\n",
    "X_test = df_test.text_pos\n",
    "model_name = \"XGB_POS\""
   ]
  },
  {
   "cell_type": "code",
   "execution_count": 19,
   "metadata": {},
   "outputs": [],
   "source": [
    "param_grid = {'vect__ngram_range': [(1, 1)],            \n",
    "              'clf__n_estimators': [100, 200, 300, 400],\n",
    "              'clf__learning_rate': [0.001, 0.01, 0.1, 1.0], \n",
    "              'clf__max_depth': [1, 5, 10]}\n",
    "\n",
    "model = GridSearchCV(pipeline, \n",
    "                     param_grid,\n",
    "                     scoring='roc_auc',\n",
    "                     cv=cv, \n",
    "                     n_jobs = -1, \n",
    "                     verbose = 1)"
   ]
  },
  {
   "cell_type": "code",
   "execution_count": 20,
   "metadata": {},
   "outputs": [
    {
     "name": "stdout",
     "output_type": "stream",
     "text": [
      "Fitting 5 folds for each of 48 candidates, totalling 240 fits\n"
     ]
    },
    {
     "name": "stderr",
     "output_type": "stream",
     "text": [
      "[Parallel(n_jobs=-1)]: Using backend LokyBackend with 8 concurrent workers.\n",
      "[Parallel(n_jobs=-1)]: Done  34 tasks      | elapsed:  1.4min\n",
      "[Parallel(n_jobs=-1)]: Done 184 tasks      | elapsed: 10.0min\n",
      "[Parallel(n_jobs=-1)]: Done 240 out of 240 | elapsed: 13.1min finished\n"
     ]
    },
    {
     "name": "stdout",
     "output_type": "stream",
     "text": [
      "[21:36:04] WARNING: C:/Users/Administrator/workspace/xgboost-win64_release_1.4.0/src/learner.cc:1095: Starting in XGBoost 1.3.0, the default evaluation metric used with the objective 'binary:logistic' was changed from 'error' to 'logloss'. Explicitly set eval_metric if you'd like to restore the old behavior.\n"
     ]
    },
    {
     "data": {
      "text/plain": [
       "['XGB_POS.joblib']"
      ]
     },
     "execution_count": 20,
     "metadata": {},
     "output_type": "execute_result"
    }
   ],
   "source": [
    "model.fit(X_train, y_train)\n",
    "\n",
    "# save fitted model\n",
    "joblib.dump(model, model_name + \".joblib\")"
   ]
  },
  {
   "cell_type": "code",
   "execution_count": 42,
   "metadata": {},
   "outputs": [],
   "source": [
    "# load fitted model\n",
    "model = joblib.load(model_name + \".joblib\")"
   ]
  },
  {
   "cell_type": "code",
   "execution_count": 43,
   "metadata": {},
   "outputs": [
    {
     "name": "stdout",
     "output_type": "stream",
     "text": [
      "Best parameter set: {'clf__learning_rate': 0.1, 'clf__max_depth': 1, 'clf__n_estimators': 300, 'vect__ngram_range': (1, 1)} \n"
     ]
    }
   ],
   "source": [
    "params, auc, accuracy = test_performance(model, X_test)\n",
    "\n",
    "auc_res.append( auc )\n",
    "acc.append( accuracy )\n",
    "\n",
    "print('Best parameter set: %s ' % params)"
   ]
  },
  {
   "cell_type": "markdown",
   "metadata": {},
   "source": [
    "### Embeddings"
   ]
  },
  {
   "cell_type": "code",
   "execution_count": 44,
   "metadata": {},
   "outputs": [],
   "source": [
    "# select columns corresponding to embeddings\n",
    "select = [i for i in list(df.columns) if i not in [\"Sentiment\", \"tweet_clean\", \"text_pos\", \"target_encoded\"]]\n",
    "\n",
    "X_train = df_train[select]\n",
    "X_test = df_test[select]\n",
    "model_name = \"XGB_EMB\""
   ]
  },
  {
   "cell_type": "code",
   "execution_count": 22,
   "metadata": {},
   "outputs": [],
   "source": [
    "pipe = Pipeline([('clf', XGBClassifier())])\n",
    "\n",
    "param_grid = {'clf__n_estimators': [100, 200, 300, 400],\n",
    "              'clf__learning_rate': [0.001, 0.01, 0.1, 1.0],\n",
    "              'clf__max_depth': [1, 5, 10]}\n",
    "\n",
    "model = GridSearchCV(pipe, param_grid,\n",
    "                     scoring='roc_auc',\n",
    "                     cv=cv, \n",
    "                     n_jobs=-1, \n",
    "                     verbose = 1) "
   ]
  },
  {
   "cell_type": "code",
   "execution_count": 23,
   "metadata": {},
   "outputs": [
    {
     "name": "stdout",
     "output_type": "stream",
     "text": [
      "Fitting 5 folds for each of 48 candidates, totalling 240 fits\n"
     ]
    },
    {
     "name": "stderr",
     "output_type": "stream",
     "text": [
      "[Parallel(n_jobs=-1)]: Using backend LokyBackend with 8 concurrent workers.\n",
      "[Parallel(n_jobs=-1)]: Done  34 tasks      | elapsed: 11.7min\n",
      "[Parallel(n_jobs=-1)]: Done 184 tasks      | elapsed: 94.3min\n",
      "[Parallel(n_jobs=-1)]: Done 240 out of 240 | elapsed: 111.2min finished\n"
     ]
    },
    {
     "name": "stdout",
     "output_type": "stream",
     "text": [
      "[23:27:16] WARNING: C:/Users/Administrator/workspace/xgboost-win64_release_1.4.0/src/learner.cc:1095: Starting in XGBoost 1.3.0, the default evaluation metric used with the objective 'binary:logistic' was changed from 'error' to 'logloss'. Explicitly set eval_metric if you'd like to restore the old behavior.\n"
     ]
    },
    {
     "data": {
      "text/plain": [
       "['XGB_EMB.joblib']"
      ]
     },
     "execution_count": 23,
     "metadata": {},
     "output_type": "execute_result"
    }
   ],
   "source": [
    "model.fit(X_train, y_train)\n",
    "\n",
    "# save fitted model\n",
    "joblib.dump(model, model_name + \".joblib\")"
   ]
  },
  {
   "cell_type": "code",
   "execution_count": 45,
   "metadata": {},
   "outputs": [],
   "source": [
    "# load fitted model\n",
    "model = joblib.load(model_name + \".joblib\")"
   ]
  },
  {
   "cell_type": "code",
   "execution_count": 46,
   "metadata": {},
   "outputs": [
    {
     "name": "stdout",
     "output_type": "stream",
     "text": [
      "Best parameter set: {'clf__learning_rate': 0.1, 'clf__max_depth': 5, 'clf__n_estimators': 400} \n"
     ]
    }
   ],
   "source": [
    "params, auc, accuracy = test_performance(model, X_test)\n",
    "\n",
    "auc_res.append( auc )\n",
    "acc.append( accuracy )\n",
    "\n",
    "print('Best parameter set: %s ' % params)"
   ]
  },
  {
   "cell_type": "markdown",
   "metadata": {},
   "source": [
    "# Compare models\n",
    "\n",
    "* $Accuracy = \\frac{TP + TN}{TP+ TN + FP + FN}$\n",
    "* AUC ROC (Area Under the Receiver Operating Characteristics): measure of how much the model is capable of distinguishing between classes. The higher the AUC, the better the model is at predicting 0 classes as 0 and 1 classes as 1."
   ]
  },
  {
   "cell_type": "code",
   "execution_count": 51,
   "metadata": {},
   "outputs": [],
   "source": [
    "model_names = [\"NaiveBayes\", \"RF_BOW\", \"RF_BPOS\", \"RF_EMB\", \"ADA_BOW\", \"ADA_BPOS\", \"ADA_EMB\", \n",
    "              \"XGB_BOW\", \"XGB_BPOS\", \"XGB_EMB\"]\n",
    "\n",
    "accuracy = dict()\n",
    "for n in range(len(model_names)): \n",
    "    accuracy[model_names[n]] = acc[n]\n",
    "\n",
    "auc_roc = dict()\n",
    "for n in range(len(model_names)): \n",
    "    auc_roc[model_names[n]] = auc_res[n]"
   ]
  },
  {
   "cell_type": "code",
   "execution_count": 52,
   "metadata": {},
   "outputs": [
    {
     "data": {
      "text/plain": [
       "<BarContainer object of 10 artists>"
      ]
     },
     "execution_count": 52,
     "metadata": {},
     "output_type": "execute_result"
    },
    {
     "data": {
      "image/png": "[encoded data removed]",
      "text/plain": [
       "<Figure size 1440x504 with 1 Axes>"
      ]
     },
     "metadata": {
      "needs_background": "light"
     },
     "output_type": "display_data"
    }
   ],
   "source": [
    "fig, ax = plt.subplots(figsize=(20,7))\n",
    "plt.xlabel('Accuracy')\n",
    "keys = accuracy.keys()\n",
    "values = accuracy.values()\n",
    "\n",
    "plt.bar(keys, values)"
   ]
  },
  {
   "cell_type": "code",
   "execution_count": 53,
   "metadata": {},
   "outputs": [
    {
     "data": {
      "text/plain": [
       "<BarContainer object of 10 artists>"
      ]
     },
     "execution_count": 53,
     "metadata": {},
     "output_type": "execute_result"
    },
    {
     "data": {
      "image/png": "[encoded data removed]",
      "text/plain": [
       "<Figure size 1440x504 with 1 Axes>"
      ]
     },
     "metadata": {
      "needs_background": "light"
     },
     "output_type": "display_data"
    }
   ],
   "source": [
    "fig, ax = plt.subplots(figsize=(20,7))\n",
    "plt.xlabel('AUC ROC')\n",
    "keys = auc_roc.keys()\n",
    "values = auc_roc.values()\n",
    "\n",
    "plt.bar(keys, values)"
   ]
  },
  {
   "cell_type": "code",
   "execution_count": null,
   "metadata": {},
   "outputs": [],
   "source": []
  }
 ],
 "metadata": {
  "kernelspec": {
   "display_name": "Python 3",
   "language": "python",
   "name": "python3"
  },
  "language_info": {
   "codemirror_mode": {
    "name": "ipython",
    "version": 3
   },
   "file_extension": ".py",
   "mimetype": "text/x-python",
   "name": "python",
   "nbconvert_exporter": "python",
   "pygments_lexer": "ipython3",
   "version": "3.8.3"
  }
 },
 "nbformat": 4,
 "nbformat_minor": 4
}
